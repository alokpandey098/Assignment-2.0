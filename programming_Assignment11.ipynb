{
 "cells": [
  {
   "cell_type": "markdown",
   "id": "b136f8a1-d669-4fe6-be5b-f9fb025de1e3",
   "metadata": {},
   "source": [
    "Q 1. Write a Python program to find words which are greater than given length k?"
   ]
  },
  {
   "cell_type": "code",
   "execution_count": 4,
   "id": "9ad0d1a5-0248-40aa-a3ce-76dc9631e012",
   "metadata": {},
   "outputs": [],
   "source": [
    "#Answer ...\n",
    "\n",
    "def find_word(k,w):\n",
    "    new_lst=[]\n",
    "    for i in w:\n",
    "        if len(i)>k:\n",
    "            new_lst.append(i)\n",
    "    return new_lst"
   ]
  },
  {
   "cell_type": "code",
   "execution_count": 5,
   "id": "1cbdbac1-0a8e-43d6-930e-fb7d051032dd",
   "metadata": {},
   "outputs": [
    {
     "name": "stdout",
     "output_type": "stream",
     "text": [
      "['iNeurone', 'science', 'banglore']\n"
     ]
    }
   ],
   "source": [
    "w=['iNeurone','data','science','city','banglore']\n",
    "new_lst=find_word(5,w)\n",
    "print(new_lst)\n",
    "# new_lst"
   ]
  },
  {
   "cell_type": "markdown",
   "id": "e8368869-73d5-4bd1-9e02-e90a9f732cdc",
   "metadata": {},
   "source": [
    "Q 2. Write a Python program for removing i-th character from a string?"
   ]
  },
  {
   "cell_type": "code",
   "execution_count": 6,
   "id": "580d0b8c-3ec0-4c8f-8027-aba98bccfaad",
   "metadata": {},
   "outputs": [
    {
     "name": "stdout",
     "output_type": "stream",
     "text": [
      "Helo iNeurone\n"
     ]
    }
   ],
   "source": [
    "# Answer ...\n",
    "\n",
    "def remove_char(word, i):\n",
    "    return word[:i] + word[i+1:]\n",
    "\n",
    "word =\"Hello iNeurone\"\n",
    "print(remove_char(word,3))\n"
   ]
  },
  {
   "cell_type": "markdown",
   "id": "95521e99-2bed-4609-b364-1763de09f0bf",
   "metadata": {},
   "source": [
    "Q 3. Write a Python program to split and join a string?\n"
   ]
  },
  {
   "cell_type": "code",
   "execution_count": 30,
   "id": "68a2d464-65bc-4b90-bfc7-44a4a2c23582",
   "metadata": {},
   "outputs": [
    {
     "name": "stdout",
     "output_type": "stream",
     "text": [
      "Hello,World in python\n"
     ]
    }
   ],
   "source": [
    "# Answer ....\n",
    "\n",
    "def split_word(w,d):\n",
    "    \n",
    "    word= w.split(d)\n",
    "    \n",
    "    return d.join(word)\n",
    "\n",
    "# test the function\n",
    "w= 'Hello,World in python'\n",
    "print(split_word(w,',' ))"
   ]
  },
  {
   "cell_type": "markdown",
   "id": "d1a3d42c-9a20-4241-8635-9220c28648af",
   "metadata": {},
   "source": [
    "Q 4. Write a Python to check if a given string is binary string or not?"
   ]
  },
  {
   "cell_type": "code",
   "execution_count": 76,
   "id": "12178206-97c7-4c90-aec4-4b32ae79f0e6",
   "metadata": {},
   "outputs": [],
   "source": [
    "# Answer ...\n",
    "\n",
    "def is_binary(num):\n",
    "    return all(c == '0' or c == '1' for c in num)"
   ]
  },
  {
   "cell_type": "code",
   "execution_count": 77,
   "id": "939b482d-b341-45c9-9148-87bf21692795",
   "metadata": {},
   "outputs": [
    {
     "name": "stdout",
     "output_type": "stream",
     "text": [
      "False\n",
      "True\n"
     ]
    }
   ],
   "source": [
    "num='01010101a'\n",
    "num1='010101010'\n",
    "print(is_binary(num))\n",
    "print(is_binary(num1))"
   ]
  },
  {
   "cell_type": "markdown",
   "id": "e2fdc285-c15f-489e-a1f6-614b8e1992db",
   "metadata": {},
   "source": [
    "Q 5. Write a Python program to find uncommon words from two Strings?"
   ]
  },
  {
   "cell_type": "code",
   "execution_count": 79,
   "id": "4d3d811c-15dd-4a57-b6f4-8614a2596c6d",
   "metadata": {},
   "outputs": [],
   "source": [
    "# Answer...\n",
    "\n",
    "def uncommon(str1,str2):\n",
    "    w1=str1.split()\n",
    "    w2=str2.split()\n",
    "    \n",
    "    uncomon_word=set(w1)^set(w2)\n",
    "    return list( uncomon_word)"
   ]
  },
  {
   "cell_type": "code",
   "execution_count": 81,
   "id": "b2ec04c6-67fd-473b-84c9-adcb35fbaff6",
   "metadata": {},
   "outputs": [
    {
     "name": "stdout",
     "output_type": "stream",
     "text": [
      "['want', 'to', 'future']\n"
     ]
    }
   ],
   "source": [
    "str1=\"I study in iNeurone classes\"\n",
    "str2=\"I want to study in iNeurone classes in future\"\n",
    "print(uncommon(str1,str2))"
   ]
  },
  {
   "cell_type": "markdown",
   "id": "b00283b9-83c8-4946-8bb9-b2d9beacd78b",
   "metadata": {},
   "source": [
    "Q 6. Write a Python to find all duplicate characters in string?"
   ]
  },
  {
   "cell_type": "code",
   "execution_count": 94,
   "id": "f89d4baf-374b-4980-87e3-559cabccc9d4",
   "metadata": {},
   "outputs": [],
   "source": [
    "# Answer....\n",
    "def find_dup(s):\n",
    "    l=[]\n",
    "    for i in s:\n",
    "        if s.count(i) >1:\n",
    "            l.append(i)\n",
    "    return l\n",
    "    "
   ]
  },
  {
   "cell_type": "code",
   "execution_count": 99,
   "id": "ad86af85-8d73-4646-a10a-352fea98d053",
   "metadata": {},
   "outputs": [
    {
     "data": {
      "text/plain": [
       "['e', 'e']"
      ]
     },
     "execution_count": 99,
     "metadata": {},
     "output_type": "execute_result"
    }
   ],
   "source": [
    "s=\"iNeurone\"\n",
    "find_dup(s)"
   ]
  },
  {
   "cell_type": "markdown",
   "id": "17904712-e807-48df-af37-f1e78e405512",
   "metadata": {},
   "source": [
    "Q 7. Write a Python Program to check if a string contains any special character?"
   ]
  },
  {
   "cell_type": "code",
   "execution_count": 101,
   "id": "989c0aa0-87e3-4bc8-b998-ad9d16319c31",
   "metadata": {},
   "outputs": [
    {
     "name": "stdout",
     "output_type": "stream",
     "text": [
      "True\n",
      "False\n"
     ]
    }
   ],
   "source": [
    "import re\n",
    "\n",
    "def check_special_char(s):\n",
    "\n",
    "    return bool(re.search(r'[^a-zA-Z0-9]', s))\n",
    "\n",
    "\n",
    "s1 = 'iNeurone!'\n",
    "s2 = 'Banglore'\n",
    "print(check_special_char(s1))  \n",
    "print(check_special_char(s2))  \n"
   ]
  },
  {
   "cell_type": "code",
   "execution_count": null,
   "id": "3b707bd3-b22e-4733-b1ad-7e3769a4f7db",
   "metadata": {},
   "outputs": [],
   "source": []
  }
 ],
 "metadata": {
  "kernelspec": {
   "display_name": "Python 3 (ipykernel)",
   "language": "python",
   "name": "python3"
  },
  "language_info": {
   "codemirror_mode": {
    "name": "ipython",
    "version": 3
   },
   "file_extension": ".py",
   "mimetype": "text/x-python",
   "name": "python",
   "nbconvert_exporter": "python",
   "pygments_lexer": "ipython3",
   "version": "3.10.6"
  }
 },
 "nbformat": 4,
 "nbformat_minor": 5
}
