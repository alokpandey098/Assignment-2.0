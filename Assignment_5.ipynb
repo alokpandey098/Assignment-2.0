{
  "nbformat": 4,
  "nbformat_minor": 0,
  "metadata": {
    "colab": {
      "provenance": []
    },
    "kernelspec": {
      "name": "python3",
      "display_name": "Python 3"
    },
    "language_info": {
      "name": "python"
    }
  },
  "cells": [
    {
      "cell_type": "markdown",
      "source": [
        "#Q .1. What does an empty dictionary's code look like?\n",
        "\n",
        "#Answer ---\n",
        "\n",
        "empty dictionary look like, d={} ."
      ],
      "metadata": {
        "id": "7JY8FPH5iWTA"
      }
    },
    {
      "cell_type": "code",
      "execution_count": 1,
      "metadata": {
        "id": "8tCg7m90iORM"
      },
      "outputs": [],
      "source": [
        "d={}\n"
      ]
    },
    {
      "cell_type": "markdown",
      "source": [
        "\n",
        "\n",
        "---\n",
        "\n"
      ],
      "metadata": {
        "id": "mv6b_VknjIVb"
      }
    },
    {
      "cell_type": "markdown",
      "source": [
        "#Q .2. What is the value of a dictionary value with the key 'foo' and the value 42?\n",
        "\n",
        "#Answer ---\n",
        "{\"foo\":42}"
      ],
      "metadata": {
        "id": "3zyf-oBmjJ7o"
      }
    },
    {
      "cell_type": "code",
      "source": [
        "d={\"foo\":42}\n",
        "d"
      ],
      "metadata": {
        "colab": {
          "base_uri": "https://localhost:8080/"
        },
        "id": "hJHcSSsHi3RX",
        "outputId": "a3dd654c-2577-41f6-8445-6cce1d84b5e1"
      },
      "execution_count": 2,
      "outputs": [
        {
          "output_type": "execute_result",
          "data": {
            "text/plain": [
              "{'foo': 42}"
            ]
          },
          "metadata": {},
          "execution_count": 2
        }
      ]
    },
    {
      "cell_type": "markdown",
      "source": [
        "\n",
        "\n",
        "---\n",
        "\n"
      ],
      "metadata": {
        "id": "PcQbWhSOkCTX"
      }
    },
    {
      "cell_type": "markdown",
      "source": [
        "#Q .3. What is the most significant distinction between a dictionary and a list?\n",
        "\n",
        "#Answer ----\n",
        "A list is an ordered sequence of objects, whereas dictionaries are unordered sets. However, the main difference is that items in dictionaries are accessed via keys and not via their position.but in case of list we can access any element via index ."
      ],
      "metadata": {
        "id": "ozpD6y1nkFeu"
      }
    },
    {
      "cell_type": "markdown",
      "source": [
        "\n",
        "\n",
        "---\n",
        "\n"
      ],
      "metadata": {
        "id": "eCuveKoVmS38"
      }
    },
    {
      "cell_type": "markdown",
      "source": [
        "#Q .4. What happens if you try to access spam['foo'] if spam is {'bar': 100}?\n",
        "\n",
        "#Answer ----\n",
        "When we try to access spam['foo'] ,than we get keyError . "
      ],
      "metadata": {
        "id": "bWYC-0xDmT1z"
      }
    },
    {
      "cell_type": "markdown",
      "source": [
        "#Q .5. If a dictionary is stored in spam, what is the difference between the expressions 'cat' in spam and 'cat' in spam.keys()?\n",
        "\n",
        "#Anawer ---\n",
        "When we run the code ,then we saw that there is no difference in output ,because there is in operator which check whether a value exist as key in the dictionary ."
      ],
      "metadata": {
        "id": "zvnEwu9cnKpy"
      }
    },
    {
      "cell_type": "markdown",
      "source": [
        "\n",
        "\n",
        "---\n",
        "\n"
      ],
      "metadata": {
        "id": "Fpaa45F5q-6N"
      }
    },
    {
      "cell_type": "markdown",
      "source": [
        "#Q .6. If a dictionary is stored in spam, what is the difference between the expressions 'cat' in spam and 'cat' in spam.values()?\n",
        "\n",
        "#Answer ----\n",
        "When we run the code then ,the expression 'cat' in spam check whether 'cat' exist in the dictionary or not .while the expression \"cat\" in spam.values() check whether 'cat' exist as a value for one of the key in spam."
      ],
      "metadata": {
        "id": "-WsfOlvwrAq8"
      }
    },
    {
      "cell_type": "markdown",
      "source": [
        "\n",
        "\n",
        "---\n",
        "\n"
      ],
      "metadata": {
        "id": "xij2dcfEuiaU"
      }
    },
    {
      "cell_type": "markdown",
      "source": [
        "#Q .7. What is a shortcut for the following code?\n",
        "if 'color' not in spam:\n",
        "\n",
        "spam['color'] = 'black"
      ],
      "metadata": {
        "id": "ORWbPpeiukyC"
      }
    },
    {
      "cell_type": "code",
      "source": [
        "# ANSWER ---\n",
        "\n",
        "Spam={}\n",
        "Spam.setdefault('color','black')\n",
        "Spam"
      ],
      "metadata": {
        "colab": {
          "base_uri": "https://localhost:8080/"
        },
        "id": "ib1vFTt_vQej",
        "outputId": "ee87637b-1ae0-448c-da70-123792fc3e1a"
      },
      "execution_count": 7,
      "outputs": [
        {
          "output_type": "execute_result",
          "data": {
            "text/plain": [
              "{'color': 'black'}"
            ]
          },
          "metadata": {},
          "execution_count": 7
        }
      ]
    },
    {
      "cell_type": "markdown",
      "source": [
        "\n",
        "\n",
        "---\n",
        "\n"
      ],
      "metadata": {
        "id": "FL857PW0yJmU"
      }
    },
    {
      "cell_type": "markdown",
      "source": [
        "#Q .8. How do you \"pretty print\" dictionary values using which module and function?\n",
        "\n",
        "#Answer ----\n",
        "The pprint module provides a capability to “pretty-print” arbitrary Python data structures in a form which can be used as input to the interpreter .\n",
        "\n",
        "pprint..pprint() ."
      ],
      "metadata": {
        "id": "MgVjg4FFyMdF"
      }
    },
    {
      "cell_type": "code",
      "source": [
        "from IPython.core.display import Pretty\n",
        "from IPython.utils.sysinfo import pprint\n",
        "pprint.pprint('pretty print')"
      ],
      "metadata": {
        "colab": {
          "base_uri": "https://localhost:8080/"
        },
        "id": "j25Po8qLy9EM",
        "outputId": "b000747c-b2bf-45b2-abc2-c4ac3740c04b"
      },
      "execution_count": 10,
      "outputs": [
        {
          "output_type": "stream",
          "name": "stdout",
          "text": [
            "'pretty print'\n"
          ]
        }
      ]
    },
    {
      "cell_type": "markdown",
      "source": [
        "\n",
        "\n",
        "---\n",
        "\n"
      ],
      "metadata": {
        "id": "gJhJphv5z-QH"
      }
    }
  ]
}