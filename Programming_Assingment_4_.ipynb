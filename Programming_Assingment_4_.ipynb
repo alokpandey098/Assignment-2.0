{
  "nbformat": 4,
  "nbformat_minor": 0,
  "metadata": {
    "colab": {
      "provenance": []
    },
    "kernelspec": {
      "name": "python3",
      "display_name": "Python 3"
    },
    "language_info": {
      "name": "python"
    }
  },
  "cells": [
    {
      "cell_type": "markdown",
      "source": [
        "# Q .1.\tWrite a Python Program to Find the Factorial of a Number?\n",
        "\n"
      ],
      "metadata": {
        "id": "abAxi27qeAiW"
      }
    },
    {
      "cell_type": "code",
      "execution_count": null,
      "metadata": {
        "colab": {
          "base_uri": "https://localhost:8080/"
        },
        "id": "k3gzePZhd1uy",
        "outputId": "3fb31119-b51f-401b-a2d4-ab2fb712f78f"
      },
      "outputs": [
        {
          "output_type": "stream",
          "name": "stdout",
          "text": [
            "Enter the number : 4\n",
            "24\n"
          ]
        }
      ],
      "source": [
        "# Answer .....\n",
        "num=int(input(\"Enter the number : \"))\n",
        "factorial = 1\n",
        "for i in range(1,num+1):\n",
        "  factorial =factorial*i\n",
        "print(factorial)"
      ]
    },
    {
      "cell_type": "markdown",
      "source": [
        "# Q .2.\tWrite a Python Program to Display the multiplication Table?"
      ],
      "metadata": {
        "id": "IrQoSTPeiRY8"
      }
    },
    {
      "cell_type": "code",
      "source": [
        "# Answer ......\n",
        "tab =int(input(\"Enter the number : \"))\n",
        "for i in range(1,11):\n",
        "  print(tab, 'x' , i ,\"= \" ,tab*i)"
      ],
      "metadata": {
        "colab": {
          "base_uri": "https://localhost:8080/"
        },
        "id": "OIjph1IvifAa",
        "outputId": "739674c9-5bfd-441f-96ec-394f19118532"
      },
      "execution_count": null,
      "outputs": [
        {
          "output_type": "stream",
          "name": "stdout",
          "text": [
            "Enter the number : 12\n",
            "12 x 1 =  12\n",
            "12 x 2 =  24\n",
            "12 x 3 =  36\n",
            "12 x 4 =  48\n",
            "12 x 5 =  60\n",
            "12 x 6 =  72\n",
            "12 x 7 =  84\n",
            "12 x 8 =  96\n",
            "12 x 9 =  108\n",
            "12 x 10 =  120\n"
          ]
        }
      ]
    },
    {
      "cell_type": "markdown",
      "source": [
        "# Q .3.\tWrite a Python Program to Print the Fibonacci sequence?"
      ],
      "metadata": {
        "id": "bi2w6KehmNYs"
      }
    },
    {
      "cell_type": "code",
      "source": [
        "# Answer ....\n",
        "num= int(input(\"Enter the number : \"))\n",
        "a = 0\n",
        "b = 1\n",
        "sum = 0\n",
        "count = 1\n",
        "print(\"Fibonacci series is: \", end = \" \")\n",
        "while(count <= num):\n",
        "  count += 1\n",
        "  print(a, end=\" \")\n",
        "  a = b\n",
        "  b = sum\n",
        "  sum = a + b"
      ],
      "metadata": {
        "colab": {
          "base_uri": "https://localhost:8080/"
        },
        "id": "WDcGzijhmTtq",
        "outputId": "cb255100-22bb-4fb7-f581-76b36047f66c"
      },
      "execution_count": null,
      "outputs": [
        {
          "output_type": "stream",
          "name": "stdout",
          "text": [
            "Enter the number : 10\n",
            "Fibonacci series is:  0 1 0 1 1 2 3 5 8 13 "
          ]
        }
      ]
    },
    {
      "cell_type": "markdown",
      "source": [
        "# Q .4.\tWrite a Python Program to Check Armstrong Number?"
      ],
      "metadata": {
        "id": "HTltghdLsDr5"
      }
    },
    {
      "cell_type": "code",
      "source": [
        "# Answer ....\n",
        "num = int(input(\"Enter a number: \"))\n",
        "\n",
        "sum = 0\n",
        "\n",
        "temp = num\n",
        "while temp > 0:\n",
        "   digit = temp % 10\n",
        "   sum += digit ** 3\n",
        "   temp //= 10\n",
        "\n",
        "if num == sum:\n",
        "   print(num,\"is an Armstrong number\")\n",
        "else:\n",
        "   print(num,\"is not an Armstrong number\")"
      ],
      "metadata": {
        "colab": {
          "base_uri": "https://localhost:8080/"
        },
        "id": "_Am0iMDSsOIj",
        "outputId": "711b2e57-1c3a-496b-d1ee-793a3e305b8c"
      },
      "execution_count": null,
      "outputs": [
        {
          "output_type": "stream",
          "name": "stdout",
          "text": [
            "Enter a number: 3\n",
            "3 is not an Armstrong number\n"
          ]
        }
      ]
    },
    {
      "cell_type": "markdown",
      "source": [
        "# Q .5.\tWrite a Python Program to Find Armstrong Number in an Interval?"
      ],
      "metadata": {
        "id": "xR5KOSkQtfqy"
      }
    },
    {
      "cell_type": "code",
      "source": [
        "# Answer....\n",
        "\n",
        "lower =int(input(\"Enter the first number : \"))\n",
        "upper =int(input(\"Enter the second number : \"))\n",
        "\n",
        "for num in range(lower, upper + 1):\n",
        "   order = len(str(num))\n",
        "    \n",
        "   sum = 0\n",
        "\n",
        "   temp = num\n",
        "   while temp > 0:\n",
        "       digit = temp % 10\n",
        "       sum += digit ** order\n",
        "       temp //= 10\n",
        "\n",
        "   if num == sum:\n",
        "\n",
        "    print(num)\n"
      ],
      "metadata": {
        "id": "hNuM-2DhtpRh",
        "colab": {
          "base_uri": "https://localhost:8080/"
        },
        "outputId": "015ef761-300c-4b5a-e1f0-a6aeb0f0a617"
      },
      "execution_count": 4,
      "outputs": [
        {
          "output_type": "stream",
          "name": "stdout",
          "text": [
            "Enter the first number : 100\n",
            "Enter the second number : 2000\n",
            "153\n",
            "370\n",
            "371\n",
            "407\n",
            "1634\n"
          ]
        }
      ]
    },
    {
      "cell_type": "markdown",
      "source": [
        "# Q .6.\tWrite a Python Program to Find the Sum of Natural Numbers?"
      ],
      "metadata": {
        "id": "_DLVZZ8gtp5C"
      }
    },
    {
      "cell_type": "code",
      "source": [
        "# Answer ...\n",
        "\n",
        "num =int(input(\"Enter the number : \"))\n",
        "\n",
        "if num < 0:\n",
        "   print(\"Enter a positive number\")\n",
        "else:\n",
        "   sum = 0\n",
        "   \n",
        "   while(num > 0):\n",
        "       sum += num\n",
        "       num -= 1\n",
        "   print(\"The sum is\", sum)\n"
      ],
      "metadata": {
        "id": "_HNCIiG9tyY7",
        "colab": {
          "base_uri": "https://localhost:8080/"
        },
        "outputId": "60492fcb-937a-437f-9e9b-2e1d9f56b23e"
      },
      "execution_count": 9,
      "outputs": [
        {
          "output_type": "stream",
          "name": "stdout",
          "text": [
            "Enter the number : 10\n",
            "The sum is 55\n"
          ]
        }
      ]
    }
  ]
}