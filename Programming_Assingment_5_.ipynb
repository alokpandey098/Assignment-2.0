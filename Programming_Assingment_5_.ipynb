{
  "nbformat": 4,
  "nbformat_minor": 0,
  "metadata": {
    "colab": {
      "provenance": []
    },
    "kernelspec": {
      "name": "python3",
      "display_name": "Python 3"
    },
    "language_info": {
      "name": "python"
    }
  },
  "cells": [
    {
      "cell_type": "markdown",
      "source": [
        "# Q .1.\tWrite a Python Program to Find LCM?\n",
        "\n"
      ],
      "metadata": {
        "id": "0rCQCWKyPpgO"
      }
    },
    {
      "cell_type": "code",
      "execution_count": 1,
      "metadata": {
        "id": "A9C3Rh43Payx",
        "colab": {
          "base_uri": "https://localhost:8080/"
        },
        "outputId": "6d703178-5806-4a4a-bb90-3bc490dc271f"
      },
      "outputs": [
        {
          "output_type": "stream",
          "name": "stdout",
          "text": [
            "Enter the first number: 12\n",
            "Enter the second number: 8\n",
            "First Number is:  12\n",
            "Second Number is:  8\n",
            "LCM of the two numbers is:  24\n"
          ]
        }
      ],
      "source": [
        "# Answer ....\n",
        "a = int(input(\"Enter the first number: \"))\n",
        "b = int(input(\"Enter the second number: \"))\n",
        " \n",
        "HCF = 1\n",
        " \n",
        "for i in range(2,a+1):\n",
        "    if(a%i==0 and b%i==0):\n",
        "        HCF = i\n",
        " \n",
        "print(\"First Number is: \",a)\n",
        "print(\"Second Number is: \",b)\n",
        " \n",
        "LCM = int((a*b)/(HCF))\n",
        "print(\"LCM of the two numbers is: \",LCM)"
      ]
    },
    {
      "cell_type": "markdown",
      "source": [
        "# Q .2.\tWrite a Python Program to Find HCF?"
      ],
      "metadata": {
        "id": "33ee998fWXek"
      }
    },
    {
      "cell_type": "code",
      "source": [
        "# Answer .....\n",
        "\n",
        "a = int(input(\"Enter the first number: \"))\n",
        "b = int(input(\"Enter the second number: \"))\n",
        " \n",
        "HCF = 1\n",
        " \n",
        "for i in range(2,a+1):\n",
        "    if(a%i==0 and b%i==0):\n",
        "        HCF = i\n",
        " \n",
        "print(\"First Number is: \",a)\n",
        "print(\"Second Number is: \",b)\n",
        "print(\"HCF of the numbers is: \",HCF)"
      ],
      "metadata": {
        "colab": {
          "base_uri": "https://localhost:8080/"
        },
        "id": "INWbBrFHWaVB",
        "outputId": "8515ebb8-a393-4a4c-8044-8577e1748ce8"
      },
      "execution_count": 2,
      "outputs": [
        {
          "output_type": "stream",
          "name": "stdout",
          "text": [
            "Enter the first number: 14\n",
            "Enter the second number: 12\n",
            "First Number is:  14\n",
            "Second Number is:  12\n",
            "HCF of the numbers is:  2\n"
          ]
        }
      ]
    },
    {
      "cell_type": "markdown",
      "source": [
        "# Q .3.\tWrite a Python Program to Convert Decimal to Binary, Octal and Hexadecimal?"
      ],
      "metadata": {
        "id": "3rXhyaqmW4dS"
      }
    },
    {
      "cell_type": "code",
      "source": [
        "# Answer ...\n",
        "dec =int(input(\"Enter decimal number \"))\n",
        "print(\"The decimal value of \",dec ,\"is\")\n",
        "print(bin(dec),\" in binary .\")\n",
        "print(oct(dec),\" in octal .\")\n",
        "print(hex(dec),\" in hexadecimal .\")"
      ],
      "metadata": {
        "colab": {
          "base_uri": "https://localhost:8080/"
        },
        "id": "CJjR6YxGWlwh",
        "outputId": "d36e616f-dfb3-44fd-edd3-cb61adb6ab6b"
      },
      "execution_count": 3,
      "outputs": [
        {
          "output_type": "stream",
          "name": "stdout",
          "text": [
            "Enter decimal number 244\n",
            "The decimal value of  244 is\n",
            "0b11110100  in binary .\n",
            "0o364  in octal .\n",
            "0xf4  in hexadecimal .\n"
          ]
        }
      ]
    },
    {
      "cell_type": "markdown",
      "source": [
        "# Q .4.\tWrite a Python Program To Find ASCII value of a character?"
      ],
      "metadata": {
        "id": "CEjllAMkYv05"
      }
    },
    {
      "cell_type": "code",
      "source": [
        "# Answer ....\n",
        "y=input(\"Enter the alphabet :\")\n",
        "print(\"The ASCII value of \",y,\" is : \",ord(y))"
      ],
      "metadata": {
        "colab": {
          "base_uri": "https://localhost:8080/"
        },
        "id": "de8CdTCpY2ZD",
        "outputId": "ca1124c9-754f-440e-b282-c4e66f687566"
      },
      "execution_count": 12,
      "outputs": [
        {
          "output_type": "stream",
          "name": "stdout",
          "text": [
            "Enter the alphabet :b\n",
            "The ASCII value of  b  is :  98\n"
          ]
        }
      ]
    },
    {
      "cell_type": "markdown",
      "source": [
        "# Q .5.\tWrite a Python Program to Make a Simple Calculator with 4 basic mathematical operations?"
      ],
      "metadata": {
        "id": "_U6irLnGbE8z"
      }
    },
    {
      "cell_type": "code",
      "source": [
        "# Answer ...\n",
        "num1 =int(input(\"Enter the first digit :\"))\n",
        "num2 =int(input(\"Enter the second digit :\"))\n",
        "print(\" \")\n",
        "\n",
        "print(\"Choose on of them : 'Add ' ,'Sub ' ,'Mul ' ,'Div ' \" )\n",
        "\n",
        "opr =input(\"Enter operations :\")\n",
        "print(\" \")\n",
        "\n",
        "if opr == \"Add\" :\n",
        "  print(\"Addition of \",num1 ,\"and\" ,num2, \"is :\",num1+num2)\n",
        "elif opr ==\"Sub\" :\n",
        "  print(\"Substraction of \",num1 ,\"and\" ,num2, \"is :\",num1-num2)\n",
        "elif opr ==\"Mul\" :\n",
        "  print(\"Multiplication of \",num1 ,\"and\" ,num2, \"is :\",num1*num2)\n",
        "elif opr ==\"Div\" :\n",
        "  print(\"Division of \",num1 ,\"and\" ,num2, \"is :\",num1/num2)\n",
        "else:\n",
        "  print(\"Please enter valid operation ....\")"
      ],
      "metadata": {
        "colab": {
          "base_uri": "https://localhost:8080/"
        },
        "id": "TNM4MukMbPbB",
        "outputId": "30a123ff-1af6-466b-fc5f-4616fdc27843"
      },
      "execution_count": 21,
      "outputs": [
        {
          "output_type": "stream",
          "name": "stdout",
          "text": [
            "Enter the first digit :25\n",
            "Enter the second digit :65\n",
            " \n",
            "Choose on of them : 'Add ' ,'Sub ' ,'Mul ' ,'Div ' \n",
            "Enter operations :Mul\n",
            " \n",
            "Multiplication of  25 and 65 is : 1625\n"
          ]
        }
      ]
    }
  ]
}