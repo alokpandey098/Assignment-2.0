{
  "nbformat": 4,
  "nbformat_minor": 0,
  "metadata": {
    "colab": {
      "provenance": []
    },
    "kernelspec": {
      "name": "python3",
      "display_name": "Python 3"
    },
    "language_info": {
      "name": "python"
    }
  },
  "cells": [
    {
      "cell_type": "markdown",
      "source": [
        "#Q 1. Write a Python program to Extract Unique values dictionary values?"
      ],
      "metadata": {
        "id": "E-tBp_GSHIwH"
      }
    },
    {
      "cell_type": "code",
      "source": [
        "dic ={'One':1,'Two':2,'Three':3,'Four':4,'Five':5,'Six':6,'Seven':7,'Eight':8,'Nine':9,'Ten':10}\n",
        "unique_value=set(dic.values())\n",
        "print('Original dictionary ; ',dic)\n",
        "print('Unique Values ; ',unique_value)"
      ],
      "metadata": {
        "colab": {
          "base_uri": "https://localhost:8080/"
        },
        "id": "VKpYUU-9HN8h",
        "outputId": "9414e0c4-740d-4cbf-f492-e4b2064293fa"
      },
      "execution_count": null,
      "outputs": [
        {
          "output_type": "stream",
          "name": "stdout",
          "text": [
            "Original dictionary ;  {'One': 1, 'Two': 2, 'Three': 3, 'Four': 4, 'Five': 5, 'Six': 6, 'Seven': 7, 'Eight': 8, 'Nine': 9, 'Ten': 10}\n",
            "Unique Values ;  {1, 2, 3, 4, 5, 6, 7, 8, 9, 10}\n"
          ]
        }
      ]
    },
    {
      "cell_type": "markdown",
      "source": [
        "#Q 2. Write a Python program to find the sum of all items in a dictionary?"
      ],
      "metadata": {
        "id": "OhGNuBdXIQuh"
      }
    },
    {
      "cell_type": "code",
      "source": [
        "dic ={'One':1,'Two':2,'Three':3,'Four':4,'Five':5,'Six':6,'Seven':7,'Eight':8,'Nine':9,'Ten':10}\n",
        "dict_sum =sum(dic.values())\n",
        "print(\"Sum of all items ; \",dict_sum)"
      ],
      "metadata": {
        "colab": {
          "base_uri": "https://localhost:8080/"
        },
        "id": "UaPiyG21IPfp",
        "outputId": "29f00f4e-ffa4-43e5-e542-7c53ede49b7c"
      },
      "execution_count": null,
      "outputs": [
        {
          "output_type": "stream",
          "name": "stdout",
          "text": [
            "Sum of all items ;  55\n"
          ]
        }
      ]
    },
    {
      "cell_type": "markdown",
      "source": [
        "#Q 3. Write a Python program to Merging two Dictionaries?"
      ],
      "metadata": {
        "id": "KomPJ-AsI4wo"
      }
    },
    {
      "cell_type": "code",
      "source": [
        "dict1 ={'Ram':20,'Shyam':30,'Radha':40,'Jemmy':50}\n",
        "dict2 ={'John':90,'Richa':80,'Virat':18}\n",
        "dict1.update(dict2)\n",
        "print(\"Dictionary after merging : \",dict1)\n",
        "\n",
        "# Another medhod ...\n",
        "dict3 ={**dict1,**dict2}\n",
        "print(\"Dictionary after merging : \",dict3)\n"
      ],
      "metadata": {
        "colab": {
          "base_uri": "https://localhost:8080/"
        },
        "id": "lrNkHan6IyZ6",
        "outputId": "0f509400-652a-4b3f-aafc-50607090b089"
      },
      "execution_count": 8,
      "outputs": [
        {
          "output_type": "stream",
          "name": "stdout",
          "text": [
            "Dictionary after merging :  {'Ram': 20, 'Shyam': 30, 'Radha': 40, 'Jemmy': 50, 'John': 90, 'Richa': 80, 'Virat': 18}\n",
            "Dictionary after merging :  {'Ram': 20, 'Shyam': 30, 'Radha': 40, 'Jemmy': 50, 'John': 90, 'Richa': 80, 'Virat': 18}\n"
          ]
        }
      ]
    },
    {
      "cell_type": "markdown",
      "source": [
        "#Q 4. Write a Python program to convert key-values list to flat dictionary?"
      ],
      "metadata": {
        "id": "JM8SBaz5LBj4"
      }
    },
    {
      "cell_type": "code",
      "source": [
        "lst =[('Rohit',45),('Virat',18),('Surya',63)]\n",
        "new_dict =dict(lst)\n",
        "print(\"Flat dictionary : \",new_dict)"
      ],
      "metadata": {
        "id": "a63JIptUIy7h",
        "colab": {
          "base_uri": "https://localhost:8080/"
        },
        "outputId": "1524a1cd-ed2d-4cae-e151-5c7c5647a981"
      },
      "execution_count": 9,
      "outputs": [
        {
          "output_type": "stream",
          "name": "stdout",
          "text": [
            "Flat dictionary :  {'Rohit': 45, 'Virat': 18, 'Surya': 63}\n"
          ]
        }
      ]
    },
    {
      "cell_type": "markdown",
      "source": [
        "#Q 5. Write a Python program to insertion at the beginning in OrderedDict?"
      ],
      "metadata": {
        "id": "pMVqUo80MYl_"
      }
    },
    {
      "cell_type": "code",
      "source": [
        "from collections import OrderedDict\n",
        "dic1 = OrderedDict([('Rohit',45),('Virat',18),('Surya',63)])\n",
        "dic1.move_to_end(\"Rohit\", last=False)\n",
        "print(dic1)\n"
      ],
      "metadata": {
        "id": "FDWKeURPIzuB",
        "colab": {
          "base_uri": "https://localhost:8080/"
        },
        "outputId": "83b5cb25-6a3b-45b8-9690-781dd6383ea3"
      },
      "execution_count": 12,
      "outputs": [
        {
          "output_type": "stream",
          "name": "stdout",
          "text": [
            "OrderedDict([('Rohit', 45), ('Virat', 18), ('Surya', 63)])\n"
          ]
        }
      ]
    },
    {
      "cell_type": "markdown",
      "source": [
        "#Q 6. Write a Python program to check order of character in string using OrderedDict()?"
      ],
      "metadata": {
        "id": "BjHqynVyNMgw"
      }
    },
    {
      "cell_type": "code",
      "source": [
        "from collections import OrderedDict\n",
        "str1= \"iNeurone\"\n",
        "check_order = OrderedDict.fromkeys(str1)\n",
        "print(check_order)\n"
      ],
      "metadata": {
        "id": "51GPTqPYI0Yf",
        "colab": {
          "base_uri": "https://localhost:8080/"
        },
        "outputId": "1654bfa9-ab5d-4ec4-869d-ac6a91f298ed"
      },
      "execution_count": 13,
      "outputs": [
        {
          "output_type": "stream",
          "name": "stdout",
          "text": [
            "OrderedDict([('i', None), ('N', None), ('e', None), ('u', None), ('r', None), ('o', None), ('n', None)])\n"
          ]
        }
      ]
    },
    {
      "cell_type": "markdown",
      "source": [
        "#Q 7. Write a Python program to sort Python Dictionaries by Key or Value?"
      ],
      "metadata": {
        "id": "eczoqrakNrbm"
      }
    },
    {
      "cell_type": "code",
      "source": [
        "dict5 = {\"t\": 4, \"j\": 2, \"m\": 3, \"e\": 1}\n",
        "sorted_dict = dict(sorted(dict5.items(), key=lambda item: item[0]))\n",
        "print(sorted_dict)\n"
      ],
      "metadata": {
        "id": "96T0g1omI08I",
        "colab": {
          "base_uri": "https://localhost:8080/"
        },
        "outputId": "bdb8c88a-a7a4-488d-8dbb-47297163e5a5"
      },
      "execution_count": 17,
      "outputs": [
        {
          "output_type": "stream",
          "name": "stdout",
          "text": [
            "{'e': 1, 'j': 2, 'm': 3, 't': 4}\n"
          ]
        }
      ]
    }
  ]
}