{
  "nbformat": 4,
  "nbformat_minor": 0,
  "metadata": {
    "colab": {
      "provenance": []
    },
    "kernelspec": {
      "name": "python3",
      "display_name": "Python 3"
    },
    "language_info": {
      "name": "python"
    }
  },
  "cells": [
    {
      "cell_type": "markdown",
      "source": [
        "#Q .1 In what modes should the PdfFileReader() and PdfFileWriter() File objects will be opened?\n",
        "\n",
        "#Answer -->\n",
        "\n",
        "We use read-binary mode ('rb') for PdfFileReader() ,\n",
        "\n",
        "And for PdfFileWriter() we use write-binary mode('wb') .\n"
      ],
      "metadata": {
        "id": "uzjQW7fGax7X"
      }
    },
    {
      "cell_type": "code",
      "execution_count": null,
      "metadata": {
        "id": "rkz5bHmDawky"
      },
      "outputs": [],
      "source": []
    },
    {
      "cell_type": "markdown",
      "source": [
        "# Q .2 From a PdfFileReader object, how do you get a Page object for page 5?\n",
        "\n",
        "#Answer -->\n",
        "\n",
        "The method getPage(4) will return a page object for page 5, since page 0 is the first page."
      ],
      "metadata": {
        "id": "TdTaFBBzcwO_"
      }
    },
    {
      "cell_type": "code",
      "source": [],
      "metadata": {
        "id": "l6iE4MLReFv2"
      },
      "execution_count": 3,
      "outputs": []
    },
    {
      "cell_type": "markdown",
      "source": [
        "#Q .3 What PdfFileReader variable stores the number of pages in the PDF document?\n",
        "\n",
        "#Answer -->\n",
        "\n",
        "The total number of pages in the document is stored in the numPages variable of a PdfFileReader object."
      ],
      "metadata": {
        "id": "mTfQ09AOc7Df"
      }
    },
    {
      "cell_type": "code",
      "source": [],
      "metadata": {
        "id": "VDXZwKKpeFKX"
      },
      "execution_count": null,
      "outputs": []
    },
    {
      "cell_type": "markdown",
      "source": [
        "#Q .4 If a PdfFileReader object’s PDF is encrypted with the password swordfish, what must you do before you can obtain Page objects from it?\n",
        "\n",
        "#Answer -->\n",
        "\n",
        "if we want to read encrypted PDF,then we have to call the decrypt() function and pass the password as a string, in this case it is swordfish. After we call decrypt() with the correct password, you’ll see that calling getPage() no longer causes an error. Call decrypt('swordfish')."
      ],
      "metadata": {
        "id": "0vT4V2QKdBy-"
      }
    },
    {
      "cell_type": "code",
      "source": [],
      "metadata": {
        "id": "Wn1AZQu_eD2m"
      },
      "execution_count": null,
      "outputs": []
    },
    {
      "cell_type": "markdown",
      "source": [
        "#Q .5 What methods do you use to rotate a page?\n",
        "\n",
        "#Answer -->\n",
        "\n",
        "We use rotateClockwise() and rotateCounterclockwise() method to rotate pages of pdf at 90-degree ."
      ],
      "metadata": {
        "id": "Lw-Tlp_xdH_O"
      }
    },
    {
      "cell_type": "code",
      "source": [],
      "metadata": {
        "id": "lKk4P_UreDEn"
      },
      "execution_count": null,
      "outputs": []
    },
    {
      "cell_type": "markdown",
      "source": [
        "#Q .6 What is the difference between a Run object and a Paragraph object?\n",
        "\n",
        "#Answer -->\n",
        "\n",
        "A document contains multiple paragraphs. A paragraph begins on a new line and contains multiple runs. Runs are contiguous groups of charecters within a paragraph."
      ],
      "metadata": {
        "id": "RyNu_NaSdOum"
      }
    },
    {
      "cell_type": "code",
      "source": [],
      "metadata": {
        "id": "DVuwPLBOeCAe"
      },
      "execution_count": null,
      "outputs": []
    },
    {
      "cell_type": "markdown",
      "source": [
        "#Q .7 How do you obtain a list of Paragraph objects for a Document object that’s stored in a variable named doc?\n",
        "\n",
        "#Answer -->\n",
        "\n",
        "By passing len(doc.paragraphs) ,we will obtain a list of Paragraph objects for a Document object that’s stored in a variable named doc ."
      ],
      "metadata": {
        "id": "Fs8eqi89dUOf"
      }
    },
    {
      "cell_type": "code",
      "source": [],
      "metadata": {
        "id": "uIgOEUSTeBNW"
      },
      "execution_count": null,
      "outputs": []
    },
    {
      "cell_type": "markdown",
      "source": [
        "#Q .8 What type of object has bold, underline, italic, strike, and outline variables?\n",
        "\n",
        "#Answer --> \n",
        "\n",
        "Run object has bold, underline, italic, strike, and outline variables."
      ],
      "metadata": {
        "id": "atvfsYltdaCN"
      }
    },
    {
      "cell_type": "code",
      "source": [],
      "metadata": {
        "id": "pfg-EwIWeAY_"
      },
      "execution_count": null,
      "outputs": []
    },
    {
      "cell_type": "markdown",
      "source": [
        "#Q .9 What is the difference between False, True, and None for the bold variable?\n",
        "\n",
        "#Answer -->\n",
        "\n",
        "True always makes the run object bolded and False makes it always not bolded, no matter what the style's bold settings is. None will make the Run object just use the style's bold settings."
      ],
      "metadata": {
        "id": "k0Kqg_9BdhAW"
      }
    },
    {
      "cell_type": "code",
      "source": [],
      "metadata": {
        "id": "fe_5Mdl0d_bm"
      },
      "execution_count": null,
      "outputs": []
    },
    {
      "cell_type": "markdown",
      "source": [
        "#Q .10 How do you create a Document object for a new Word document?\n",
        "\n",
        "#Answer -->\n",
        "\n",
        "mydoc=docx.Document() ,we use this for creating a Document for a new Word document ."
      ],
      "metadata": {
        "id": "g9PChzqZdnN1"
      }
    },
    {
      "cell_type": "code",
      "source": [],
      "metadata": {
        "id": "dSRdaDoKd-LG"
      },
      "execution_count": null,
      "outputs": []
    },
    {
      "cell_type": "markdown",
      "source": [
        "#Q .11 How do you add a paragraph with the text 'Hello, there!' to a Document object stored in a variable named doc?\n",
        "\n",
        "#Answer -->\n",
        "\n",
        "doc.add_paragraph('Hello, there!')"
      ],
      "metadata": {
        "id": "abyAF7YAdsJW"
      }
    },
    {
      "cell_type": "code",
      "source": [],
      "metadata": {
        "id": "e4xk3-dGd8fe"
      },
      "execution_count": null,
      "outputs": []
    },
    {
      "cell_type": "markdown",
      "source": [
        "#Q .12 What integers represent the levels of headings available in Word documents?\n",
        "\n",
        "#Answer -->\n",
        "\n",
        "The arguments to add_heading() are a string of the heading text and an integer from 0 to 4. The integer 0 makes the heading the Title style, which is used for the top of the document. Integers 1 to 4 are for various heading levels, with 1 being the main heading and 4 the lowest subheading. The add_heading() function returns a Paragraph object to save you the step of extracting it from the Document object as a separate step."
      ],
      "metadata": {
        "id": "zU2BVEE0dz4-"
      }
    },
    {
      "cell_type": "code",
      "source": [],
      "metadata": {
        "id": "X3ENnEkLd7M5"
      },
      "execution_count": null,
      "outputs": []
    }
  ]
}