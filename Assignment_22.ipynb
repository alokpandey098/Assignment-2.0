{
 "cells": [
  {
   "cell_type": "markdown",
   "id": "c8fc8e0e-fe9a-401e-a030-62b10cf0c2c7",
   "metadata": {},
   "source": [
    "Question -1.\n",
    "\n",
    "What is the result of the code, and explain?\n",
    "\n",
    "X = 'iNeuron'\n",
    "\n",
    "def func():\n",
    "\n",
    "print(X)\n",
    "\n",
    "func()\n",
    "\n",
    "Answer -\n",
    "\n",
    "\n",
    "\"iNeuron\" is the result of this code.This is because the function \"func\" has access to the global variable \"X\", which is set to the string \"iNeuron\" outside of the function. When the function is called, it will print the value of the global variable to the console."
   ]
  },
  {
   "cell_type": "code",
   "execution_count": 9,
   "id": "b617ffb2-eca8-4ecd-b65f-54695ad48c75",
   "metadata": {},
   "outputs": [
    {
     "name": "stdout",
     "output_type": "stream",
     "text": [
      "iNeuron\n"
     ]
    }
   ],
   "source": [
    "X = 'iNeuron'\n",
    "\n",
    "def func():\n",
    "\n",
    "    print(X)\n",
    "\n",
    "func()"
   ]
  },
  {
   "cell_type": "markdown",
   "id": "ff12101a-ea4c-4e04-a691-587b3ab0744b",
   "metadata": {},
   "source": [
    "Question -2 .\n",
    "\n",
    "What is the result of the code, and explain?\n",
    "\n",
    "X = 'iNeuron'\n",
    "\n",
    "def func():\n",
    "\n",
    "X = 'NI!'\n",
    "\n",
    "func()\n",
    "\n",
    "print(X)\n",
    "\n",
    "Answer -\n",
    "\n",
    "\n",
    "\"iNeuron\" comes as output. This is because the X variable used within the function is a local variable, meaning it is only accessible within the function itself. Therefore, the value of the X variable outside the function remains unchanged, which is \"iNeuron\"."
   ]
  },
  {
   "cell_type": "code",
   "execution_count": 12,
   "id": "f32e96b6-0555-4761-ab5a-f8c515abb072",
   "metadata": {},
   "outputs": [
    {
     "name": "stdout",
     "output_type": "stream",
     "text": [
      "iNeurone\n"
     ]
    }
   ],
   "source": [
    "X = 'iNeuron'\n",
    "\n",
    "def func():\n",
    "    X = 'NI!'\n",
    "\n",
    "func()\n",
    "\n",
    "print(x)"
   ]
  },
  {
   "cell_type": "markdown",
   "id": "8cc35030-a869-4765-a69c-7ba43d53dead",
   "metadata": {},
   "source": [
    "Question -3 .\n",
    "\n",
    "What does this code print, and why?\n",
    "\n",
    "X = 'iNeuron'\n",
    "\n",
    "def func():\n",
    "\n",
    "X = 'NI'\n",
    "\n",
    "print(X)\n",
    "\n",
    "func()\n",
    "\n",
    "print(X)\n",
    "\n",
    "Answer -\n",
    "\n",
    "\n",
    "\n",
    "This code will print \"NI\" followed by \"iNeuron\". The first print statement prints the value of the X variable inside the function, which is \"NI\". The second print statement prints the value of the X variable outside the function, which is \"iNeuron\"."
   ]
  },
  {
   "cell_type": "code",
   "execution_count": 13,
   "id": "b16dafe4-77c2-49ff-aeb0-bd30e263577b",
   "metadata": {},
   "outputs": [
    {
     "name": "stdout",
     "output_type": "stream",
     "text": [
      "NI\n",
      "iNeuron\n"
     ]
    }
   ],
   "source": [
    "X = 'iNeuron'\n",
    "\n",
    "def func():\n",
    "    X = 'NI'\n",
    "    print(X)\n",
    "\n",
    "func()\n",
    "\n",
    "print(X)"
   ]
  },
  {
   "cell_type": "markdown",
   "id": "e21f4510-b114-4b73-b8bf-912cba18621c",
   "metadata": {},
   "source": [
    "Question -4 .\n",
    "\n",
    "What output does this code produce? Why?\n",
    "\n",
    "X = 'iNeuron'\n",
    "\n",
    "def func():\n",
    "\n",
    "global X\n",
    "\n",
    "X = 'NI'\n",
    "\n",
    "func()\n",
    "\n",
    "print(X)\n",
    "\n",
    "Answer -\n",
    "\n",
    "\n",
    "'NI' will be produce as output. This is because the global variable X is reassigned to 'NI' inside the function func(), and then printed outside the function."
   ]
  },
  {
   "cell_type": "code",
   "execution_count": 14,
   "id": "0021fb19-327b-4170-98a4-b1fb142178fa",
   "metadata": {},
   "outputs": [
    {
     "name": "stdout",
     "output_type": "stream",
     "text": [
      "NI\n"
     ]
    }
   ],
   "source": [
    "X = 'iNeuron'\n",
    "\n",
    "def func():\n",
    "    global X\n",
    "    X = 'NI'\n",
    "\n",
    "func()\n",
    "\n",
    "print(X)"
   ]
  },
  {
   "cell_type": "code",
   "execution_count": null,
   "id": "2a918389-4625-41fe-bdd2-8c6f14a21b3c",
   "metadata": {},
   "outputs": [],
   "source": []
  },
  {
   "cell_type": "markdown",
   "id": "ad9c3e67-27f4-456c-a734-1ac3413eeb7f",
   "metadata": {},
   "source": [
    "Q 5. What about this code—what’s the output, and why?\n",
    "\n",
    "X = 'iNeuron'\n",
    "\n",
    "def func():\n",
    "\n",
    "X = 'NI'\n",
    "\n",
    "def nested():\n",
    "\n",
    "print(X)\n",
    "\n",
    "nested()\n",
    "\n",
    "func()\n",
    "\n",
    "X\n",
    "\n",
    "Answer --\n",
    "\n",
    "The nested() function will print 'iNeuron', Then func() does not display anything, and x ='NI' is not accessible out side the function.\n",
    "     "
   ]
  },
  {
   "cell_type": "code",
   "execution_count": 8,
   "id": "9069cfb9-638f-4124-a7eb-65794560c36b",
   "metadata": {},
   "outputs": [
    {
     "name": "stdout",
     "output_type": "stream",
     "text": [
      "iNeurone\n"
     ]
    },
    {
     "data": {
      "text/plain": [
       "'iNeurone'"
      ]
     },
     "execution_count": 8,
     "metadata": {},
     "output_type": "execute_result"
    }
   ],
   "source": [
    "# Answer ...\n",
    "x='iNeurone'\n",
    "def func():\n",
    "    x='NI'\n",
    "def nested():\n",
    "    print(x)\n",
    "nested()\n",
    "func()\n",
    "x\n",
    "    "
   ]
  },
  {
   "cell_type": "markdown",
   "id": "19531045-3233-452c-9acf-aea5649ee54a",
   "metadata": {},
   "source": [
    "Q 6. How about this code: what is its output in Python 3, and explain?\n",
    "\n",
    "def func():\n",
    "\n",
    "X = 'NI'\n",
    "\n",
    "def nested():\n",
    "\n",
    "nonlocal X\n",
    "\n",
    "X = 'Spam'\n",
    "\n",
    "nested()\n",
    "\n",
    "print(X)\n",
    "\n",
    "func()\n",
    "\n",
    " Answer -\n",
    "\n",
    "\"Spam\" is the output because nonlocal keyword is used .it is used to indicate that the variable X is not a local variable, but instead a nonlocal variable, which means that it is defined in an enclosing scope. Therefore, when the nested() function is called, it sets the value of the nonlocal variable X to \"Spam\". When the print statement is called, it prints the value of X, which is now \"Spam\"."
   ]
  },
  {
   "cell_type": "code",
   "execution_count": 35,
   "id": "a6a8faac-f91c-43b1-b3e4-89dd7f2a04a7",
   "metadata": {},
   "outputs": [
    {
     "name": "stdout",
     "output_type": "stream",
     "text": [
      "spam\n"
     ]
    }
   ],
   "source": [
    "def func():\n",
    "    x='NI'\n",
    "    def nested():\n",
    "        nonlocal x\n",
    "        x='spam'\n",
    "    nested()\n",
    "print(x)\n",
    "func()"
   ]
  },
  {
   "cell_type": "code",
   "execution_count": 20,
   "id": "2c71c7c0-57f3-4de2-b853-d609717a08f4",
   "metadata": {},
   "outputs": [],
   "source": [
    "func()"
   ]
  },
  {
   "cell_type": "code",
   "execution_count": null,
   "id": "5c86acd5-22c6-4691-981f-3e2121765102",
   "metadata": {},
   "outputs": [],
   "source": []
  }
 ],
 "metadata": {
  "kernelspec": {
   "display_name": "Python 3 (ipykernel)",
   "language": "python",
   "name": "python3"
  },
  "language_info": {
   "codemirror_mode": {
    "name": "ipython",
    "version": 3
   },
   "file_extension": ".py",
   "mimetype": "text/x-python",
   "name": "python",
   "nbconvert_exporter": "python",
   "pygments_lexer": "ipython3",
   "version": "3.10.6"
  }
 },
 "nbformat": 4,
 "nbformat_minor": 5
}
