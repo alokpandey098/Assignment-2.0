{
  "nbformat": 4,
  "nbformat_minor": 0,
  "metadata": {
    "colab": {
      "provenance": []
    },
    "kernelspec": {
      "name": "python3",
      "display_name": "Python 3"
    },
    "language_info": {
      "name": "python"
    }
  },
  "cells": [
    {
      "cell_type": "markdown",
      "source": [
        "#Q 1. What advantages do Excel spreadsheets have over CSV spreadsheets?\n",
        "\n",
        "#Answer -->\n",
        "While Excel (XLS and XLSX) file formats are better for storing more complex data, CSV files are supported by nearly all data upload interfaces. If you are planning to move your data between platforms, export and import it from one interface to another, you might be better off with the CSV file format.\n"
      ],
      "metadata": {
        "id": "aVMvLitPoeW5"
      }
    },
    {
      "cell_type": "markdown",
      "source": [
        "\n",
        "\n",
        "---\n",
        "\n"
      ],
      "metadata": {
        "id": "M4jJd9CjpYh_"
      }
    },
    {
      "cell_type": "markdown",
      "source": [
        "#Q 2.What do you pass to csv.reader() and csv.writer() to create reader and writer objects?\n",
        "\n",
        "#Answer -->\n",
        "First, call open() and pass it 'w' to open a file in write mode ❶. This will create the object you can then pass to csv.writer() ❷ to create a Writer object.\n",
        "\n",
        "On Windows, you’ll also need to pass a blank string for the open() function’s newline keyword argument."
      ],
      "metadata": {
        "id": "I-hmv2L4oo_J"
      }
    },
    {
      "cell_type": "markdown",
      "source": [
        "\n",
        "\n",
        "---\n",
        "\n"
      ],
      "metadata": {
        "id": "OWj21d6vpKfg"
      }
    },
    {
      "cell_type": "markdown",
      "source": [
        "#Q 3. What modes do File objects for reader and writer objects need to be opened in?\n",
        "\n",
        "#Answer -->\n",
        "we use read-binary ('rb') for read mode and for write mode we use write-binary('wb') ."
      ],
      "metadata": {
        "id": "3HHmYB1_o1C_"
      }
    },
    {
      "cell_type": "markdown",
      "source": [
        "\n",
        "\n",
        "---\n",
        "\n"
      ],
      "metadata": {
        "id": "NDJdCxWDpM5o"
      }
    },
    {
      "cell_type": "markdown",
      "source": [
        "#Q 4. What method takes a list argument and writes it to a CSV file?\n",
        "\n",
        "#Answer -->\n",
        "writerrow() method is used to takes a list argument and write it to a CSV file. "
      ],
      "metadata": {
        "id": "fB7HE-DFo5eG"
      }
    },
    {
      "cell_type": "markdown",
      "source": [
        "\n",
        "\n",
        "---\n",
        "\n"
      ],
      "metadata": {
        "id": "MLDiq1kMpOav"
      }
    },
    {
      "cell_type": "markdown",
      "source": [
        "#Q 5. What do the keyword arguments delimiter and line terminator do?\n",
        "\n",
        "#Answer -->\n",
        "The delimeter argument change the string used to separate cells in a row. The lineterminator argument changes the string used to separate rows."
      ],
      "metadata": {
        "id": "ZR8dxRPpo_ng"
      }
    },
    {
      "cell_type": "markdown",
      "source": [
        "\n",
        "\n",
        "---\n",
        "\n"
      ],
      "metadata": {
        "id": "RmawCWoEpPym"
      }
    },
    {
      "cell_type": "markdown",
      "source": [
        "#Q 6. What function takes a string of JSON data and returns a Python data structure?\n",
        "\n",
        "#Answer -->\n",
        "We use jason.load() method."
      ],
      "metadata": {
        "id": "rhhBy6G1pBT2"
      }
    },
    {
      "cell_type": "markdown",
      "source": [
        "\n",
        "\n",
        "---\n",
        "\n"
      ],
      "metadata": {
        "id": "_EssMDugpRGO"
      }
    },
    {
      "cell_type": "markdown",
      "source": [
        "#Q 7. What function takes a Python data structure and returns a string of JSON data?\n",
        "\n",
        "#Answer -->\n",
        "We use jason.dumps() method."
      ],
      "metadata": {
        "id": "OuyL5EBcpFxf"
      }
    },
    {
      "cell_type": "markdown",
      "source": [
        "\n",
        "\n",
        "---\n",
        "\n"
      ],
      "metadata": {
        "id": "S5dMFUtIpUg-"
      }
    }
  ]
}