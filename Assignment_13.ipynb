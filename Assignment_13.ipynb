{
  "nbformat": 4,
  "nbformat_minor": 0,
  "metadata": {
    "colab": {
      "provenance": []
    },
    "kernelspec": {
      "name": "python3",
      "display_name": "Python 3"
    },
    "language_info": {
      "name": "python"
    }
  },
  "cells": [
    {
      "cell_type": "markdown",
      "source": [
        "#Question 1:\n",
        "Write a program that calculates and prints the value according to the given formula:\n",
        "\n",
        "Q = Square root of [(2 * C * D)/H]\n",
        "Following are the fixed values of C and H:\n",
        "\n",
        "C is 50. H is 30.\n",
        "\n",
        "D is the variable whose values should be input to your program in a comma-separated sequence.\n",
        "\n",
        "Example\n",
        "\n",
        "Let us assume the following comma separated input sequence is given to the program:\n",
        "\n",
        "100,150,180\n",
        "\n",
        "The output of the program should be:\n",
        "\n",
        "18,22,24"
      ],
      "metadata": {
        "id": "G8PxxBlRRXIz"
      }
    },
    {
      "cell_type": "code",
      "source": [
        "import math\n",
        "\n",
        "# Given value\n",
        "C = 50\n",
        "H = 30\n",
        "D = input(\"Enter comma-separated values of D: \")\n",
        "D = [int(i) for i in D.split(',')]\n",
        "Q = []\n",
        "\n",
        "for i in D:\n",
        "    Q.append(int(math.sqrt((2*C*i)/H)))\n",
        "\n",
        "print(\"Output is : \",Q)\n"
      ],
      "metadata": {
        "colab": {
          "base_uri": "https://localhost:8080/"
        },
        "id": "UgtBx-XhRp2n",
        "outputId": "8796b19c-7835-46e7-8cd7-a2e308fb14dd"
      },
      "execution_count": 2,
      "outputs": [
        {
          "output_type": "stream",
          "name": "stdout",
          "text": [
            "Enter comma-separated values of D: 100,150,180\n",
            "Output is :  [18, 22, 24]\n"
          ]
        }
      ]
    },
    {
      "cell_type": "markdown",
      "source": [
        "#Question 2:\n",
        "Write a program which takes 2 digits, X,Y as input and generates a 2-dimensional array. The element value in the i-th row and j-th column of the array should be  i*j.\n",
        "\n",
        "Note: i=0,1.., X-1; j=0,1,¡Y-1.\n",
        "\n",
        "Example\n",
        "\n",
        "Suppose the following inputs are given to the program:\n",
        "\n",
        "3,5\n",
        "\n",
        "Then, the output of the program should be:\n",
        "\n",
        "[[0, 0, 0, 0, 0], [0, 1, 2, 3, 4], [0, 2, 4, 6, 8]]\n"
      ],
      "metadata": {
        "id": "7rDRUJN9RrNG"
      }
    },
    {
      "cell_type": "code",
      "source": [
        "# According to the question ....\n",
        "\n",
        "X, Y = [int(i) for i in input(\"Enter comma-seprated values for X and Y : \").split(',')]\n",
        "\n",
        "arr = [[i*j for j in range(Y)] for i in range(X)]\n",
        "\n",
        "print(\"Two dimensional array : \",arr)\n"
      ],
      "metadata": {
        "colab": {
          "base_uri": "https://localhost:8080/"
        },
        "id": "wkMQbU27R-LN",
        "outputId": "f1b4e65e-5fdc-46f1-b611-72339d3ae912"
      },
      "execution_count": 4,
      "outputs": [
        {
          "output_type": "stream",
          "name": "stdout",
          "text": [
            "Enter comma-seprated values for X and Y : 3,5\n",
            "Two dimensional array :  [[0, 0, 0, 0, 0], [0, 1, 2, 3, 4], [0, 2, 4, 6, 8]]\n"
          ]
        }
      ]
    },
    {
      "cell_type": "markdown",
      "source": [
        "#Question 3:\n",
        "Write a program that accepts a comma separated sequence of words as input and prints the words in a comma-separated sequence after sorting them alphabetically.\n",
        "\n",
        "Suppose the following input is supplied to the program:\n",
        "\n",
        "without,hello,bag,world\n",
        "Then, the output should be:\n",
        "bag,hello,without,world"
      ],
      "metadata": {
        "id": "amSSRCwySDmM"
      }
    },
    {
      "cell_type": "code",
      "source": [
        "s = input(\"Enter comma separated words: \")\n",
        "ws = [w for w in s.split(',')]\n",
        "sorted_words = sorted(ws)\n",
        "\n",
        "print(\"Sorted sequence of words : \",','.join(sorted_words))\n"
      ],
      "metadata": {
        "colab": {
          "base_uri": "https://localhost:8080/"
        },
        "id": "ajV_GfquSTan",
        "outputId": "1230efe8-c609-4b43-bb15-bde3350c00cd"
      },
      "execution_count": 6,
      "outputs": [
        {
          "output_type": "stream",
          "name": "stdout",
          "text": [
            "Enter comma separated words: without,hello,bag,world \n",
            "Sorted sequence of words :  bag,hello,without,world \n"
          ]
        }
      ]
    },
    {
      "cell_type": "markdown",
      "source": [
        "#Question 4:\n",
        "Write a program that accepts a sequence of whitespace separated words as input and prints\n",
        "\n",
        "the words after removing all duplicate words and sorting them alphanumerically.\n",
        "\n",
        "Suppose the following input is supplied to the program:\n",
        "\n",
        "hello world and practice makes perfect and hello world again\n",
        "\n",
        "Then, the output should be:\n",
        "\n",
        "again and hello makes perfect practice world\n"
      ],
      "metadata": {
        "id": "SH-TFT9-Sa2k"
      }
    },
    {
      "cell_type": "code",
      "source": [
        "s1 = input(\"Enter a sentence: \")\n",
        "wrds = s1.split(' ')\n",
        "unique_words = list(set(wrds))\n",
        "sorted_words = sorted(unique_words)\n",
        "\n",
        "print(\"Sorted words : \",' '.join(sorted_words))\n"
      ],
      "metadata": {
        "colab": {
          "base_uri": "https://localhost:8080/"
        },
        "id": "YkQFcQtJSlzI",
        "outputId": "623743a2-1e1e-48ed-a04e-d34f912f4655"
      },
      "execution_count": 9,
      "outputs": [
        {
          "output_type": "stream",
          "name": "stdout",
          "text": [
            "Enter a sentence: hello world and practice makes perfect and hello world again\n",
            "Sorted words :  again and hello makes perfect practice world\n"
          ]
        }
      ]
    },
    {
      "cell_type": "markdown",
      "source": [
        "#Question 5:\n",
        "Write a program that accepts a sentence and calculate the number of letters and digits.\n",
        "\n",
        "Suppose the following input is supplied to the program:\n",
        "\n",
        "hello world! 123\n",
        "\n",
        "Then, the output should be:\n",
        "\n",
        "LETTERS 10\n",
        "\n",
        "DIGITS 3"
      ],
      "metadata": {
        "id": "fIcEVeikSrJZ"
      }
    },
    {
      "cell_type": "code",
      "source": [
        "s2 = input(\"Enter the sentance: \")\n",
        "\n",
        "ltr_count = 0\n",
        "dgt_count = 0\n",
        "\n",
        "for i in s2:\n",
        "    if i.isalpha():\n",
        "        ltr_count += 1\n",
        "    elif i.isdigit():\n",
        "        dgt_count += 1\n",
        "\n",
        "print(f\"\\nCount of letter : {ltr_count}\\n\\nCount of digit : {dgt_count}\")\n"
      ],
      "metadata": {
        "colab": {
          "base_uri": "https://localhost:8080/"
        },
        "id": "MWjK05daSwGk",
        "outputId": "0f3676d2-5c55-48ae-fb0b-e4dba01da7b1"
      },
      "execution_count": 13,
      "outputs": [
        {
          "output_type": "stream",
          "name": "stdout",
          "text": [
            "Enter the sentance: hello world! 123\n",
            "\n",
            "Count of letter : 10\n",
            "\n",
            "Count of digit : 3\n"
          ]
        }
      ]
    },
    {
      "cell_type": "markdown",
      "source": [
        "#Question 6:\n",
        "A website requires the users to input username and password to register. Write a program to\n",
        "check the validity of password input by users.\n",
        "\n",
        "Following are the criteria for checking the password:\n",
        "1. At least 1 letter between [a-z]\n",
        "2. At least 1 number between [0-9]\n",
        "1. At least 1 letter between [A-Z]\n",
        "3. At least 1 character from [$#@]\n",
        "4. Minimum length of transaction password: 6\n",
        "5. Maximum length of transaction password: 12\n",
        "\n",
        "Your program should accept a sequence of comma separated passwords and will check them\n",
        "according to the above criteria. Passwords that match the criteria are to be printed, each\n",
        "separated by a comma.\n",
        "\n",
        "Example\n",
        "\n",
        "If the following passwords are given as input to the program:\n",
        "\n",
        "ABd1234@1,a F1#,2w3E*,2We3345\n",
        "\n",
        "Then, the output of the program should be:\n",
        "\n",
        "ABd1234@1"
      ],
      "metadata": {
        "id": "ahLKoLFAS1E_"
      }
    },
    {
      "cell_type": "code",
      "source": [
        "import re\n",
        "pws =input(\"Enter your password : \")\n",
        "valid_pw =[]\n",
        "\n",
        "for pwd in pws.split(','):\n",
        "    if len(pwd) >= 6 and len(pwd) <= 12:\n",
        "        if re.search(\"[a-z]\", pwd) and re.search(\"[A-Z]\", pwd) and re.search(\"[0-9]\", pwd) and re.search(\"[$#@]\", pwd):\n",
        "            valid_pw.append(pwd)\n",
        "\n",
        "print(\"Valid password from input : \",\",\".join(valid_pw))"
      ],
      "metadata": {
        "colab": {
          "base_uri": "https://localhost:8080/"
        },
        "id": "Ff0zOZtGbmja",
        "outputId": "db687459-dd55-40d1-aad2-ac0476f3cb3f"
      },
      "execution_count": 18,
      "outputs": [
        {
          "output_type": "stream",
          "name": "stdout",
          "text": [
            "Enter your password : ABd1234@1,a F1#,2w3E*,2We3345\n",
            "Valid password from input :  ABd1234@1\n"
          ]
        }
      ]
    }
  ]
}