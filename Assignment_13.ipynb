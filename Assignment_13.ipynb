{
 "cells": [
  {
   "cell_type": "markdown",
   "id": "31328da3-294c-45da-804d-10e654d30c16",
   "metadata": {},
   "source": [
    "Q.1 What advantages do Excel spreadsheets have over CSV spreadsheets?\n",
    " \n",
    "Answer -->\n",
    "\n",
    "While Excel (XLS and XLSX) file formats are better for storing more complex data, \n",
    "CSV files are supported by nearly all data upload interfaces. If you are planning to \n",
    "move your data between platforms, export and import it from one interface to another, \n",
    "you might be better off with the CSV file format."
   ]
  },
  {
   "cell_type": "markdown",
   "id": "f41f2d21-1bcf-48fd-b926-e9428bc74dd6",
   "metadata": {},
   "source": [
    "Q.2 .What do you pass to csv.reader() and csv.writer() to create reader and writer objects?\n",
    "\n",
    "Answer -->\n",
    "\n",
    "First, call open() and pass it 'w' to open a file in write mode . This will create the object you can then pass to csv.\n",
    "writer() to create a Writer object.\n",
    "\n",
    "On Windows, you’ll also need to pass a blank string for the open() function’s newline keyword argument."
   ]
  },
  {
   "cell_type": "markdown",
   "id": "df363606-b333-439a-a752-f9f8b46f388f",
   "metadata": {},
   "source": [
    "Q 3. What modes do File objects for reader and writer objects need to be opened in?\n",
    "\n",
    "Answer -->\n",
    "\n",
    "we use read-binary ('rb') for read mode and for write mode we use write-binary('wb') .\n",
    "\n"
   ]
  },
  {
   "cell_type": "markdown",
   "id": "97c2766e-0582-465c-b5ae-2720e707db41",
   "metadata": {},
   "source": [
    "Q 4. What method takes a list argument and writes it to a CSV file?\n",
    "\n",
    "Answer -->\n",
    "\n",
    "writerrow() method is used to takes a list argument and write it to a CSV file."
   ]
  },
  {
   "cell_type": "markdown",
   "id": "7fd90aee-cc09-455e-bbb1-e7cd060ededa",
   "metadata": {},
   "source": [
    "Q 5. What do the keyword arguments delimiter and line terminator do?\n",
    "\n",
    "Answer -->\n",
    "\n",
    "The delimeter argument change the string used to separate cells in a row. The lineterminator argument changes the string used to separate rows."
   ]
  },
  {
   "cell_type": "markdown",
   "id": "ab5d57b2-6e8f-4646-b562-57a6cb071f2e",
   "metadata": {},
   "source": [
    "Q 6. What function takes a string of JSON data and returns a Python data structure?\n",
    "\n",
    "Answer -->\n",
    "\n",
    "We use jason.load() method."
   ]
  },
  {
   "cell_type": "markdown",
   "id": "58a25da6-0b2d-437b-877b-b1ef7d14b335",
   "metadata": {},
   "source": [
    "Q 7. What function takes a Python data structure and returns a string of JSON data?\n",
    "\n",
    "Answer -->\n",
    "\n",
    "We use jason.dumps() method."
   ]
  }
 ],
 "metadata": {
  "kernelspec": {
   "display_name": "Python 3 (ipykernel)",
   "language": "python",
   "name": "python3"
  },
  "language_info": {
   "codemirror_mode": {
    "name": "ipython",
    "version": 3
   },
   "file_extension": ".py",
   "mimetype": "text/x-python",
   "name": "python",
   "nbconvert_exporter": "python",
   "pygments_lexer": "ipython3",
   "version": "3.10.6"
  }
 },
 "nbformat": 4,
 "nbformat_minor": 5
}
