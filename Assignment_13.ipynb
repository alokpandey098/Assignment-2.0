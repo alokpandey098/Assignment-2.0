{
 "cells": [
  {
   "cell_type": "raw",
   "id": "f874c382-a9fb-4f46-ba5e-946c966bf20c",
   "metadata": {},
   "source": [
    "Q.1 What advantages do Excel spreadsheets have over CSV spreadsheets?\n",
    " \n",
    "Answer -->\n",
    "\n",
    "While Excel (XLS and XLSX) file formats are better for storing more complex data, \n",
    "CSV files are supported by nearly all data upload interfaces. If you are planning to \n",
    "move your data between platforms, export and import it from one interface to another, \n",
    "you might be better off with the CSV file format."
   ]
  },
  {
   "cell_type": "markdown",
   "id": "80667ff6-08de-40d6-8c7f-a1cefc38a10a",
   "metadata": {},
   "source": [
    "Q.2 .What do you pass to csv.reader() and csv.writer() to create reader and writer objects?\n",
    "\n",
    "Answer -->\n",
    "\n",
    "First, call open() and pass it 'w' to open a file in write mode ❶. This will create the object you can then pass to csv.\n",
    "writer() ❷ to create a Writer object.\n",
    "\n",
    "On Windows, you’ll also need to pass a blank string for the open() function’s newline keyword argument."
   ]
  },
  {
   "cell_type": "raw",
   "id": "64a3f60c-8885-4259-9b5e-ca88344a8abe",
   "metadata": {},
   "source": [
    "Q 3. What modes do File objects for reader and writer objects need to be opened in?\n",
    "\n",
    "Answer -->\n",
    "\n",
    "we use read-binary ('rb') for read mode and for write mode we use write-binary('wb') .\n",
    "\n"
   ]
  },
  {
   "cell_type": "raw",
   "id": "d3fb31c9-d8de-4abf-b291-605e57ab4cc3",
   "metadata": {},
   "source": [
    "Q 4. What method takes a list argument and writes it to a CSV file?\n",
    "\n",
    "Answer -->\n",
    "\n",
    "writerrow() method is used to takes a list argument and write it to a CSV file."
   ]
  },
  {
   "cell_type": "raw",
   "id": "8b01d5a5-8e79-4b5c-9175-49c23f29721e",
   "metadata": {},
   "source": [
    "Q 5. What do the keyword arguments delimiter and line terminator do?\n",
    "\n",
    "Answer -->\n",
    "\n",
    "The delimeter argument change the string used to separate cells in a row. The lineterminator argument changes the string used to separate rows."
   ]
  },
  {
   "cell_type": "raw",
   "id": "9771e567-1df9-4914-9cca-59d64eab99a6",
   "metadata": {},
   "source": [
    "Q 6. What function takes a string of JSON data and returns a Python data structure?\n",
    "\n",
    "Answer -->\n",
    "\n",
    "We use jason.load() method."
   ]
  },
  {
   "cell_type": "raw",
   "id": "a4b0a30a-f60b-41e6-802e-c52468d6baab",
   "metadata": {},
   "source": []
  },
  {
   "cell_type": "code",
   "execution_count": null,
   "id": "c2d37a17-0a4c-4924-8285-5630d597d6a6",
   "metadata": {},
   "outputs": [],
   "source": []
  },
  {
   "cell_type": "code",
   "execution_count": null,
   "id": "877f4398-0ac7-4af4-a9e4-1e85b4dd6a88",
   "metadata": {},
   "outputs": [],
   "source": []
  }
 ],
 "metadata": {
  "kernelspec": {
   "display_name": "Python 3 (ipykernel)",
   "language": "python",
   "name": "python3"
  },
  "language_info": {
   "codemirror_mode": {
    "name": "ipython",
    "version": 3
   },
   "file_extension": ".py",
   "mimetype": "text/x-python",
   "name": "python",
   "nbconvert_exporter": "python",
   "pygments_lexer": "ipython3",
   "version": "3.10.6"
  }
 },
 "nbformat": 4,
 "nbformat_minor": 5
}
