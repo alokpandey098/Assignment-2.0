{
  "nbformat": 4,
  "nbformat_minor": 0,
  "metadata": {
    "colab": {
      "provenance": []
    },
    "kernelspec": {
      "name": "python3",
      "display_name": "Python 3"
    },
    "language_info": {
      "name": "python"
    }
  },
  "cells": [
    {
      "cell_type": "markdown",
      "source": [
        "# Q .1.\tWrite a Python Program to Display Fibonacci Sequence Using Recursion?"
      ],
      "metadata": {
        "id": "C_X_xY_e8fyw"
      }
    },
    {
      "cell_type": "code",
      "execution_count": null,
      "metadata": {
        "colab": {
          "base_uri": "https://localhost:8080/"
        },
        "id": "ABX3WeWmi7x_",
        "outputId": "59bffec1-4cb4-41b7-c27e-d741482a1097"
      },
      "outputs": [
        {
          "output_type": "stream",
          "name": "stdout",
          "text": [
            "10\n",
            "Fibonacci sequence:\n",
            "0\n",
            "1\n",
            "1\n",
            "2\n",
            "3\n",
            "5\n",
            "8\n",
            "13\n",
            "21\n",
            "34\n"
          ]
        }
      ],
      "source": [
        "# Answer ....\n",
        "\n",
        "def rec(n):\n",
        "  if n<=1:\n",
        "    return n\n",
        "  else:\n",
        "    return(rec(n-1)+rec(n-2))\n",
        "\n",
        "num =int(input())\n",
        "\n",
        "if num <= 0:\n",
        "   print(\"Plese enter a positive integer\")\n",
        "else:\n",
        "   print(\"Fibonacci sequence:\")\n",
        "   for i in range(num):\n",
        "       print(rec(i))"
      ]
    },
    {
      "cell_type": "markdown",
      "source": [
        "# Q .2.\tWrite a Python Program to Find Factorial of Number Using Recursion?"
      ],
      "metadata": {
        "id": "kxULoeg78kbn"
      }
    },
    {
      "cell_type": "code",
      "source": [
        "# Answer ...\n",
        "\n",
        "def fact(x):\n",
        "  if x==1:\n",
        "    return x\n",
        "  else:\n",
        "    return(x*fact(x-1))\n",
        "\n",
        "num=int(input(\"Enter digit\"))\n",
        "print(\"Factrial of \",num ,\"is :\",fact(num))"
      ],
      "metadata": {
        "colab": {
          "base_uri": "https://localhost:8080/"
        },
        "id": "28xjHYwnj6qQ",
        "outputId": "a251b58b-4047-4d31-aa2e-e87a9b8a3115"
      },
      "execution_count": null,
      "outputs": [
        {
          "output_type": "stream",
          "name": "stdout",
          "text": [
            "Enter digit4\n",
            "Factrial of  4 is : 24\n"
          ]
        }
      ]
    },
    {
      "cell_type": "markdown",
      "source": [
        "# Q .3.\tWrite a Python Program to calculate your Body Mass Index?"
      ],
      "metadata": {
        "id": "W_01hV1P8qzP"
      }
    },
    {
      "cell_type": "code",
      "source": [
        "# Answer ...\n",
        "\n",
        "h=int(input(\"Enter your height in inch :\"))\n",
        "w=int(input(\"Enter your weight in lbs :\"))\n",
        "\n",
        "h2 =h*h\n",
        "bmi= (w/h2)*703\n",
        "\n",
        "print(\"Your BMI is  : \",round(bmi))\n",
        "if bmi <= 18.5:  \n",
        "    print(\"Oops! You are underweight.\")  \n",
        "elif bmi <= 24.9:  \n",
        "    print(\"Awesome! You are healthy.\")  \n",
        "elif bmi <= 29.9:  \n",
        "  print(\"Eee! You are overweight.\")  \n",
        "else:  \n",
        "    print(\"Seesh! You are obese.\")  "
      ],
      "metadata": {
        "colab": {
          "base_uri": "https://localhost:8080/"
        },
        "id": "CW1k8KPsm8E6",
        "outputId": "91185d47-8eb8-4924-b9aa-6533051e7369"
      },
      "execution_count": 5,
      "outputs": [
        {
          "output_type": "stream",
          "name": "stdout",
          "text": [
            "Enter your height in inch :69\n",
            "Enter your weight in lbs :154\n",
            "Your BMI is  :  23\n",
            "Awesome! You are healthy.\n"
          ]
        }
      ]
    },
    {
      "cell_type": "markdown",
      "source": [
        "# Q .4.\tWrite a Python Program to calculate the natural logarithm of any number?"
      ],
      "metadata": {
        "id": "u2ykVbY68x-f"
      }
    },
    {
      "cell_type": "code",
      "source": [
        "# Answer ...\n",
        "\n",
        "import math\n",
        "num = float(input(\"Enter a number: \"))\n",
        "print (\"Natural Logarithm of {0} : \".format(num), math.log(num))"
      ],
      "metadata": {
        "colab": {
          "base_uri": "https://localhost:8080/"
        },
        "id": "mJs4iLva55c3",
        "outputId": "9a33d111-8124-450a-fd1a-25a9330b6fd6"
      },
      "execution_count": 2,
      "outputs": [
        {
          "output_type": "stream",
          "name": "stdout",
          "text": [
            "Enter a number: 56\n",
            "Natural Logarithm of 56.0 :  4.02535169073515\n"
          ]
        }
      ]
    },
    {
      "cell_type": "markdown",
      "source": [
        "# Q .5.\tWrite a Python Program for cube sum of first n natural numbers?"
      ],
      "metadata": {
        "id": "RqMMHrCg84dm"
      }
    },
    {
      "cell_type": "code",
      "source": [
        "# Answer ...\n",
        "\n",
        "def cube_sum(n):\n",
        "    sum = 0\n",
        "    for i in range(1, n+1):\n",
        "        sum +=i*i*i\n",
        "    return sum\n",
        "n = int(input(\"Enter a number: \"))\n",
        "print(\"Cube sum of {0} natural numbers are : \".format(n),cube_sum(n))"
      ],
      "metadata": {
        "colab": {
          "base_uri": "https://localhost:8080/"
        },
        "id": "Prkg_2Y_8IMX",
        "outputId": "1c87e140-2a58-4c77-be7e-3a23ad5b12f1"
      },
      "execution_count": 3,
      "outputs": [
        {
          "output_type": "stream",
          "name": "stdout",
          "text": [
            "Enter a number: 4\n",
            "Cube sum of 4 natural numbers are :  100\n"
          ]
        }
      ]
    },
    {
      "cell_type": "code",
      "source": [
        "height = float(input(\"Input your height in Feet: \"))\n",
        "weight = float(input(\"Input your weight in Kilogram: \"))\n",
        "print(\"Your body mass index is: \", round(weight / (height * height), 2))\n"
      ],
      "metadata": {
        "colab": {
          "base_uri": "https://localhost:8080/"
        },
        "id": "K9NnBI8x-OJe",
        "outputId": "36d70aa0-4e8d-4b75-e8f1-93a1bc03b842"
      },
      "execution_count": 4,
      "outputs": [
        {
          "output_type": "stream",
          "name": "stdout",
          "text": [
            "Input your height in Feet: 1.7\n",
            "Input your weight in Kilogram: 70\n",
            "Your body mass index is:  24.22\n"
          ]
        }
      ]
    },
    {
      "cell_type": "markdown",
      "source": [
        "\n",
        "\n",
        "---\n",
        "\n"
      ],
      "metadata": {
        "id": "Ucccq75T9pen"
      }
    }
  ]
}