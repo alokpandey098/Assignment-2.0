{
  "nbformat": 4,
  "nbformat_minor": 0,
  "metadata": {
    "colab": {
      "provenance": []
    },
    "kernelspec": {
      "name": "python3",
      "display_name": "Python 3"
    },
    "language_info": {
      "name": "python"
    }
  },
  "cells": [
    {
      "cell_type": "markdown",
      "source": [
        "#Q .1. How do you distinguish between shutil.copy() and shutil.copytree()?\n",
        "\n",
        "#Answer ----\n",
        "shutil.copy() function will copy only single file ,while shutil.copytree() will copy entire folder and file contained in it .\n"
      ],
      "metadata": {
        "id": "Cd4VBNRpKCoC"
      }
    },
    {
      "cell_type": "markdown",
      "source": [
        "\n",
        "\n",
        "---\n",
        "\n"
      ],
      "metadata": {
        "id": "suqxWFFkKOqC"
      }
    },
    {
      "cell_type": "markdown",
      "source": [
        "#Q .2. What function is used to rename files?\n",
        "\n",
        "#Answer ----\n",
        "os.rename() function is used to rename files in python ."
      ],
      "metadata": {
        "id": "36zawJ8wKP8C"
      }
    },
    {
      "cell_type": "markdown",
      "source": [
        "\n",
        "\n",
        "---\n",
        "\n"
      ],
      "metadata": {
        "id": "PT8dr9O3KgDJ"
      }
    },
    {
      "cell_type": "markdown",
      "source": [
        "#Q .3. What is the difference between the delete functions in the send2trash and shutil modules?\n",
        "\n",
        "#Answer ----\n",
        "Send2trash function will send all deleted files and folders in recycle bin ,while shutil() function will permanataly delete all the the files and foders ."
      ],
      "metadata": {
        "id": "YZH0LTozKgsq"
      }
    },
    {
      "cell_type": "markdown",
      "source": [
        "\n",
        "\n",
        "---\n",
        "\n"
      ],
      "metadata": {
        "id": "IR8KwtMMKrEK"
      }
    },
    {
      "cell_type": "markdown",
      "source": [
        "#Q .4.ZipFile objects have a close() method just like File objects’ close() method. What ZipFile method is equivalent to File objects’ open() method?\n",
        "\n",
        "#Answer ----\n",
        "The zipfile.ZipFile() function is equivalent to the open() function. the first argument is the filename, and the second argument is the mode to open the ZIP file in (read, write, or append)."
      ],
      "metadata": {
        "id": "7I7KD-gWKr7i"
      }
    },
    {
      "cell_type": "markdown",
      "source": [
        "\n",
        "\n",
        "---\n",
        "\n"
      ],
      "metadata": {
        "id": "_KlaBZT8K0rL"
      }
    },
    {
      "cell_type": "markdown",
      "source": [
        "#Q .5. Create a programme that searches a folder tree for files with a certain file extension (such as .pdf or .jpg). Copy these files from whatever location they are in to a new folder.\n",
        "\n",
        "#Answer ----\n"
      ],
      "metadata": {
        "id": "qSS-eTQfK1li"
      }
    },
    {
      "cell_type": "code",
      "source": [
        "import os, shutil\n",
        "\n",
        "def selectiveCopy(folder, extensions, destFolder):\n",
        "\tfolder = os.path.abspath(folder)\n",
        "\tdestFolder = os.path.abspath(destFolder)\n",
        "\tprint('Looking in', folder, 'for files with extensions of', ', '.join(extensions))\n",
        "\tfor foldername, subfolders, filenames in os.walk(folder):\n",
        "\t\tfor filename in filenames:\n",
        "\t\t\tname, extension = os.path.splitext(filename)\n",
        "\t\t\tif extension in extensions:\n",
        "\t\t\t\tfileAbsPath = foldername + os.path.sep + filename\n",
        "\t\t\t\tprint('Coping', fileAbsPath, 'to', destFolder)\n",
        "\t\t\t\tshutil.copy(fileAbsPath, destFolder)\n",
        "\n",
        "extensions = ['.php', '.py']\n",
        "folder = 'randomFolder'\n",
        "destFolder = 'selectiveFolder'\n",
        "selectiveCopy(folder, extensions, destFolder)"
      ],
      "metadata": {
        "colab": {
          "base_uri": "https://localhost:8080/"
        },
        "id": "98Q306FbMRE2",
        "outputId": "7849f2a6-6470-4032-b014-d1c71e7f20d0"
      },
      "execution_count": 1,
      "outputs": [
        {
          "output_type": "stream",
          "name": "stdout",
          "text": [
            "Looking in /content/randomFolder for files with extensions of .php, .py\n"
          ]
        }
      ]
    }
  ]
}