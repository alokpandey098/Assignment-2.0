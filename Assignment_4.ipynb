{
  "nbformat": 4,
  "nbformat_minor": 0,
  "metadata": {
    "colab": {
      "provenance": [],
      "collapsed_sections": []
    },
    "kernelspec": {
      "name": "python3",
      "display_name": "Python 3"
    },
    "language_info": {
      "name": "python"
    }
  },
  "cells": [
    {
      "cell_type": "markdown",
      "source": [
        "#Q .1. What exactly is []?\n",
        "\n",
        "#Answer --\n",
        "It denotes an empty list .List value that contain no items."
      ],
      "metadata": {
        "id": "8lgr8C73VUIR"
      }
    },
    {
      "cell_type": "markdown",
      "source": [
        "\n",
        "\n",
        "---\n",
        "\n"
      ],
      "metadata": {
        "id": "e8OmsZO0ZRqe"
      }
    },
    {
      "cell_type": "markdown",
      "source": [
        "#Q .2. In a list of values stored in a variable called spam, how would you assign the value 'hello' as the third value? (Assume [2, 4, 6, 8, 10] are in spam.)\n"
      ],
      "metadata": {
        "id": "RL9RngHIZSzc"
      }
    },
    {
      "cell_type": "code",
      "execution_count": null,
      "metadata": {
        "colab": {
          "base_uri": "https://localhost:8080/"
        },
        "id": "o150Gu8CVMw9",
        "outputId": "79a6eaf3-d038-47a8-ac4b-c61355e643c6"
      },
      "outputs": [
        {
          "output_type": "execute_result",
          "data": {
            "text/plain": [
              "[2, 4, 6, 'Hello', 10]"
            ]
          },
          "metadata": {},
          "execution_count": 1
        }
      ],
      "source": [
        "# Answer  ...\n",
        "\n",
        "Spam=[2,4,6,8,10]\n",
        "Spam[2]=\"Hello\" #(index start with 0 ,so if we assign \"hello\" as third value than we have to pass 2 as index.)\n",
        "Spam"
      ]
    },
    {
      "cell_type": "markdown",
      "source": [
        "\n",
        "\n",
        "---\n",
        "\n"
      ],
      "metadata": {
        "id": "BNPbEio_a-O9"
      }
    },
    {
      "cell_type": "markdown",
      "source": [
        "#Note :Let's pretend the spam includes the list ['a', 'b', 'c', 'd'] for the next three queries.\n"
      ],
      "metadata": {
        "id": "n3gd9Otxa_jd"
      }
    },
    {
      "cell_type": "markdown",
      "source": [
        "\n",
        "\n",
        "---\n",
        "\n"
      ],
      "metadata": {
        "id": "lgnySPzfbKOG"
      }
    },
    {
      "cell_type": "markdown",
      "source": [
        "# Q .3. What is the value of spam[int(int('3' * 2) / 11)]?\n",
        "\n",
        "# Answer --- \n",
        "\n",
        "'d'  \n",
        "\n",
        "(when we multiply 3 with 2 than we get 33 as output due to '3' work as string ,And by dividing 33 by 11 we get 3 as output .And d is the at 3rd index .So we get value 'd'."
      ],
      "metadata": {
        "id": "6mH5K4EabLJN"
      }
    },
    {
      "cell_type": "code",
      "source": [
        "spam=['a','b','c','d']\n",
        "spam[int(int('3'*2)/11)]"
      ],
      "metadata": {
        "colab": {
          "base_uri": "https://localhost:8080/",
          "height": 35
        },
        "id": "OtYl01Fj9OV6",
        "outputId": "3b33b266-585d-41d8-f77e-95c1fbb0dd00"
      },
      "execution_count": null,
      "outputs": [
        {
          "output_type": "execute_result",
          "data": {
            "text/plain": [
              "'d'"
            ],
            "application/vnd.google.colaboratory.intrinsic+json": {
              "type": "string"
            }
          },
          "metadata": {},
          "execution_count": 21
        }
      ]
    },
    {
      "cell_type": "markdown",
      "source": [
        "\n",
        "\n",
        "---\n",
        "\n"
      ],
      "metadata": {
        "id": "Hk_HdrEpbZzb"
      }
    },
    {
      "cell_type": "markdown",
      "source": [
        "#Q .4. What is the value of spam[-1]?\n",
        "\n",
        "#Answer --\n",
        "'d' (because negative indexing start from end )\n"
      ],
      "metadata": {
        "id": "fhcOQy0HbdLl"
      }
    },
    {
      "cell_type": "code",
      "source": [
        "spam=['a','b','c','d']\n",
        "spam[-1]"
      ],
      "metadata": {
        "colab": {
          "base_uri": "https://localhost:8080/",
          "height": 35
        },
        "id": "fgbtC-CJbzGW",
        "outputId": "406e61ad-8b4c-4abb-c365-f94ba0816d88"
      },
      "execution_count": null,
      "outputs": [
        {
          "output_type": "execute_result",
          "data": {
            "text/plain": [
              "'d'"
            ],
            "application/vnd.google.colaboratory.intrinsic+json": {
              "type": "string"
            }
          },
          "metadata": {},
          "execution_count": 2
        }
      ]
    },
    {
      "cell_type": "markdown",
      "source": [
        "\n",
        "\n",
        "---\n",
        "\n"
      ],
      "metadata": {
        "id": "ELXnwg0CcCjw"
      }
    },
    {
      "cell_type": "markdown",
      "source": [
        "#Q .5. What is the value of spam[:2]?\n",
        "\n",
        "#Answer ---\n",
        "['a', 'b']"
      ],
      "metadata": {
        "id": "x5JUZLtUcCd8"
      }
    },
    {
      "cell_type": "code",
      "source": [
        "spam=['a','b','c','d']\n",
        "spam[:2]"
      ],
      "metadata": {
        "colab": {
          "base_uri": "https://localhost:8080/"
        },
        "id": "mrxRkxC8cdxM",
        "outputId": "e3837911-8843-4351-9e89-126f8c8ee220"
      },
      "execution_count": null,
      "outputs": [
        {
          "output_type": "execute_result",
          "data": {
            "text/plain": [
              "['a', 'b']"
            ]
          },
          "metadata": {},
          "execution_count": 3
        }
      ]
    },
    {
      "cell_type": "markdown",
      "source": [
        "\n",
        "\n",
        "---\n",
        "\n"
      ],
      "metadata": {
        "id": "J_5d53FldIjt"
      }
    },
    {
      "cell_type": "markdown",
      "source": [
        "#Note : Let's pretend bacon has the list [3.14, 'cat,' 11, 'cat,' True] for the next three questions.\n"
      ],
      "metadata": {
        "id": "8HtNZIEvdKD0"
      }
    },
    {
      "cell_type": "markdown",
      "source": [
        "#Q .6. What is the value of bacon.index('cat')?\n",
        "\n",
        "bacon =[3.14,'cat',11,'cat',True]\n",
        "\n",
        "#Answer ---\n",
        "bacon.index('cat') = 1 (there is duplicate value also bt index search for first occurance and retune value )"
      ],
      "metadata": {
        "id": "cUKEXrEodaV0"
      }
    },
    {
      "cell_type": "code",
      "source": [
        "bacon =[3.14,'cat',11,'cat',True]\n",
        "bacon.index('cat')"
      ],
      "metadata": {
        "colab": {
          "base_uri": "https://localhost:8080/"
        },
        "id": "n0oMHPtqeQSx",
        "outputId": "cfad22db-88e3-4bb4-b501-2a7013673d4b"
      },
      "execution_count": null,
      "outputs": [
        {
          "output_type": "execute_result",
          "data": {
            "text/plain": [
              "1"
            ]
          },
          "metadata": {},
          "execution_count": 4
        }
      ]
    },
    {
      "cell_type": "markdown",
      "source": [
        "\n",
        "\n",
        "---\n",
        "\n"
      ],
      "metadata": {
        "id": "_FuLply9efzc"
      }
    },
    {
      "cell_type": "markdown",
      "source": [
        "#Q .7. How does bacon.append(99) change the look of the list value in bacon?\n",
        "\n",
        "#Answer ----\n",
        "The value (99) is added at the last position in bacon list"
      ],
      "metadata": {
        "id": "H8qvAyr7eg_M"
      }
    },
    {
      "cell_type": "code",
      "source": [
        "bacon =[3.14,'cat',11,'cat',True]\n",
        "bacon.append(99)\n",
        "bacon"
      ],
      "metadata": {
        "colab": {
          "base_uri": "https://localhost:8080/"
        },
        "id": "KnFaflBlfHXd",
        "outputId": "384e1db6-8d52-4d22-acaa-70947c6c71b8"
      },
      "execution_count": null,
      "outputs": [
        {
          "output_type": "execute_result",
          "data": {
            "text/plain": [
              "[3.14, 'cat', 11, 'cat', True, 99]"
            ]
          },
          "metadata": {},
          "execution_count": 5
        }
      ]
    },
    {
      "cell_type": "markdown",
      "source": [
        "\n",
        "\n",
        "---\n",
        "\n"
      ],
      "metadata": {
        "id": "SP5SzhPQfW3m"
      }
    },
    {
      "cell_type": "markdown",
      "source": [
        "#Q .8. How does bacon.remove('cat') change the look of the list in bacon?\n",
        "\n",
        "# Answer ---\n",
        "It remove the first ('cat') value from the list in bacon"
      ],
      "metadata": {
        "id": "_egM9d1ofZCc"
      }
    },
    {
      "cell_type": "code",
      "source": [
        "bacon =[3.14,'cat',11,'cat',True]\n",
        "bacon.remove('cat')\n",
        "bacon"
      ],
      "metadata": {
        "colab": {
          "base_uri": "https://localhost:8080/"
        },
        "id": "UArTnkD5fwtT",
        "outputId": "4cf2a676-52bd-477d-dc7f-702e270017bc"
      },
      "execution_count": null,
      "outputs": [
        {
          "output_type": "execute_result",
          "data": {
            "text/plain": [
              "[3.14, 11, 'cat', True]"
            ]
          },
          "metadata": {},
          "execution_count": 8
        }
      ]
    },
    {
      "cell_type": "markdown",
      "source": [
        "\n",
        "\n",
        "---\n",
        "\n"
      ],
      "metadata": {
        "id": "Z3jeYIlAf63P"
      }
    },
    {
      "cell_type": "markdown",
      "source": [
        "#Q .9. What are the list concatenation and list replication operators?\n",
        "\n",
        "#Answer ----\n",
        " For list concatenation we use + operator ,And for list replication we use * operator ."
      ],
      "metadata": {
        "id": "VO0mvfTVf8KG"
      }
    },
    {
      "cell_type": "markdown",
      "source": [
        "\n",
        "\n",
        "---\n",
        "\n"
      ],
      "metadata": {
        "id": "F5AjvQNHhXMu"
      }
    },
    {
      "cell_type": "markdown",
      "source": [
        "#Q .10. What is difference between the list methods append() and insert()?\n",
        "\n",
        "# Answer ---\n",
        "Append method --In a list append will only add values at end position .\n",
        "\n",
        "Insert method --While Insert will add values anywhere in a list "
      ],
      "metadata": {
        "id": "LlzIKSLShYcr"
      }
    },
    {
      "cell_type": "markdown",
      "source": [
        "\n",
        "\n",
        "---\n",
        "\n"
      ],
      "metadata": {
        "id": "Hw3Y7XiYiceE"
      }
    },
    {
      "cell_type": "markdown",
      "source": [
        "#Q .11. What are the two methods for removing items from a list?\n",
        "\n",
        "# Answer --\n",
        "\n",
        "These are two method for removing items from the list ,\n",
        "\n",
        "1 --remove()\n",
        "\n",
        "2 --del()"
      ],
      "metadata": {
        "id": "dZvLIPemidY8"
      }
    },
    {
      "cell_type": "markdown",
      "source": [
        "\n",
        "\n",
        "---\n",
        "\n"
      ],
      "metadata": {
        "id": "s-TmBK6pjPOk"
      }
    },
    {
      "cell_type": "markdown",
      "source": [
        "#Q .12. Describe how list values and string values are identical.\n",
        "\n",
        "# Answer --\n",
        "Lists values and strings values can be passed to len(),And have indexes and slices, be used in for loops, be concatenated or replicated,It also used, in and not in operators."
      ],
      "metadata": {
        "id": "jVQen6eojQeU"
      }
    },
    {
      "cell_type": "markdown",
      "source": [
        "\n",
        "\n",
        "---\n",
        "\n"
      ],
      "metadata": {
        "id": "BSIg-Iiy2H-f"
      }
    },
    {
      "cell_type": "markdown",
      "source": [
        "#Q .13. What's the difference between tuples and lists?\n",
        "\n",
        "# Answer ---\n",
        "The major difference between list and tuples is that ,list is mutable while tuples is imutable .\n",
        "\n",
        "List can add and change values but tuples can not do same"
      ],
      "metadata": {
        "id": "aAT9P0WS2JLX"
      }
    },
    {
      "cell_type": "markdown",
      "source": [
        "\n",
        "\n",
        "---\n",
        "\n"
      ],
      "metadata": {
        "id": "ouZe1sBm2zE0"
      }
    },
    {
      "cell_type": "markdown",
      "source": [
        "#Q .14. How do you type a tuple value that only contains the integer 42?\n",
        "\n",
        "# Answer ----\n",
        "\n",
        "tup =(42 ,) we have to put comma ,otherwise its show int data type."
      ],
      "metadata": {
        "id": "9e8kqKN72z60"
      }
    },
    {
      "cell_type": "code",
      "source": [
        "tup=(42,)\n",
        "print(type(tup))\n",
        "tup"
      ],
      "metadata": {
        "colab": {
          "base_uri": "https://localhost:8080/"
        },
        "id": "pi3UQKqe3G1z",
        "outputId": "dbfe9911-853b-4e9a-fb6b-41ab9c1f5c36"
      },
      "execution_count": null,
      "outputs": [
        {
          "output_type": "stream",
          "name": "stdout",
          "text": [
            "<class 'tuple'>\n"
          ]
        },
        {
          "output_type": "execute_result",
          "data": {
            "text/plain": [
              "(42,)"
            ]
          },
          "metadata": {},
          "execution_count": 16
        }
      ]
    },
    {
      "cell_type": "markdown",
      "source": [
        "\n",
        "\n",
        "---\n",
        "\n"
      ],
      "metadata": {
        "id": "VXvF4vnJ30vm"
      }
    },
    {
      "cell_type": "markdown",
      "source": [
        "#Q .15. How do you get a list value's tuple form? How do you get a tuple value's list form?\n",
        "\n",
        "# Answer ---\n",
        "\n",
        "For this we have to use type coversion i.e\n",
        "\n"
      ],
      "metadata": {
        "id": "CIrkBqPm31gO"
      }
    },
    {
      "cell_type": "code",
      "source": [
        "# List to Tuple \n",
        "\n",
        "lst =[1,2,3,4]\n",
        "tup=tuple(lst)\n",
        "print(f\"Before converting {lst ,type(lst)} ,After coonversion {tup ,type(tup)}\")"
      ],
      "metadata": {
        "colab": {
          "base_uri": "https://localhost:8080/"
        },
        "id": "2-5awEVC4ggy",
        "outputId": "95428c6a-77c2-46f8-b793-2db0370b002f"
      },
      "execution_count": null,
      "outputs": [
        {
          "output_type": "stream",
          "name": "stdout",
          "text": [
            "Before converting ([1, 2, 3, 4], <class 'list'>) ,After coonversion ((1, 2, 3, 4), <class 'tuple'>)\n"
          ]
        }
      ]
    },
    {
      "cell_type": "code",
      "source": [
        "# Tuple to List\n",
        "\n",
        "t=(1,2,3,4,5)\n",
        "l=list(t)\n",
        "print(f\"Before converting {t ,type(t)} ,After coonversion {l ,type(l)}\")"
      ],
      "metadata": {
        "colab": {
          "base_uri": "https://localhost:8080/"
        },
        "id": "4su_5lp85wTs",
        "outputId": "35d95d82-c05d-4d19-8293-77b050359d72"
      },
      "execution_count": null,
      "outputs": [
        {
          "output_type": "stream",
          "name": "stdout",
          "text": [
            "Before converting ((1, 2, 3, 4, 5), <class 'tuple'>) ,After coonversion ([1, 2, 3, 4, 5], <class 'list'>)\n"
          ]
        }
      ]
    },
    {
      "cell_type": "markdown",
      "source": [
        "\n",
        "\n",
        "---\n",
        "\n"
      ],
      "metadata": {
        "id": "hdbTFpSp6K2l"
      }
    },
    {
      "cell_type": "markdown",
      "source": [
        "#Q .16. Variables that \"contain\" list values are not necessarily lists themselves. Instead, what do they contain?\n",
        "\n",
        "# Answer ---\n",
        "\n",
        "Variables contains references to list values ."
      ],
      "metadata": {
        "id": "fXfbMKNq6Lv9"
      }
    },
    {
      "cell_type": "markdown",
      "source": [
        "\n",
        "\n",
        "---\n",
        "\n"
      ],
      "metadata": {
        "id": "pzoDBN-s65OA"
      }
    },
    {
      "cell_type": "markdown",
      "source": [
        "#Q .17. How do you distinguish between copy.copy() and copy.deepcopy()?\n",
        "\n",
        "# Answer ----\n",
        "\n",
        "copy.copy() create reference to original object. If you change copied object , you change the original object. copy.deepcopy() creates new object and does real copying of original object to new one ."
      ],
      "metadata": {
        "id": "J9HSt14b66O4"
      }
    }
  ]
}