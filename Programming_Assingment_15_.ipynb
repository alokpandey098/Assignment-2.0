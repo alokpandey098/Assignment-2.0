{
  "nbformat": 4,
  "nbformat_minor": 0,
  "metadata": {
    "colab": {
      "provenance": []
    },
    "kernelspec": {
      "name": "python3",
      "display_name": "Python 3"
    },
    "language_info": {
      "name": "python"
    }
  },
  "cells": [
    {
      "cell_type": "markdown",
      "source": [
        "#Question 1:\n",
        "Please write a program using generator to print the numbers which can be divisible by 5 and 7 between 0 and n in comma separated form while n is input by console.\n",
        "\n",
        "Example:\n",
        "\n",
        "If the following n is given as input to the program:\n",
        "\n",
        "100\n",
        "\n",
        "Then, the output of the program should be:\n",
        "\n",
        "0,35,70\n"
      ],
      "metadata": {
        "id": "kvtjemEymDuo"
      }
    },
    {
      "cell_type": "code",
      "source": [
        "# Answer ..\n",
        "\n",
        "num = int(input(\"Enter a number: \"))\n",
        "\n",
        "def divisible_by_5_and_7(num):\n",
        "    for i in range(num+1):\n",
        "        if i % 5 == 0 and i % 7 == 0:\n",
        "            yield i\n",
        "\n",
        "print(\"Output is : \",\", \".join(str(i) for i in divisible_by_5_and_7(num)))\n",
        " "
      ],
      "metadata": {
        "colab": {
          "base_uri": "https://localhost:8080/"
        },
        "id": "Nvo5CNIxnLdz",
        "outputId": "0a6e77a3-230b-4642-9be1-dd60345f2666"
      },
      "execution_count": 2,
      "outputs": [
        {
          "output_type": "stream",
          "name": "stdout",
          "text": [
            "Enter a number: 100\n",
            "Output is :  0, 35, 70\n"
          ]
        }
      ]
    },
    {
      "cell_type": "markdown",
      "source": [
        "#Question 2:\n",
        "Please write a program using generator to print the even numbers between 0 and n in comma separated form while n is input by console.\n",
        "\n",
        "Example:\n",
        "\n",
        "If the following n is given as input to the program:\n",
        "\n",
        "10\n",
        "\n",
        "Then, the output of the program should be:\n",
        "\n",
        "0,2,4,6,8,10"
      ],
      "metadata": {
        "id": "U1vZ_CGtnSId"
      }
    },
    {
      "cell_type": "code",
      "source": [
        "# Answer ..\n",
        "\n",
        "num1 = int(input(\"Enter a number: \"))\n",
        "\n",
        "def check_even(num1):\n",
        "    for i in range(num1+1):\n",
        "        if i % 2 == 0:\n",
        "            yield i\n",
        "\n",
        "print(\"Output is : \",\", \".join(str(i) for i in check_even(num1)))\n"
      ],
      "metadata": {
        "colab": {
          "base_uri": "https://localhost:8080/"
        },
        "id": "jSMhX_fgnbnM",
        "outputId": "402d2a72-3b57-42e8-ba69-ec360c3ba361"
      },
      "execution_count": 4,
      "outputs": [
        {
          "output_type": "stream",
          "name": "stdout",
          "text": [
            "Enter a number: 10\n",
            "Output is :  0, 2, 4, 6, 8, 10\n"
          ]
        }
      ]
    },
    {
      "cell_type": "markdown",
      "source": [
        "#Question 3:\n",
        "The Fibonacci Sequence is computed based on the following formula:\n",
        "\n",
        "f(n)=0 if n=0\n",
        "\n",
        "f(n)=1 if n=1\n",
        "\n",
        "f(n)=f(n-1)+f(n-2) if n&gt;1\n",
        "\n",
        "Please write a program using list comprehension to print the Fibonacci Sequence in comma\n",
        "separated form with a given n input by console.\n",
        "\n",
        "Example:\n",
        "\n",
        "If the following n is given as input to the program:\n",
        "\n",
        "7\n",
        "\n",
        "Then, the output of the program should be:\n",
        "\n",
        "0,1,1,2,3,5,8,13"
      ],
      "metadata": {
        "id": "1RPBrlC7oPM9"
      }
    },
    {
      "cell_type": "code",
      "source": [
        "# Answer ..\n",
        "\n",
        "num2 = int(input(\"Enter a number: \"))\n",
        "\n",
        "def fibonacci(num2):\n",
        "    if num2 == 0:\n",
        "        return 0\n",
        "    elif num2 == 1:\n",
        "        return 1\n",
        "    else:\n",
        "        return fibonacci(num2-1) + fibonacci(num2-2)\n",
        "\n",
        "fib_seq = [fibonacci(i) for i in range(num2+1)]\n",
        "print(\"Output is : \",\", \".join(str(i) for i in fib_seq))\n"
      ],
      "metadata": {
        "colab": {
          "base_uri": "https://localhost:8080/"
        },
        "id": "1P4EgbmDoYng",
        "outputId": "25202917-29d9-40ca-ecab-77ecbabaa75a"
      },
      "execution_count": 5,
      "outputs": [
        {
          "output_type": "stream",
          "name": "stdout",
          "text": [
            "Enter a number: 7\n",
            "Output is :  0, 1, 1, 2, 3, 5, 8, 13\n"
          ]
        }
      ]
    },
    {
      "cell_type": "markdown",
      "source": [
        "#Question 4:\n",
        "Assuming that we have some email addresses in the &quot;\n",
        "\n",
        "username@companyname.com&quot; format,\n",
        "please write program to print the user name of a given email address. Both user names and\n",
        "company names are composed of letters only.\n",
        "\n",
        "Example:\n",
        "\n",
        "If the following email address is given as input to the program:\n",
        "\n",
        "john@google.com\n",
        "\n",
        "Then, the output of the program should be:\n",
        "\n",
        "john"
      ],
      "metadata": {
        "id": "V1E2ToeEodFZ"
      }
    },
    {
      "cell_type": "code",
      "source": [
        "# Answer ..\n",
        "\n",
        "email = input(\"Enter an email address: \")\n",
        "user_name = email.split(\"@\")[0]\n",
        "print(\"Username from  given email is : \",user_name)\n"
      ],
      "metadata": {
        "colab": {
          "base_uri": "https://localhost:8080/"
        },
        "id": "BnB2Vl4Hongp",
        "outputId": "170ac4ea-479a-4efe-da97-1cd561d48765"
      },
      "execution_count": 6,
      "outputs": [
        {
          "output_type": "stream",
          "name": "stdout",
          "text": [
            "Enter an email address: john@google.com\n",
            "Username from  given email is :  john\n"
          ]
        }
      ]
    },
    {
      "cell_type": "markdown",
      "source": [
        "#Question 5:\n",
        "Define a class named Shape and its subclass Square. The Square class has an init function\n",
        "which takes a length as argument. Both classes have a area function which can print the area\n",
        "of the shape where Shape&#39;s area is 0 by default."
      ],
      "metadata": {
        "id": "bRCWb-0vouFS"
      }
    },
    {
      "cell_type": "code",
      "source": [
        "# Answer ..\n",
        "\n",
        "class Shape:\n",
        "    def area(self):\n",
        "        return 0\n",
        "\n",
        "class Square(Shape):\n",
        "    def __init__(self, length):\n",
        "        self.length = length\n",
        "        \n",
        "    def area(self):\n",
        "        return self.length * self.length\n",
        "    \n",
        "sq = Square(5)\n",
        "print(\"Area of shape is : \",sq.area())\n"
      ],
      "metadata": {
        "colab": {
          "base_uri": "https://localhost:8080/"
        },
        "id": "I9miSb4co0qJ",
        "outputId": "4f19797b-ed4f-4267-9f4a-954de6e4f7bd"
      },
      "execution_count": 7,
      "outputs": [
        {
          "output_type": "stream",
          "name": "stdout",
          "text": [
            "Area of shape is :  25\n"
          ]
        }
      ]
    }
  ]
}