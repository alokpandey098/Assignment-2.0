{
  "nbformat": 4,
  "nbformat_minor": 0,
  "metadata": {
    "colab": {
      "provenance": []
    },
    "kernelspec": {
      "name": "python3",
      "display_name": "Python 3"
    },
    "language_info": {
      "name": "python"
    }
  },
  "cells": [
    {
      "cell_type": "markdown",
      "source": [
        "#Question1. Create a function that takes three arguments a, b, c and returns the sum of the numbers that are evenly divided by c from the range a, b inclusive.\n",
        "Examples\n",
        "evenly_divisible(1, 10, 20) ➞ 0\n",
        "# No number between 1 and 10 can be evenly divided by 20.\n",
        "evenly_divisible(1, 10, 2) ➞ 30\n",
        "# 2 + 4 + 6 + 8 + 10 = 30\n",
        "evenly_divisible(1, 10, 3) ➞ 18\n",
        "# 3 + 6 + 9 = 18"
      ],
      "metadata": {
        "id": "OoDEBSajb-dB"
      }
    },
    {
      "cell_type": "code",
      "source": [
        "def evenly_div(a, b, c):\n",
        "    return sum(i for i in range(a, b+1) if i % c == 0)\n"
      ],
      "metadata": {
        "id": "uPWOB9RSLyUK"
      },
      "execution_count": 2,
      "outputs": []
    },
    {
      "cell_type": "code",
      "source": [
        "print(\"Evenely divisible --> \",evenly_div(1,10,2))\n",
        "print(\"Evenely divisible --> \",evenly_div(1,10,3))"
      ],
      "metadata": {
        "colab": {
          "base_uri": "https://localhost:8080/"
        },
        "id": "WQUN0fQpg-P6",
        "outputId": "50b5af97-8aa9-4739-e43c-bbb1774c5e47"
      },
      "execution_count": 14,
      "outputs": [
        {
          "output_type": "stream",
          "name": "stdout",
          "text": [
            "Evenely divisible -->  30\n",
            "Evenely divisible -->  18\n"
          ]
        }
      ]
    },
    {
      "cell_type": "markdown",
      "source": [
        "#Question2. Create a function that returns True if a given inequality expression is correct and False otherwise.\n",
        "\n",
        "Examples\n",
        "\n",
        "correct_signs(&quot;3 &lt; 7 &lt; 11&quot;) ➞ True\n",
        "\n",
        "correct_signs(&quot;13 &gt; 44 &gt; 33 &gt; 1&quot;) ➞ False\n",
        "\n",
        "correct_signs(&quot;1 &lt; 2 &lt; 6 &lt; 9 &gt; 3&quot;) ➞ True"
      ],
      "metadata": {
        "id": "ub4-Nxn7cJB9"
      }
    },
    {
      "cell_type": "code",
      "source": [
        "def cor_sig(ineq):\n",
        "    ineq = ineq.split(\" \")\n",
        "    for i in range(0, len(ineq)-2, 2):\n",
        "        if not eval(f\"{ineq[i]} {ineq[i+1]} {ineq[i+2]}\"):\n",
        "            return False\n",
        "    return True \n"
      ],
      "metadata": {
        "id": "LP8HZNXuLyXF"
      },
      "execution_count": 15,
      "outputs": []
    },
    {
      "cell_type": "code",
      "source": [
        "print(\"Correct sign --> \",cor_sig(\"3 < 7 < 11\"))\n",
        "\n",
        "print(\"Correct sign --> \",cor_sig(\"13 > 44 > 33 > 1\"))\n",
        "\n",
        "print(\"Correct sign --> \",cor_sig(\"1 < 2 < 6 < 9 > 3\"))"
      ],
      "metadata": {
        "colab": {
          "base_uri": "https://localhost:8080/"
        },
        "id": "LZuxbYt2n4uN",
        "outputId": "083fa1bc-f646-42f1-f816-9a899a9f2b87"
      },
      "execution_count": 16,
      "outputs": [
        {
          "output_type": "stream",
          "name": "stdout",
          "text": [
            "Correct sign -->  True\n",
            "Correct sign -->  False\n",
            "Correct sign -->  True\n"
          ]
        }
      ]
    },
    {
      "cell_type": "markdown",
      "source": [
        "#Question3. Create a function that replaces all the vowels in a string with a specified character.\n",
        "Examples\n",
        "\n",
        "replace_vowels(&quot;the aardvark&quot;, &quot;#&quot;) ➞ &quot;th# ##rdv#rk&quot;\n",
        "\n",
        "replace_vowels(&quot;minnie mouse&quot;, &quot;?&quot;) ➞ &quot;m?nn?? m??s?&quot;\n",
        "\n",
        "replace_vowels(&quot;shakespeare&quot;, &quot;*&quot;) ➞ &quot;sh*k*sp**r*&quot;"
      ],
      "metadata": {
        "id": "zGP6-pHvceje"
      }
    },
    {
      "cell_type": "code",
      "source": [
        "def rep_vow(string, char):\n",
        "    vowels = \"aeiouAEIOU\"\n",
        "    return \"\".join(char if l in vowels else l for l in string)\n"
      ],
      "metadata": {
        "id": "HUtylyiWLycF"
      },
      "execution_count": 17,
      "outputs": []
    },
    {
      "cell_type": "code",
      "source": [
        "print(\"Replace vowel --> \",rep_vow(\"the aardvark\", \"#\"))\n",
        "print(\"Replace vowel --> \",rep_vow(\"minnie mouse\", \"?\"))\n",
        "print(\"Replace vowel --> \",rep_vow(\"shakespeare\", \"\"))"
      ],
      "metadata": {
        "colab": {
          "base_uri": "https://localhost:8080/"
        },
        "id": "M8yhzgYvo8d7",
        "outputId": "f9a8148f-047b-42fc-c968-a6477fdd4549"
      },
      "execution_count": 18,
      "outputs": [
        {
          "output_type": "stream",
          "name": "stdout",
          "text": [
            "Replace vowel -->  th# ##rdv#rk\n",
            "Replace vowel -->  m?nn?? m??s?\n",
            "Replace vowel -->  shkspr\n"
          ]
        }
      ]
    },
    {
      "cell_type": "markdown",
      "source": [
        "#Question4. Write a function that calculates the factorial of a number recursively.\n",
        "Examples :\n",
        "\n",
        "factorial(5) ➞ 120\n",
        "\n",
        "factorial(3) ➞ 6\n",
        "\n",
        "factorial(1) ➞ 1\n",
        "\n",
        "factorial(0) ➞ 1"
      ],
      "metadata": {
        "id": "3K8Kg8DbdgbR"
      }
    },
    {
      "cell_type": "code",
      "source": [
        "def factorial(n):\n",
        "    if n == 0:\n",
        "        return 1\n",
        "    return n * factorial(n-1)\n"
      ],
      "metadata": {
        "id": "Ss7ApmNDLyfH"
      },
      "execution_count": 9,
      "outputs": []
    },
    {
      "cell_type": "code",
      "source": [
        "print(\"Factorial of 5 --> \",factorial(5))\n",
        "\n",
        "print(\"Factorial of 5 --> \",factorial(3))\n",
        "\n",
        "print(\"Factorial of 5 --> \",factorial(1))\n",
        "\n",
        "print(\"Factorial of 5 --> \",factorial(0))"
      ],
      "metadata": {
        "colab": {
          "base_uri": "https://localhost:8080/"
        },
        "id": "cysLmxJiqCuY",
        "outputId": "60c4b02d-97a9-4549-afef-c1c13a85d615"
      },
      "execution_count": 10,
      "outputs": [
        {
          "output_type": "stream",
          "name": "stdout",
          "text": [
            "Factorial of 5 -->  120\n",
            "Factorial of 5 -->  6\n",
            "Factorial of 5 -->  1\n",
            "Factorial of 5 -->  1\n"
          ]
        }
      ]
    },
    {
      "cell_type": "markdown",
      "source": [
        "#Question 5\n",
        "Hamming distance is the number of characters that differ between two strings.\n",
        "\n",
        "To illustrate:\n",
        "\n",
        "String1: &quot;abcbba&quot;\n",
        "\n",
        "String2: &quot;abcbda&quot;\n",
        "\n",
        "Hamming Distance: 1 - &quot;b&quot; vs. &quot;d&quot; is the only difference.\n",
        "\n",
        "Create a function that computes the hamming distance between two strings.\n",
        "\n",
        "Examples :\n",
        "\n",
        "hamming_distance(&quot;abcde&quot;, &quot;bcdef&quot;) ➞ 5\n",
        "\n",
        "hamming_distance(&quot;abcde&quot;, &quot;abcde&quot;) ➞ 0\n",
        "\n",
        "hamming_distance(&quot;strong&quot;, &quot;strung&quot;) ➞ 1"
      ],
      "metadata": {
        "id": "ozqYaTpPd1RE"
      }
    },
    {
      "cell_type": "code",
      "source": [
        "def ham_dis(s1, s2):\n",
        "    return sum(1 for c1, c2 in zip(s1, s2) if c1 != c2)\n"
      ],
      "metadata": {
        "id": "5RAX5KVMLyh0"
      },
      "execution_count": 19,
      "outputs": []
    },
    {
      "cell_type": "code",
      "source": [
        "print(\"Hamming distance --> \",ham_dis(\"abcde\", \"bcdef\"))\n",
        "\n",
        "print(\"Hamming distance --> \",ham_dis(\"abcde\", \"abcde\"))\n",
        "\n",
        "print(\"Hamming distance --> \",ham_dis(\"strong\", \"strung\"))"
      ],
      "metadata": {
        "colab": {
          "base_uri": "https://localhost:8080/"
        },
        "id": "rHFFjUrNq9O4",
        "outputId": "6cb5b128-a5ae-4a90-f96f-767b5c7649ab"
      },
      "execution_count": 20,
      "outputs": [
        {
          "output_type": "stream",
          "name": "stdout",
          "text": [
            "Hamming distance -->  5\n",
            "Hamming distance -->  0\n",
            "Hamming distance -->  1\n"
          ]
        }
      ]
    }
  ]
}