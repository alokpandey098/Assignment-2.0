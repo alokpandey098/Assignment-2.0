{
  "nbformat": 4,
  "nbformat_minor": 0,
  "metadata": {
    "colab": {
      "provenance": []
    },
    "kernelspec": {
      "name": "python3",
      "display_name": "Python 3"
    },
    "language_info": {
      "name": "python"
    }
  },
  "cells": [
    {
      "cell_type": "markdown",
      "source": [
        "# Q .1.\tWrite a Python Program to find sum of array?\n",
        "\n"
      ],
      "metadata": {
        "id": "veN_N-4UlrbN"
      }
    },
    {
      "cell_type": "code",
      "execution_count": 3,
      "metadata": {
        "colab": {
          "base_uri": "https://localhost:8080/"
        },
        "id": "CoAf1zgclcsq",
        "outputId": "07cffb56-6870-48da-a579-fd3350f9b38d"
      },
      "outputs": [
        {
          "output_type": "stream",
          "name": "stdout",
          "text": [
            "21\n"
          ]
        }
      ],
      "source": [
        "arr = [1,2,3,4,5,6]\n",
        "sum=(0)\n",
        "for i in arr:\n",
        "  sum+=i\n",
        "print(sum)"
      ]
    },
    {
      "cell_type": "markdown",
      "source": [
        "# Q .2.\tWrite a Python Program to find largest element in an array?"
      ],
      "metadata": {
        "id": "EhFeWbP9xrAw"
      }
    },
    {
      "cell_type": "code",
      "source": [
        "arr1=[4,45,25,27,19,888,336]\n",
        "mx =arr1[0]\n",
        "for i in range(0,len(arr1)) :\n",
        "  if arr1[i] > mx :\n",
        "    mx = arr1[i]\n",
        "print(\"The largest number in array is : \" ,str(mx))"
      ],
      "metadata": {
        "colab": {
          "base_uri": "https://localhost:8080/"
        },
        "id": "bTZmTu_DmuIu",
        "outputId": "f49d593c-caac-49de-d610-479f5f8f32a1"
      },
      "execution_count": 10,
      "outputs": [
        {
          "output_type": "stream",
          "name": "stdout",
          "text": [
            "The largest number in array is :  888\n"
          ]
        }
      ]
    },
    {
      "cell_type": "markdown",
      "source": [
        "# Q .3.\tWrite a Python Program for array rotation?"
      ],
      "metadata": {
        "id": "CaIwMV5hxxni"
      }
    },
    {
      "cell_type": "code",
      "source": [
        "def rotateArray(a,d):\n",
        "    temp = []\n",
        "    n=len(a)\n",
        "    for i in range(d,n):\n",
        "        temp.append(a[i])\n",
        "    i = 0\n",
        "    for i in range (0,d):\n",
        "        temp.append(a[i])\n",
        "    a=temp.copy()\n",
        "    return a\n",
        "print(\"Array before rotation : \",arr)\n",
        "arr = [1, 2, 3, 4, 5, 6, 7]\n",
        "\n",
        "print(\"Array after left rotation is: \", end=' ')\n",
        "print(rotateArray(arr, 2))"
      ],
      "metadata": {
        "colab": {
          "base_uri": "https://localhost:8080/"
        },
        "id": "IOvI7wgFpnUV",
        "outputId": "3402be19-f36b-435f-9f78-b198026f394f"
      },
      "execution_count": 13,
      "outputs": [
        {
          "output_type": "stream",
          "name": "stdout",
          "text": [
            "Array before rotation :  [1, 2, 3, 4, 5, 6, 7]\n",
            "Array after left rotation is:  [3, 4, 5, 6, 7, 1, 2]\n"
          ]
        }
      ]
    },
    {
      "cell_type": "markdown",
      "source": [
        "# Q .4.\tWrite a Python Program to Split the array and add the first part to the end?"
      ],
      "metadata": {
        "id": "UwTo9zYwx3ln"
      }
    },
    {
      "cell_type": "code",
      "source": [
        "def split_two_parts(n_list, L):\n",
        "    return n_list[:L], n_list[L:]\n",
        "n_list = [1,1,2,3,4,4,5, 1]\n",
        "print(\"Original list:\") \n",
        "print(n_list)\n",
        "first_list_length = 3\n",
        "print(\"\\nLength of the first part of the list:\",first_list_length)\n",
        "print(\"\\nSplited the said list into two parts:\")\n",
        "print(split_two_parts(n_list, first_list_length))"
      ],
      "metadata": {
        "colab": {
          "base_uri": "https://localhost:8080/"
        },
        "id": "ivKREfPLtKdK",
        "outputId": "a03b32b5-e025-4396-8444-dc06fd77ebbd"
      },
      "execution_count": 14,
      "outputs": [
        {
          "output_type": "stream",
          "name": "stdout",
          "text": [
            "Original list:\n",
            "[1, 1, 2, 3, 4, 4, 5, 1]\n",
            "\n",
            "Length of the first part of the list: 3\n",
            "\n",
            "Splited the said list into two parts:\n",
            "([1, 1, 2], [3, 4, 4, 5, 1])\n"
          ]
        }
      ]
    },
    {
      "cell_type": "markdown",
      "source": [
        "# Q .5.\tWrite a Python Program to check if given array is Monotonic?\n"
      ],
      "metadata": {
        "id": "KVPgJSCbx-RW"
      }
    },
    {
      "cell_type": "code",
      "source": [
        "def isMonotonic(A):\n",
        "   return (all(A[i] <= A[i + 1] for i in range(len(A) - 1)) or\n",
        "      all(A[i] >= A[i + 1] for i in range(len(A) - 1)))\n",
        "# main\n",
        "A = [1,2,3,4,7,8]\n",
        "print(isMonotonic(A))"
      ],
      "metadata": {
        "colab": {
          "base_uri": "https://localhost:8080/"
        },
        "id": "N-StUVAYvR8w",
        "outputId": "16ab4f59-9ad8-4bc5-e444-6d142654e6fb"
      },
      "execution_count": 15,
      "outputs": [
        {
          "output_type": "stream",
          "name": "stdout",
          "text": [
            "True\n"
          ]
        }
      ]
    }
  ]
}