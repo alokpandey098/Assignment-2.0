{
 "cells": [
  {
   "cell_type": "markdown",
   "id": "4ebb96e5-77db-41ed-bb4f-18e739822f9b",
   "metadata": {},
   "source": [
    "Question -1\n",
    "\n",
    "What is the result of the code, and why?\n",
    "\n",
    "def func(a, b=6, c=8):print(a, b, c)\n",
    "\n",
    "func(1, 2)\n",
    "\n",
    "Answer -\n",
    "\n",
    "The line func() takes two values, that is 1 and 2 respectively, but the func() is defined to take 3 values, as in func() we pass only two values, the third value comes from the default value, that is c = 8."
   ]
  },
  {
   "cell_type": "code",
   "execution_count": 1,
   "id": "f7677efc-26e0-4642-8ee6-a3e9c4fece72",
   "metadata": {},
   "outputs": [
    {
     "name": "stdout",
     "output_type": "stream",
     "text": [
      "1 2 8\n"
     ]
    }
   ],
   "source": [
    "def func(a, b=6, c=8): \n",
    "    print(a, b, c)\n",
    "func(1, 2)\n"
   ]
  },
  {
   "cell_type": "markdown",
   "id": "2f65e161-8cfa-4285-8cd6-ed8a5edbb9dd",
   "metadata": {},
   "source": [
    "Question -2\n",
    "\n",
    "What is the result of this code, and why?\n",
    "\n",
    "def func(a, b, c=5):print(a, b, c)\n",
    "\n",
    "func(1, c=3, b=2)\n",
    "\n",
    "Answer -\n",
    "\n",
    "The line func() takes three values, that is 1 , c= 3 snd b = 2 respectively,the func() is defined to take 3 values, as in func() we pass othree values, the default values gets overwritten, and we get the newly passed values."
   ]
  },
  {
   "cell_type": "code",
   "execution_count": 2,
   "id": "edde5cbf-d86c-400c-9cd7-1706add984e9",
   "metadata": {},
   "outputs": [
    {
     "name": "stdout",
     "output_type": "stream",
     "text": [
      "1 2 3\n"
     ]
    }
   ],
   "source": [
    "def func(a, b, c=5):\n",
    "    print(a, b, c)\n",
    "func(1, c=3, b=2)"
   ]
  },
  {
   "cell_type": "markdown",
   "id": "def7f79b-1b60-492c-9d30-9e0f8ec1f036",
   "metadata": {},
   "source": [
    "Question -3\n",
    "\n",
    "How about this code: what is its result, and why?\n",
    "\n",
    "def func(a, *pargs):\n",
    "    print(a, pargs)\n",
    "\n",
    "func(1, 2, 3)\n",
    "\n",
    "Answer..\n",
    "\n",
    "The return type of *args parameter is tuple, where as **kargs will be dictionary"
   ]
  },
  {
   "cell_type": "code",
   "execution_count": 3,
   "id": "b7d0c409-eadc-4145-8eca-c5b46f83f73a",
   "metadata": {},
   "outputs": [
    {
     "name": "stdout",
     "output_type": "stream",
     "text": [
      "1 (2, 3)\n"
     ]
    }
   ],
   "source": [
    "def func(a, *pargs):\n",
    "    print(a, pargs)\n",
    "func(1, 2, 3)"
   ]
  },
  {
   "cell_type": "markdown",
   "id": "06346b7f-bab6-4108-82ab-bfb51cf58258",
   "metadata": {},
   "source": [
    "Question -4\n",
    "\n",
    "What does this code print, and why?\n",
    "\n",
    "def func(a, **kargs):print(a, kargs)\n",
    "\n",
    "func(a=1, c=3, b=2)\n",
    "\n",
    "Answer....\n",
    "\n",
    "The return type of  **kargs is  dictionary"
   ]
  },
  {
   "cell_type": "code",
   "execution_count": 4,
   "id": "6b6f8ce2-8feb-4d0c-b6b1-542602265aaa",
   "metadata": {},
   "outputs": [
    {
     "name": "stdout",
     "output_type": "stream",
     "text": [
      "1 {'c': 3, 'b': 2}\n"
     ]
    }
   ],
   "source": [
    "def func(a, **kargs):\n",
    "    print(a, kargs)\n",
    "func(a=1, c=3, b=2)"
   ]
  },
  {
   "cell_type": "markdown",
   "id": "b5311ea4-c0e0-4ab7-b2fc-6cc0ff167603",
   "metadata": {},
   "source": [
    "Question -5\n",
    "\n",
    "What gets printed by this, and explain?\n",
    "\n",
    "def func(a, b, c=8, d=5):\n",
    "    print(a, b, c, d)\n",
    "\n",
    "func(1, *(5, 6))\n",
    "\n",
    "Answer -\n",
    "\n",
    "'*' is the unpacking operator and are operators that unpack the values from iterable objects in Python. The single asterisk operator * can be used on any iterable that Python provides, while the double asterisk operator ** can only be used on dictionaries. In the example the value *(5,6) will be unpacked and will be assigned to b and c and passed as arguments, d =5 will taken by defaults are keyword arguments.\n",
    "\n"
   ]
  },
  {
   "cell_type": "code",
   "execution_count": 5,
   "id": "d21d129d-f8d4-42b2-9db4-b5392065a126",
   "metadata": {},
   "outputs": [
    {
     "name": "stdout",
     "output_type": "stream",
     "text": [
      "1 5 6 5\n"
     ]
    }
   ],
   "source": [
    "def func(a, b, c=8, d=5): \n",
    "    print(a, b, c, d)\n",
    "func(1, *(5, 6))"
   ]
  },
  {
   "cell_type": "markdown",
   "id": "4c25d2f6-d959-4fce-a47c-0f8fe392cb72",
   "metadata": {},
   "source": [
    "Question -6\n",
    "\n",
    "what is the result of this, and explain?\n",
    "\n",
    "def func(a, b, c): a = 2; b[0] = 'x'; c['a'] = 'y'\n",
    "\n",
    "l=1; m=[1]; n={'a':0}\n",
    "\n",
    "func(l, m, n)\n",
    "\n",
    "Answer -\n",
    "\n",
    "Here in the code, the list and dict are passed as argument, and those are mutable. Here the list l and parameter b point to the same list in the memory location where as dict n and c point to the same memory location. Any updates to this list will update in the memory location .\n",
    "\n",
    "l = 1 , integer values, immutable, m is list, mutable, n is dict, mutable.\n",
    "output will be = 1,['x'],{'a':'y'}\n"
   ]
  },
  {
   "cell_type": "code",
   "execution_count": 6,
   "id": "0811f519-70cb-42a4-ac53-526d9a8e3b48",
   "metadata": {},
   "outputs": [
    {
     "data": {
      "text/plain": [
       "(1, ['x'], {'a': 'y'})"
      ]
     },
     "execution_count": 6,
     "metadata": {},
     "output_type": "execute_result"
    }
   ],
   "source": [
    "def func(a, b, c): \n",
    "    a = 2; b[0] = 'x'; c['a'] = 'y'\n",
    "    \n",
    "l=1; m=[1]; n={'a':0}\n",
    "func(l, m, n)\n",
    "\n",
    "l, m, n"
   ]
  }
 ],
 "metadata": {
  "kernelspec": {
   "display_name": "Python 3 (ipykernel)",
   "language": "python",
   "name": "python3"
  },
  "language_info": {
   "codemirror_mode": {
    "name": "ipython",
    "version": 3
   },
   "file_extension": ".py",
   "mimetype": "text/x-python",
   "name": "python",
   "nbconvert_exporter": "python",
   "pygments_lexer": "ipython3",
   "version": "3.10.6"
  }
 },
 "nbformat": 4,
 "nbformat_minor": 5
}
