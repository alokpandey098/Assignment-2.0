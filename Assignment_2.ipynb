{
  "nbformat": 4,
  "nbformat_minor": 0,
  "metadata": {
    "colab": {
      "provenance": []
    },
    "kernelspec": {
      "name": "python3",
      "display_name": "Python 3"
    },
    "language_info": {
      "name": "python"
    }
  },
  "cells": [
    {
      "cell_type": "markdown",
      "source": [
        "#Q .1.What are the two values of the Boolean data type? How do you write them?\n",
        "\n",
        "#Answer --\n",
        "There are two types of boolean data type i.e \n",
        "\n",
        "1 .True\n",
        "\n",
        "2 .False"
      ],
      "metadata": {
        "id": "SV0gk5_7aqc1"
      }
    },
    {
      "cell_type": "markdown",
      "source": [
        "\n",
        "\n",
        "---\n",
        "\n"
      ],
      "metadata": {
        "id": "oRrnZ-wHcbbg"
      }
    },
    {
      "cell_type": "markdown",
      "source": [
        "#Q .2. What are the three different types of Boolean operators?\n",
        "\n",
        "#Answer --\n",
        "\n",
        "The three different types of Boolean operators are :\n",
        "\n",
        "1 .And\n",
        "\n",
        "2 .or\n",
        "\n",
        "3 .And not"
      ],
      "metadata": {
        "id": "1qOvi5X5ccrn"
      }
    },
    {
      "cell_type": "markdown",
      "source": [
        "\n",
        "\n",
        "---\n",
        "\n"
      ],
      "metadata": {
        "id": "n3XtQBazdCD3"
      }
    },
    {
      "cell_type": "markdown",
      "source": [
        "#Q .3. Make a list of each Boolean operator's truth tables (i.e. every possible combination of Boolean values for the operator and what it evaluate ).\n",
        "\n",
        "#Answer --\n",
        "There are every possible combination of Boolean values \n",
        "\n",
        "True and True = True\n",
        "\n",
        "True and False = False\n",
        "\n",
        "False and True = False\n",
        "\n",
        "False and False = False\n",
        "\n",
        "True or True = True\n",
        "\n",
        "True or False = True\n",
        "\n",
        "False or True = True\n",
        "\n",
        "False or False = False\n",
        "\n",
        "Not False = True\n",
        "\n",
        "Not True = False"
      ],
      "metadata": {
        "id": "cjCNcxqKdDqX"
      }
    },
    {
      "cell_type": "markdown",
      "source": [
        "\n",
        "\n",
        "---\n",
        "\n"
      ],
      "metadata": {
        "id": "eKZe3xarfa-V"
      }
    },
    {
      "cell_type": "markdown",
      "source": [
        "#Q .4. What are the values of the following expressions?\n",
        "(5 > 4) and (3 == 5)\n",
        "\n",
        "not (5 > 4)\n",
        "\n",
        "(5 > 4) or (3 == 5)\n",
        "\n",
        "not ((5 > 4) or (3 == 5))\n",
        "\n",
        "(True and True) and (True == False)\n",
        "\n",
        "(not False) or (not True)\n",
        "\n",
        "#Answer --\n",
        "(5 > 4) and (3 == 5) = False\n",
        "\n",
        "not (5 > 4) = False\n",
        "\n",
        "(5 > 4) or (3 == 5) = True\n",
        "\n",
        "not ((5 > 4) or (3 == 5)) = False\n",
        "\n",
        "(True and True) and (True == False) = False\n",
        "\n",
        "(not False) or (not True) = True "
      ],
      "metadata": {
        "id": "WdSP7MwsfcgE"
      }
    },
    {
      "cell_type": "code",
      "execution_count": 5,
      "metadata": {
        "colab": {
          "base_uri": "https://localhost:8080/"
        },
        "id": "_VvAfQw4ahEy",
        "outputId": "12c463a4-72de-4e3b-ecb6-37c8aec293df"
      },
      "outputs": [
        {
          "output_type": "stream",
          "name": "stdout",
          "text": [
            "False\n",
            "False\n",
            "True\n",
            "False\n",
            "False\n",
            "True\n"
          ]
        }
      ],
      "source": [
        "print((5 > 4) and (3 == 5))\n",
        "\n",
        "print(not (5 > 4))\n",
        "\n",
        "print((5 > 4) or (3 == 5))\n",
        "\n",
        "print(not ((5 > 4) or (3 == 5)))\n",
        "\n",
        "print((True and True) and (True == False))\n",
        "\n",
        "print((not False) or (not True))"
      ]
    },
    {
      "cell_type": "markdown",
      "source": [
        "\n",
        "\n",
        "---\n",
        "\n"
      ],
      "metadata": {
        "id": "zLjTD1V2hfI3"
      }
    },
    {
      "cell_type": "markdown",
      "source": [
        "#Q .5. What are the six comparison operators?\n",
        "\n",
        "#Answer ---\n",
        "Here are the six comparision operators \n",
        "\n",
        "  <,>,<=,>=,!=,=="
      ],
      "metadata": {
        "id": "A_eTrrfPhgRu"
      }
    },
    {
      "cell_type": "markdown",
      "source": [
        "\n",
        "\n",
        "---\n",
        "\n"
      ],
      "metadata": {
        "id": "KZcpFtY4iCpm"
      }
    },
    {
      "cell_type": "markdown",
      "source": [
        "#Q .6. How do you tell the difference between the equal to and assignment operators?Describe a condition and when you would use one.\n",
        "\n",
        "# Answer --\n",
        "\n",
        " The difference between the equal to and assignment operators are as follow:\n",
        "\n",
        " == is used to compare two value and given to a boolean ,while = is assignment operator used to store values  "
      ],
      "metadata": {
        "id": "YRhe7oqwiD0e"
      }
    },
    {
      "cell_type": "markdown",
      "source": [
        "\n",
        "\n",
        "---\n",
        "\n"
      ],
      "metadata": {
        "id": "sOOVSRKEjrOL"
      }
    },
    {
      "cell_type": "markdown",
      "source": [
        "#Q .7. Identify the three blocks in this code:\n",
        "spam = 0\n",
        "\n",
        "if spam == 10:\n",
        "\n",
        "print('eggs')\n",
        "\n",
        "if spam > 5:\n",
        "\n",
        "print('bacon')\n",
        "\n",
        "else:\n",
        "\n",
        "print('ham')\n",
        "\n",
        "print('spam')\n",
        "\n",
        "print('spam')\n",
        "\n",
        "#Answer ----\n",
        "\n",
        "The three blocks are everything inside the if statement and the lines print\n",
        "\n",
        "('bacon') and print('ham').\n",
        "\n",
        "print('eggs')\n",
        "\n",
        "if spam > 5:\n",
        "\n",
        "print('bacon')\n",
        "\n",
        "\n",
        "else:\n",
        "\n",
        "print('ham')\n",
        "\n",
        "print('spam')"
      ],
      "metadata": {
        "id": "pLh3EyODjr_-"
      }
    },
    {
      "cell_type": "markdown",
      "source": [
        "\n",
        "\n",
        "---\n",
        "\n"
      ],
      "metadata": {
        "id": "0sL0CqVilYLt"
      }
    },
    {
      "cell_type": "markdown",
      "source": [
        "#Q .8. Write code that prints Hello if 1 is stored in spam, prints Howdy if 2 is stored in spam, and prints Greetings! if anything else is stored in spam.\n",
        "\n",
        "#Anwer --\n",
        "\n",
        "spam=0\n",
        "\n",
        "if spam == 1:\n",
        "\n",
        "print(\"Hello\")\n",
        "\n",
        "elif spam == 2:\n",
        "\n",
        "print(\"Howdy\")\n",
        "\n",
        "else:\n",
        "\n",
        " print(\"Greeting !\")\n"
      ],
      "metadata": {
        "id": "o_HBtyfRlZRd"
      }
    },
    {
      "cell_type": "code",
      "source": [
        "spam=0\n",
        "\n",
        "if spam == 1:\n",
        "\n",
        "  print(\"Hello\")\n",
        "\n",
        "elif spam == 2:\n",
        "\n",
        "  print(\"Howdy\")\n",
        "\n",
        "else:\n",
        "\n",
        " print(\"Greeting !\")\n"
      ],
      "metadata": {
        "colab": {
          "base_uri": "https://localhost:8080/"
        },
        "id": "oPaBmINBn7ZL",
        "outputId": "bfca9142-4aa5-4234-83a8-d454f75b062e"
      },
      "execution_count": 8,
      "outputs": [
        {
          "output_type": "stream",
          "name": "stdout",
          "text": [
            "Howdy\n"
          ]
        }
      ]
    },
    {
      "cell_type": "markdown",
      "source": [
        "\n",
        "\n",
        "---\n",
        "\n"
      ],
      "metadata": {
        "id": "q4SgXGp3oZk9"
      }
    },
    {
      "cell_type": "markdown",
      "source": [
        "#Q .9.If your programme is stuck in an endless loop, what keys you’ll press?\n",
        "\n",
        "#Answer ---\n",
        "\n",
        "When we stuck in endless loop ,than we use CTRL + C to stop the programe."
      ],
      "metadata": {
        "id": "_MtBif02oa-E"
      }
    },
    {
      "cell_type": "markdown",
      "source": [
        "\n",
        "\n",
        "---\n",
        "\n"
      ],
      "metadata": {
        "id": "RYbya_q2qay9"
      }
    },
    {
      "cell_type": "markdown",
      "source": [
        "#Q .10. How can you tell the difference between break and continue?\n",
        "\n",
        "#Answer ---\n",
        "\n",
        "The main difference between both the statements is that ;\n",
        "\n",
        "The Break statement is used to exit from the loop constructs. whereas when continue keyword is encountered, it skips the current iteration and executes the very next iteration in the loop."
      ],
      "metadata": {
        "id": "wVVObCGJqcDf"
      }
    },
    {
      "cell_type": "markdown",
      "source": [
        "\n",
        "\n",
        "---\n",
        "\n"
      ],
      "metadata": {
        "id": "hGm_e4Cjtb6d"
      }
    },
    {
      "cell_type": "markdown",
      "source": [
        "#Q .11. In a for loop, what is the difference between range(10), range(0, 10), and range(0, 10, 1)?\n",
        "\n",
        "#Answer--\n",
        "\n",
        "The difference between range(10) and range(1,10) is as follow ;\n",
        "\n",
        "range(10) =This range function returns the numbers between 0 to 10 .but\n",
        "\n",
        "range(1,10) = This range function returns the number between 1 to 10 because in this range function ,starting point is given ."
      ],
      "metadata": {
        "id": "RgWzz7sXtcsk"
      }
    },
    {
      "cell_type": "markdown",
      "source": [
        "\n",
        "\n",
        "---\n",
        "\n"
      ],
      "metadata": {
        "id": "qJqGvrmmu23b"
      }
    },
    {
      "cell_type": "markdown",
      "source": [
        "#Q .12. Write a short program that prints the numbers 1 to 10 using a for loop. Then write an equivalent program that prints the numbers 1 to 10 using a while loop.\n"
      ],
      "metadata": {
        "id": "yzcoPf8wu3wj"
      }
    },
    {
      "cell_type": "code",
      "source": [
        "#Answer  ....\n",
        "\n",
        "# By Using for loop \n",
        "\n",
        "for num in range(1,11):\n",
        "  print(num)\n",
        "\n",
        "print(\"By Using while loop \")\n",
        "\n",
        "i =1\n",
        "while i<=10:\n",
        "  print(i)\n",
        "  i+=1\n",
        "\n",
        "\n"
      ],
      "metadata": {
        "colab": {
          "base_uri": "https://localhost:8080/"
        },
        "id": "XWA38lBsvCZs",
        "outputId": "26e933e2-8a13-4390-e19a-736935a655d7"
      },
      "execution_count": 12,
      "outputs": [
        {
          "output_type": "stream",
          "name": "stdout",
          "text": [
            "1\n",
            "2\n",
            "3\n",
            "4\n",
            "5\n",
            "6\n",
            "7\n",
            "8\n",
            "9\n",
            "10\n",
            "By Using while loop \n",
            "1\n",
            "2\n",
            "3\n",
            "4\n",
            "5\n",
            "6\n",
            "7\n",
            "8\n",
            "9\n",
            "10\n"
          ]
        }
      ]
    },
    {
      "cell_type": "markdown",
      "source": [
        "\n",
        "\n",
        "---\n",
        "\n"
      ],
      "metadata": {
        "id": "J1xXdjhkxQj7"
      }
    },
    {
      "cell_type": "markdown",
      "source": [
        "#Q .13. If you had a function named bacon() inside a module named spam, how would you call it after importing spam?\n",
        "\n",
        "# Answer\n",
        "If a function named bacon() inside a module named spam than we call it by \n",
        "spam.bacon()"
      ],
      "metadata": {
        "id": "VCjsAVy-xR6y"
      }
    }
  ]
}