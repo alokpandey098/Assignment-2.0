{
 "cells": [
  {
   "cell_type": "markdown",
   "id": "8e0f32bb-f8fd-4f2b-a2d6-9d1c9f693a21",
   "metadata": {},
   "source": [
    "Q1. Add the current date to the text file today.txt as a string.\n",
    "\n",
    "# Answer ..."
   ]
  },
  {
   "cell_type": "code",
   "execution_count": 2,
   "id": "50612cba-be3a-4384-9ac4-6ed887f6bd22",
   "metadata": {},
   "outputs": [
    {
     "data": {
      "text/plain": [
       "'2023-02-08'"
      ]
     },
     "execution_count": 2,
     "metadata": {},
     "output_type": "execute_result"
    }
   ],
   "source": [
    "import datetime\n",
    "from datetime import date\n",
    "recent =date.today()\n",
    "current_date = recent .isoformat()\n",
    "current_date"
   ]
  },
  {
   "cell_type": "code",
   "execution_count": 9,
   "id": "6fb98482-2273-461b-8d53-ca628f7a1950",
   "metadata": {},
   "outputs": [],
   "source": [
    "with open('today.txt','w') as f:\n",
    "    f.write(current_date)"
   ]
  },
  {
   "cell_type": "markdown",
   "id": "748be77d-ab4e-4088-9e6b-62ef25a9af62",
   "metadata": {},
   "source": [
    "Q2. Read the text file today.txt into the string today_string\n",
    "\n",
    "# Answer ...\n",
    "\n"
   ]
  },
  {
   "cell_type": "code",
   "execution_count": 10,
   "id": "7fa2a38e-7bb9-4f09-9a8d-d4b3c55cf509",
   "metadata": {},
   "outputs": [
    {
     "data": {
      "text/plain": [
       "'2023-02-08'"
      ]
     },
     "execution_count": 10,
     "metadata": {},
     "output_type": "execute_result"
    }
   ],
   "source": [
    "with open('today.txt','r') as f:\n",
    "    today_string = f.read()\n",
    "today_string"
   ]
  },
  {
   "cell_type": "markdown",
   "id": "960b187e-f3c4-4f51-8446-4ec482b74946",
   "metadata": {},
   "source": [
    "Q3. Parse the date from today_string.\n",
    "\n",
    "# Answer ...\n",
    "\n"
   ]
  },
  {
   "cell_type": "code",
   "execution_count": 11,
   "id": "2497875d-73e6-45a4-af06-be178b99b15a",
   "metadata": {},
   "outputs": [
    {
     "data": {
      "text/plain": [
       "datetime.datetime(2023, 2, 8, 0, 0)"
      ]
     },
     "execution_count": 11,
     "metadata": {},
     "output_type": "execute_result"
    }
   ],
   "source": [
    "from datetime import datetime\n",
    "format = '%Y-%m-%d'\n",
    "datetime.strptime(today_string,format)"
   ]
  },
  {
   "cell_type": "markdown",
   "id": "72e3cdda-70ba-42a7-9a4d-12fe6e857d9f",
   "metadata": {},
   "source": [
    "Q4. List the files in your current directory\n",
    "\n",
    "# Answer ...\n",
    "\n"
   ]
  },
  {
   "cell_type": "code",
   "execution_count": 12,
   "id": "cfee05ae-46ea-4835-a13a-a326e300ac28",
   "metadata": {},
   "outputs": [
    {
     "data": {
      "text/plain": [
       "['README.md',\n",
       " 'sample-code.ipynb',\n",
       " '.git',\n",
       " 'mongo_data.txt',\n",
       " 'm_d.txt',\n",
       " 'Assignment _21.ipynb',\n",
       " 'Claas_Assignment.ipynb',\n",
       " 'test1.txt',\n",
       " '.ipynb_checkpoints',\n",
       " 'today.txt']"
      ]
     },
     "execution_count": 12,
     "metadata": {},
     "output_type": "execute_result"
    }
   ],
   "source": [
    "import os\n",
    "os.listdir('.')"
   ]
  },
  {
   "cell_type": "markdown",
   "id": "c91ffd31-f955-4244-8f41-ed0f7d45b9ec",
   "metadata": {},
   "source": [
    "Q5. Use multiprocessing to create three separate processes. Make each one wait a random number of seconds between one and five, print the current time, and then exit.\n",
    "\n",
    "# Answer ...\n",
    "\n"
   ]
  },
  {
   "cell_type": "code",
   "execution_count": 14,
   "id": "7908f0ac-2660-4285-9d00-702622fff67b",
   "metadata": {},
   "outputs": [
    {
     "name": "stdout",
     "output_type": "stream",
     "text": [
      "wait 0.1496881472660282 seconds, time is 2023-02-08 18:30:50.016043\n",
      "wait 0.6166385271208169 seconds, time is 2023-02-08 18:30:50.489041\n",
      "wait 0.9410132180464649 seconds, time is 2023-02-08 18:30:50.819060\n"
     ]
    }
   ],
   "source": [
    "import multiprocessing\n",
    "\n",
    "def sec(seconds):\n",
    "    from datetime import datetime\n",
    "    from time import sleep\n",
    "    sleep(seconds)\n",
    "    print('wait', seconds, 'seconds, time is', datetime.utcnow())\n",
    "    \n",
    "if __name__ == '__main__':\n",
    "    import random    \n",
    "    for n in range(3):\n",
    "        seconds = random.random()\n",
    "        proc = multiprocessing.Process(target=sec, args=(seconds,))\n",
    "        proc.start()"
   ]
  },
  {
   "cell_type": "markdown",
   "id": "dfa62fd8-b378-4257-9052-e927e2d1642c",
   "metadata": {},
   "source": [
    "Q6. Create a date object of your day of birth.\n",
    "\n",
    "# Answer ...\n",
    "\n"
   ]
  },
  {
   "cell_type": "code",
   "execution_count": 16,
   "id": "8b9f0d35-8aca-4c5b-a241-cf7072149383",
   "metadata": {},
   "outputs": [
    {
     "data": {
      "text/plain": [
       "datetime.date(2002, 12, 15)"
      ]
     },
     "execution_count": 16,
     "metadata": {},
     "output_type": "execute_result"
    }
   ],
   "source": [
    "my_date_of_birth = date(2002,12,15)\n",
    "my_date_of_birth"
   ]
  },
  {
   "cell_type": "markdown",
   "id": "e3fc00a6-c019-4a2a-ae0e-bd3ff9113ab6",
   "metadata": {},
   "source": [
    "Q7. What day of the week was your day of birth?\n",
    "\n",
    "# Answer ...\n",
    "\n"
   ]
  },
  {
   "cell_type": "code",
   "execution_count": 17,
   "id": "2cae0e83-a99f-405f-b959-c85df8f9c40f",
   "metadata": {},
   "outputs": [
    {
     "data": {
      "text/plain": [
       "6"
      ]
     },
     "execution_count": 17,
     "metadata": {},
     "output_type": "execute_result"
    }
   ],
   "source": [
    "my_date_of_birth.weekday()"
   ]
  },
  {
   "cell_type": "markdown",
   "id": "b28a3adc-be40-4c36-9c12-93afc32156b4",
   "metadata": {},
   "source": [
    "Q8. When will you be (or when were you) 10,000 days old?\n",
    "\n",
    "# Answer ...\n",
    "\n"
   ]
  },
  {
   "cell_type": "code",
   "execution_count": 18,
   "id": "b41f92a0-2684-4ddd-8db4-ab0b4bdc99cb",
   "metadata": {},
   "outputs": [
    {
     "data": {
      "text/plain": [
       "datetime.date(2030, 5, 2)"
      ]
     },
     "execution_count": 18,
     "metadata": {},
     "output_type": "execute_result"
    }
   ],
   "source": [
    "from datetime import timedelta\n",
    "day_10000 = my_date_of_birth + timedelta(days=10000)\n",
    "day_10000"
   ]
  }
 ],
 "metadata": {
  "kernelspec": {
   "display_name": "Python 3 (ipykernel)",
   "language": "python",
   "name": "python3"
  },
  "language_info": {
   "codemirror_mode": {
    "name": "ipython",
    "version": 3
   },
   "file_extension": ".py",
   "mimetype": "text/x-python",
   "name": "python",
   "nbconvert_exporter": "python",
   "pygments_lexer": "ipython3",
   "version": "3.10.6"
  }
 },
 "nbformat": 4,
 "nbformat_minor": 5
}
