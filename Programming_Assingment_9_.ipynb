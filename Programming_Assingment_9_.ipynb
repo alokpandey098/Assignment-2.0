{
  "nbformat": 4,
  "nbformat_minor": 0,
  "metadata": {
    "colab": {
      "provenance": []
    },
    "kernelspec": {
      "name": "python3",
      "display_name": "Python 3"
    },
    "language_info": {
      "name": "python"
    }
  },
  "cells": [
    {
      "cell_type": "markdown",
      "source": [
        "# Q .1.\tWrite a Python program to check if the given number is a Disarium Number?\n"
      ],
      "metadata": {
        "id": "eJ7IWQGPuklr"
      }
    },
    {
      "cell_type": "code",
      "execution_count": 8,
      "metadata": {
        "colab": {
          "base_uri": "https://localhost:8080/"
        },
        "id": "DDuwfPT0p-1m",
        "outputId": "12bec7f8-745c-4b4b-b10b-5329b8e06c06"
      },
      "outputs": [
        {
          "output_type": "stream",
          "name": "stdout",
          "text": [
            "Enter the number : 89\n",
            "\n",
            "Is  89  Disarium number :  True\n"
          ]
        }
      ],
      "source": [
        "# Answer ....\n",
        "\n",
        "def is_dis(x):\n",
        "  y=0\n",
        "  for i in range(len(str(x))):\n",
        "    y += int(str(x)[i]) ** (i+1)\n",
        "\n",
        "  return y == x\n",
        "\n",
        "x=int(input(\"Enter the number : \"))\n",
        "\n",
        "print(\"\\nIs \" ,x,\" Disarium number : \" ,is_dis(x))"
      ]
    },
    {
      "cell_type": "markdown",
      "source": [
        "# Q .2.\tWrite a Python program to print all disarium numbers between 1 to 100?"
      ],
      "metadata": {
        "id": "XI4s_iNduuna"
      }
    },
    {
      "cell_type": "code",
      "source": [
        "# Answer .....\n",
        "def Is_dis(n):\n",
        "    sum = 0\n",
        "    while(n>0):\n",
        "        l= len(str(n))\n",
        "        no = n%10\n",
        "        sum= sum + no**l   \n",
        "        l-=1\n",
        "        n = n//10\n",
        "    return sum\n",
        "\n",
        "print(\"Disarium no in range 1 to 100\")\n",
        "\n",
        "d = []\n",
        "\n",
        "for i in range(1,101):\n",
        "    sum = 0\n",
        "    sum = Is_dis(i)\n",
        "    if sum == i:\n",
        "        d.append(i)        \n",
        "print(d)"
      ],
      "metadata": {
        "colab": {
          "base_uri": "https://localhost:8080/"
        },
        "id": "jqKdUOS-uv0w",
        "outputId": "af9902ad-0506-4579-c0b7-c77ffb7fcffc"
      },
      "execution_count": 13,
      "outputs": [
        {
          "output_type": "stream",
          "name": "stdout",
          "text": [
            "Disarium no in range 1 to 100\n",
            "[1, 2, 3, 4, 5, 6, 7, 8, 9, 89]\n"
          ]
        }
      ]
    },
    {
      "cell_type": "markdown",
      "source": [
        "# Q .3.\tWrite a Python program to check if the given number is Happy Number?"
      ],
      "metadata": {
        "id": "YqlrKa0euwQx"
      }
    },
    {
      "cell_type": "code",
      "source": [
        "# Answer ....\n",
        "\n",
        "def Happy_no(num):\n",
        "    temp = 0\n",
        "    while(num>0):\n",
        "        dig = num%10\n",
        "        temp= temp + dig**2        \n",
        "        num = num//10\n",
        "    return temp\n",
        "\n",
        "num = int(input(\"Enter the number :\"))\n",
        "result = num\n",
        "\n",
        "\n",
        "while (result != 1 and result != 4):\n",
        "    result = Happy_no(result)\n",
        "\n",
        "if result == 1:\n",
        "    print(num,\"is a Happy Number\")\n",
        "else:\n",
        "    print(num,\" is a Unhappy Number\")"
      ],
      "metadata": {
        "colab": {
          "base_uri": "https://localhost:8080/"
        },
        "id": "dKHfpjo8uxCh",
        "outputId": "2028be69-063a-45c5-ed32-4902dd416ea5"
      },
      "execution_count": 17,
      "outputs": [
        {
          "output_type": "stream",
          "name": "stdout",
          "text": [
            "Enter the number :2\n",
            "2  is a Unhappy Number\n"
          ]
        }
      ]
    },
    {
      "cell_type": "markdown",
      "source": [
        "# Q .4.\tWrite a Python program to print all happy numbers between 1 and 100?"
      ],
      "metadata": {
        "id": "FAk3GWDJuzPI"
      }
    },
    {
      "cell_type": "code",
      "source": [
        "# Answer ...\n",
        "\n",
        "def happy_no(num):\n",
        "    tem = 0\n",
        "    while(num>0):\n",
        "        dig = num%10\n",
        "        tem= tem + dig**2        \n",
        "        num = num//10\n",
        "    return tem\n",
        "\n",
        "print(\"Happy numbers in between 1 to 100\")\n",
        "result=num=i=0\n",
        "happyNo = []\n",
        "for i in range(1,101):\n",
        "    result = i\n",
        "    while (result != 1 and result != 4):\n",
        "        result = happy_no(result)    \n",
        "    if result == 1:\n",
        "        happyNo.append(i)\n",
        "print(happyNo)"
      ],
      "metadata": {
        "colab": {
          "base_uri": "https://localhost:8080/"
        },
        "id": "hps507VMuzsA",
        "outputId": "f6fcc7c1-401c-4b86-cf89-fe0a234e618f"
      },
      "execution_count": 19,
      "outputs": [
        {
          "output_type": "stream",
          "name": "stdout",
          "text": [
            "Happy numbers in between 1 to 100\n",
            "[1, 7, 10, 13, 19, 23, 28, 31, 32, 44, 49, 68, 70, 79, 82, 86, 91, 94, 97, 100]\n"
          ]
        }
      ]
    },
    {
      "cell_type": "markdown",
      "source": [
        "# Q .5.\tWrite a Python program to determine whether the given number is a Harshad Number?"
      ],
      "metadata": {
        "id": "4KHqIJJbu0OZ"
      }
    },
    {
      "cell_type": "code",
      "source": [
        "# Answer ...\n",
        "\n",
        "def harsad_no(n):\n",
        "    if (n>0):\n",
        "        a = 0\n",
        "        b = n\n",
        "        while b > 0:\n",
        "            a = a +  b % 10\n",
        "            b = b // 10\n",
        "        return not n % a\n",
        "     \n",
        "n =int(input(\"Enter any number : \"))\n",
        "print(\"Original number:\", n)\n",
        "print(\"\\nIs\",n,\"Harshad number : \",harsad_no(n))"
      ],
      "metadata": {
        "colab": {
          "base_uri": "https://localhost:8080/"
        },
        "id": "WdZc9TS4u0kg",
        "outputId": "98eee8a1-db0e-4479-cf0c-30ad1849301b"
      },
      "execution_count": 28,
      "outputs": [
        {
          "output_type": "stream",
          "name": "stdout",
          "text": [
            "Enter any number : 13\n",
            "Original number: 13\n",
            "\n",
            "Is 13 Harshad number :  False\n"
          ]
        }
      ]
    },
    {
      "cell_type": "markdown",
      "source": [
        "# Q .6.\tWrite a Python program to print all pronic numbers between 1 and 100?"
      ],
      "metadata": {
        "id": "B6_odcJPu3fr"
      }
    },
    {
      "cell_type": "code",
      "source": [
        "# Answer .....\n",
        "\n",
        "def Pronic_no(num):\n",
        "    Pronic = False\n",
        "    for i in range(1,num+1):\n",
        "        if i*(i+1) == num:\n",
        "            Pronic = True\n",
        "            break\n",
        "    return Pronic\n",
        "\n",
        "print(\"Pronic numbers in between 1 to 100\")\n",
        "p_n = []\n",
        "for i in range(1,101):\n",
        "    if Pronic_no(i):\n",
        "        p_n.append(i)\n",
        "print(p_n)\n"
      ],
      "metadata": {
        "colab": {
          "base_uri": "https://localhost:8080/"
        },
        "id": "F6zuGtgdu38J",
        "outputId": "0f1084b3-c745-4498-d788-1ef536ddd4a5"
      },
      "execution_count": 30,
      "outputs": [
        {
          "output_type": "stream",
          "name": "stdout",
          "text": [
            "Pronic numbers in between 1 to 100\n",
            "[2, 6, 12, 20, 30, 42, 56, 72, 90]\n"
          ]
        }
      ]
    }
  ]
}