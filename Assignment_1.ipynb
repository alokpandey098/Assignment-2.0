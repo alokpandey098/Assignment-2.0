{
  "nbformat": 4,
  "nbformat_minor": 0,
  "metadata": {
    "colab": {
      "provenance": []
    },
    "kernelspec": {
      "name": "python3",
      "display_name": "Python 3"
    },
    "language_info": {
      "name": "python"
    }
  },
  "cells": [
    {
      "cell_type": "markdown",
      "source": [
        "#Q .1. In the below elements which of them are values or an expression? eg:- values can be integer or string and expressions will be mathematical operators.\n",
        "\n",
        "'hello' , * , -87.8 , - , / , 6 \n",
        "\n",
        "#Answer ------\n",
        "\n",
        "Value =  'hello', -87.8, 6\n",
        "\n",
        "Expression =  * , - , /"
      ],
      "metadata": {
        "id": "JsgQTLwj6p0o"
      }
    },
    {
      "cell_type": "markdown",
      "source": [
        "#Q .2. What is the difference between string and variable?\n",
        "\n",
        "#Ans --- \n",
        "String is data type in python .String is written in double quote(i.e \"\").\n",
        "\n",
        "Variable is used to store some value .When we assign some value in variable ,than it reserved memory location for that value."
      ],
      "metadata": {
        "id": "829ztRg38fdd"
      }
    },
    {
      "cell_type": "markdown",
      "source": [
        "#Q .3. Describe three different data types.\n",
        "\n",
        "#Answer ---\n",
        "There are three different data types :\n",
        "1. String() or str().\n",
        "2. Floating () or float().\n",
        "3. Boolean() or bool().\n",
        "\n",
        "1.String() --String data type are written in double quote (\"\").for example \"Hello\" .it is immutable .String can be written in three different form ,i.e Single quote('') ,Double qoute(\"\") ,Tripple qoute (''' ''').\n",
        "Single and Double qoute is used for single line or single words and tripple qoute is used for multiline santance .\n",
        "\n",
        "2.Floating --- Float data type contain only decimal value .for example \n",
        "(2.0) .It is used to returns a floating point number from a number or a string. \n",
        "\n",
        "3.Boolean---- Boolean type is one of Python's built-in data types. It's used to represent the truth value of an expression. "
      ],
      "metadata": {
        "id": "z3064Ebn-oG3"
      }
    },
    {
      "cell_type": "markdown",
      "source": [
        "Q.4. What is an expression made up of? What do all expressions do?\n",
        "\n",
        "#Answer--\n",
        "An expression is made up of values and operators. All expressions take some kind of input and produce some kind of output."
      ],
      "metadata": {
        "id": "KWZSEgunJH8l"
      }
    },
    {
      "cell_type": "markdown",
      "source": [
        "#Q.5. This assignment statements, like spam = 10. What is the difference between an expression and a statement?\n",
        "\n",
        "#Answer ---\n",
        "The difference between an expression and a statement is that, An expression is a line of code that can be evaluated to a value, and does not cause any side effects. \n",
        "While A statement is a line of code that performs some action and may or may not return a value.For example ,statements include assignment statements, like spam =10, and print statements, like print('spam')."
      ],
      "metadata": {
        "id": "OHMAAVJBPDYl"
      }
    },
    {
      "cell_type": "markdown",
      "source": [
        "#Q .6. After running the following code, what does the variable bacon contain?\n",
        "bacon = 22\n",
        "\n",
        "bacon + 1\n",
        "\n",
        "#Ans =A variable bacon contain 22 as value. here bacon+1 does not assign in it .there should be a variable to assign like,bacon=bacon+1.\n"
      ],
      "metadata": {
        "id": "9huFVlhYhTiu"
      }
    },
    {
      "cell_type": "code",
      "execution_count": 5,
      "metadata": {
        "colab": {
          "base_uri": "https://localhost:8080/"
        },
        "id": "kBgu0wga6WTR",
        "outputId": "994ade9c-c7e0-444a-bc90-3db90d47b702"
      },
      "outputs": [
        {
          "output_type": "stream",
          "name": "stdout",
          "text": [
            "22\n"
          ]
        }
      ],
      "source": [
        "# Answer ..\n",
        "bacon = 22\n",
        "bacon+1\n",
        "print(bacon)"
      ]
    },
    {
      "cell_type": "markdown",
      "source": [
        "#Q .7. What should the values of the following two terms be?\n",
        "'spam' + 'spamspam'\n",
        "\n",
        "'spam' * 3\n",
        "\n",
        "#Answer -- Both expression evaluate as string 'spamspamspam'."
      ],
      "metadata": {
        "id": "M-AFfUgOldpI"
      }
    },
    {
      "cell_type": "code",
      "source": [
        "'spam'+'spamspam'\n"
      ],
      "metadata": {
        "colab": {
          "base_uri": "https://localhost:8080/",
          "height": 35
        },
        "id": "whqf9RN6l5TX",
        "outputId": "4c5d12f0-936d-45c7-a9c3-824fadd01352"
      },
      "execution_count": 10,
      "outputs": [
        {
          "output_type": "execute_result",
          "data": {
            "text/plain": [
              "'spamspamspam'"
            ],
            "application/vnd.google.colaboratory.intrinsic+json": {
              "type": "string"
            }
          },
          "metadata": {},
          "execution_count": 10
        }
      ]
    },
    {
      "cell_type": "code",
      "source": [
        "'spam'*3"
      ],
      "metadata": {
        "colab": {
          "base_uri": "https://localhost:8080/",
          "height": 35
        },
        "id": "tFz31o82na7A",
        "outputId": "d3a4da41-2277-4df2-8f4d-fefcb3121b13"
      },
      "execution_count": 11,
      "outputs": [
        {
          "output_type": "execute_result",
          "data": {
            "text/plain": [
              "'spamspamspam'"
            ],
            "application/vnd.google.colaboratory.intrinsic+json": {
              "type": "string"
            }
          },
          "metadata": {},
          "execution_count": 11
        }
      ]
    },
    {
      "cell_type": "markdown",
      "source": [
        "#Q .8. Why is eggs a valid variable name while 100 is invalid?\n",
        "\n",
        "Ans-- Here egg is valid variable while 100 is invalid variable because a variable name must start with alphabet(A to Z) or underscore(_) .BAriable name cannot start with a number."
      ],
      "metadata": {
        "id": "kUO15OauoDUj"
      }
    },
    {
      "cell_type": "markdown",
      "source": [
        "\n",
        "\n",
        "---\n",
        "\n"
      ],
      "metadata": {
        "id": "HeKteEkeqj3-"
      }
    },
    {
      "cell_type": "markdown",
      "source": [
        "#Q .9. What three functions can be used to get the integer, floating-point number, or string version of a value?\n",
        "\n",
        "Ans --There are three function ,int() ,float() ,and str() that can be used to get integer, floating-pointing number ,or string version of a value."
      ],
      "metadata": {
        "id": "KfgjecJ1qlPm"
      }
    },
    {
      "cell_type": "markdown",
      "source": [
        "\n",
        "\n",
        "---\n",
        "\n"
      ],
      "metadata": {
        "id": "KDFGm1UltYfu"
      }
    },
    {
      "cell_type": "markdown",
      "source": [
        "#Q .10. Why does this expression cause an error? How can you fix it?\n",
        "'I have eaten ' + 99 + ' burritos.'\n",
        "\n",
        "Ans -- Causes of error is that ,here integer (i.e 99) try to concatenate with both string which is not possible.Because string concatenate only with string .So here we can fix it by converting integer to string (i.e 99 to '99')."
      ],
      "metadata": {
        "id": "iD1yxbIHtaEO"
      }
    },
    {
      "cell_type": "code",
      "source": [
        "'i have eaten '+' 99 '+'burritos'"
      ],
      "metadata": {
        "colab": {
          "base_uri": "https://localhost:8080/",
          "height": 35
        },
        "id": "6-4ISffHqM3H",
        "outputId": "9e4c26f4-8578-4a85-8e08-46e7770b8f23"
      },
      "execution_count": 14,
      "outputs": [
        {
          "output_type": "execute_result",
          "data": {
            "text/plain": [
              "'i have eaten  99 burritos'"
            ],
            "application/vnd.google.colaboratory.intrinsic+json": {
              "type": "string"
            }
          },
          "metadata": {},
          "execution_count": 14
        }
      ]
    },
    {
      "cell_type": "markdown",
      "source": [
        "\n",
        "\n",
        "---\n",
        "\n"
      ],
      "metadata": {
        "id": "a9AedztEu49-"
      }
    }
  ]
}