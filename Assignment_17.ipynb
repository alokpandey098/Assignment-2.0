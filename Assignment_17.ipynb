{
 "cells": [
  {
   "cell_type": "markdown",
   "id": "e75aa917-6fc3-4e0b-a64c-4f3d2836a596",
   "metadata": {},
   "source": [
    "Q 1.Assign the value 7 to the variable guess_me. Then, write the conditional tests (if, else, and elif) to print the string 'too low' if guess_me is less than 7, 'too high' if greater than 7, and 'just right' if equal to 7."
   ]
  },
  {
   "cell_type": "code",
   "execution_count": 6,
   "id": "9a56c9e6-eca7-435b-bd99-eda7b36ac30d",
   "metadata": {},
   "outputs": [
    {
     "name": "stdout",
     "output_type": "stream",
     "text": [
      "Just right\n"
     ]
    }
   ],
   "source": [
    "# Answer -->\n",
    "\n",
    "guess_me=7\n",
    "if guess_me<7:\n",
    "    print(\"Too low\")\n",
    "elif guess_me>7:\n",
    "    print(\"Too high\")\n",
    "elif guess_me==7:\n",
    "    print(\"Just right\")\n",
    "else:\n",
    "    print(\"invalid\")"
   ]
  },
  {
   "cell_type": "markdown",
   "id": "9440ac82-1017-4a0c-8360-823a52361d4c",
   "metadata": {},
   "source": [
    "Q 2.Assign the value 7 to the variable guess_me and the value 1 to the variable start. Write a while loop that compares start with guess_me. Print too low if start is less than guess me. If start equals guess_me, print 'found it!' and exit the loop. If start is greater than guess_me, print 'oops' and exit the loop. Increment start at the end of the loop"
   ]
  },
  {
   "cell_type": "code",
   "execution_count": 3,
   "id": "4212477f-5890-4bb8-af4a-c76b56d8cc4c",
   "metadata": {},
   "outputs": [
    {
     "name": "stdout",
     "output_type": "stream",
     "text": [
      "Too low\n",
      "Too low\n",
      "Too low\n",
      "Too low\n",
      "Too low\n",
      "Too low\n",
      "Found it\n"
     ]
    }
   ],
   "source": [
    "# Answer --->\n",
    "\n",
    "guess_me=7\n",
    "start=1\n",
    "while True:\n",
    "    if start<guess_me:\n",
    "        print(\"Too low\")\n",
    "    elif start == guess_me:\n",
    "        print(\"Found it\")\n",
    "        break\n",
    "    else:\n",
    "        print('Oops')\n",
    "        break\n",
    "    start+=1"
   ]
  },
  {
   "cell_type": "markdown",
   "id": "501f8996-98df-4c7e-bd40-7d26e437a73d",
   "metadata": {},
   "source": [
    "Q 3.Print the following values of the list [3, 2, 1, 0] using a for loop."
   ]
  },
  {
   "cell_type": "code",
   "execution_count": 2,
   "id": "937cacf5-1abf-47d2-b6bc-d16b70abc096",
   "metadata": {},
   "outputs": [
    {
     "name": "stdout",
     "output_type": "stream",
     "text": [
      "3\n",
      "2\n",
      "1\n",
      "0\n"
     ]
    }
   ],
   "source": [
    "# Answer --->\n",
    "\n",
    "lis =[3,2,1,0]\n",
    "for i in lis:\n",
    "    print(i)"
   ]
  },
  {
   "cell_type": "markdown",
   "id": "19557cf3-eaa7-4c5e-a3a9-58bc46a6ba1e",
   "metadata": {},
   "source": [
    "Q 4.Use a list comprehension to make a list of the even numbers in range(10)"
   ]
  },
  {
   "cell_type": "code",
   "execution_count": 5,
   "id": "22918b61-3706-4a43-9c03-02e2d5e11007",
   "metadata": {},
   "outputs": [
    {
     "data": {
      "text/plain": [
       "[0, 2, 4, 6, 8]"
      ]
     },
     "execution_count": 5,
     "metadata": {},
     "output_type": "execute_result"
    }
   ],
   "source": [
    "# Answer -->\n",
    "\n",
    "even=[num for num in range(10) if num%2==0]\n",
    "even"
   ]
  },
  {
   "cell_type": "markdown",
   "id": "9b3f3855-2a17-46b9-b929-122f842d4239",
   "metadata": {},
   "source": [
    "Q 5.Use a dictionary comprehension to create the dictionary squares. Use range(10) to return the keys, and use the square of each key as its value"
   ]
  },
  {
   "cell_type": "code",
   "execution_count": 6,
   "id": "8f831fb2-9757-4eac-b311-d42d5585f50a",
   "metadata": {},
   "outputs": [
    {
     "data": {
      "text/plain": [
       "{0: 0, 1: 1, 2: 4, 3: 9, 4: 16, 5: 25, 6: 36, 7: 49, 8: 64, 9: 81}"
      ]
     },
     "execution_count": 6,
     "metadata": {},
     "output_type": "execute_result"
    }
   ],
   "source": [
    "# Answer -->\n",
    "\n",
    "square={num:num*num for num in range(10)}\n",
    "square"
   ]
  },
  {
   "cell_type": "markdown",
   "id": "fc513971-bf09-436e-ba82-70add3205479",
   "metadata": {},
   "source": [
    "Q 6.Construct the set odd from the odd numbers in the range using a set comprehension (10)."
   ]
  },
  {
   "cell_type": "code",
   "execution_count": 9,
   "id": "34be7e02-984d-4c7b-ba32-c43b80127c65",
   "metadata": {},
   "outputs": [
    {
     "data": {
      "text/plain": [
       "{1, 3, 5, 7, 9}"
      ]
     },
     "execution_count": 9,
     "metadata": {},
     "output_type": "execute_result"
    }
   ],
   "source": [
    "# Answer --->\n",
    "\n",
    "odd={num for num in range(10) if num%2!=0}\n",
    "odd"
   ]
  },
  {
   "cell_type": "markdown",
   "id": "515e4220-a999-45e7-833c-7df502957742",
   "metadata": {},
   "source": [
    "Q 7.Use a generator comprehension to return the string 'Got' and a number for the numbers in range(10). Iterate through this by using a for loop."
   ]
  },
  {
   "cell_type": "code",
   "execution_count": 13,
   "id": "e2d88036-5b2a-438b-be3d-a2b7c257c2bf",
   "metadata": {},
   "outputs": [
    {
     "name": "stdout",
     "output_type": "stream",
     "text": [
      "Got 0\n",
      "Got 1\n",
      "Got 2\n",
      "Got 3\n",
      "Got 4\n",
      "Got 5\n",
      "Got 6\n",
      "Got 7\n",
      "Got 8\n",
      "Got 9\n"
     ]
    }
   ],
   "source": [
    "# Answer -->\n",
    "\n",
    "str_generator=('Got '+ str(num) for num in range(10))\n",
    "for i in str_generator:\n",
    "    print(i)"
   ]
  },
  {
   "cell_type": "markdown",
   "id": "8d40b807-3b9e-484a-a8cb-437026c8871c",
   "metadata": {},
   "source": [
    "Q 8.Define a function called good that returns the list ['Harry', 'Ron', 'Hermione']"
   ]
  },
  {
   "cell_type": "code",
   "execution_count": 1,
   "id": "9e98ca50-8bed-4301-bc4d-4552ad113da2",
   "metadata": {},
   "outputs": [
    {
     "data": {
      "text/plain": [
       "['Harry', 'Ron', 'Hermione']"
      ]
     },
     "execution_count": 1,
     "metadata": {},
     "output_type": "execute_result"
    }
   ],
   "source": [
    "# Answer --->\n",
    "\n",
    "def good():\n",
    "    return['Harry','Ron','Hermione']\n",
    "good()"
   ]
  },
  {
   "cell_type": "markdown",
   "id": "de652931-92af-4759-8043-29628eb197ff",
   "metadata": {},
   "source": [
    "Q. Define a generator function called get_odds that returns the odd numbers from range(10). Use a for loop to find and print the third value returned"
   ]
  },
  {
   "cell_type": "code",
   "execution_count": 16,
   "id": "c9eca5c1-efc4-49d8-a953-c2f40739999c",
   "metadata": {},
   "outputs": [
    {
     "name": "stdout",
     "output_type": "stream",
     "text": [
      "The third odd number is 5\n"
     ]
    }
   ],
   "source": [
    "# Answer -->\n",
    "\n",
    "def get_odds():\n",
    "    for number in range(1, 10, 2):\n",
    "         yield number\n",
    "count = 1\n",
    "for number in get_odds():\n",
    "    if count == 3:\n",
    "        print(\"The third odd number is\", number)\n",
    "        break\n",
    "    count += 1"
   ]
  },
  {
   "cell_type": "markdown",
   "id": "132b8636-7bf7-4f45-8c30-b43f05b2534e",
   "metadata": {},
   "source": [
    "Q. Define an exception called OopsException. Raise this exception to see what happens. Then writethe code to catch this exception and print 'Caught an oops"
   ]
  },
  {
   "cell_type": "code",
   "execution_count": 17,
   "id": "2a8f8852-bfdc-41b8-a44c-812b6aec5dc9",
   "metadata": {},
   "outputs": [
    {
     "name": "stdout",
     "output_type": "stream",
     "text": [
      "Caught an oops\n"
     ]
    }
   ],
   "source": [
    "# Answer -->\n",
    "\n",
    "class OopsException(Exception):\n",
    "    pass\n",
    "\n",
    "def raiseException(num):\n",
    "    if num < 0:\n",
    "        raise OopsException(num)\n",
    "\n",
    "try:\n",
    "    raiseException(-1)\n",
    "except OopsException as err:\n",
    "    print('Caught an oops')"
   ]
  },
  {
   "cell_type": "markdown",
   "id": "0e9f8f32-e5f4-45ee-887f-b46b5a4490a7",
   "metadata": {},
   "source": [
    "Q. Use zip() to make a dictionary called movies that pairs these lists: titles = ['Creature of Habit',\n",
    "\n",
    "'Crewel Fate'] and plots = ['A nun turns into a monster', 'A haunted yarn shop']."
   ]
  },
  {
   "cell_type": "code",
   "execution_count": 18,
   "id": "1a7f11a6-b75e-4720-b69e-9b48a44bb9f3",
   "metadata": {},
   "outputs": [
    {
     "name": "stdout",
     "output_type": "stream",
     "text": [
      "{'Creature of Habit': 'A nun turns into a monster', 'Crewel Fate': 'A haunted yarn shop'}\n"
     ]
    }
   ],
   "source": [
    "# Answer --->\n",
    "\n",
    "titles = ['Creature of Habit', 'Crewel Fate']\n",
    "plots = ['A nun turns into a monster', 'A haunted yarn shop']\n",
    "movies = dict(zip(titles, plots))\n",
    "print(movies)"
   ]
  },
  {
   "cell_type": "code",
   "execution_count": null,
   "id": "9f51a5bc-7ece-4ca6-93a8-6659f83f40c2",
   "metadata": {},
   "outputs": [],
   "source": []
  }
 ],
 "metadata": {
  "kernelspec": {
   "display_name": "Python 3 (ipykernel)",
   "language": "python",
   "name": "python3"
  },
  "language_info": {
   "codemirror_mode": {
    "name": "ipython",
    "version": 3
   },
   "file_extension": ".py",
   "mimetype": "text/x-python",
   "name": "python",
   "nbconvert_exporter": "python",
   "pygments_lexer": "ipython3",
   "version": "3.10.6"
  }
 },
 "nbformat": 4,
 "nbformat_minor": 5
}
