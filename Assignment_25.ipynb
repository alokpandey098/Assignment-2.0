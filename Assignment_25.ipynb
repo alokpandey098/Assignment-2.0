{
 "cells": [
  {
   "cell_type": "markdown",
   "id": "d13e3200-035c-40f0-bb14-1b22bec5e6fd",
   "metadata": {},
   "source": [
    "Question -1\n",
    "\n",
    "What is the difference between enclosing a list comprehension in square brackets and parentheses?\n",
    "\n",
    "Answer -\n",
    "* The difference between the two kinds of expressions is that the List comprehension is enclosed in square brackets [] while the Generator expression is enclosed in plain parentheses ()"
   ]
  },
  {
   "cell_type": "code",
   "execution_count": 1,
   "id": "9aee1d68-19a5-4d06-8503-3d994df5978a",
   "metadata": {},
   "outputs": [
    {
     "data": {
      "text/plain": [
       "[0, 1, 2, 3, 4, 5, 6, 7, 8, 9]"
      ]
     },
     "execution_count": 1,
     "metadata": {},
     "output_type": "execute_result"
    }
   ],
   "source": [
    "lst = [i for i in range(10)]\n",
    "lst"
   ]
  },
  {
   "cell_type": "code",
   "execution_count": 1,
   "id": "9f918539-9198-4a0b-bd54-b21cfd2ca393",
   "metadata": {},
   "outputs": [
    {
     "data": {
      "text/plain": [
       "<generator object <genexpr> at 0x7f832543be60>"
      ]
     },
     "execution_count": 1,
     "metadata": {},
     "output_type": "execute_result"
    }
   ],
   "source": [
    "lstPara = (i for i in range(10))\n",
    "lstPara"
   ]
  },
  {
   "cell_type": "markdown",
   "id": "7971d6e3-1448-480d-9a12-673aa91a41a6",
   "metadata": {},
   "source": [
    "Question -2\n",
    "\n",
    "What is the relationship between generators and iterators?\n",
    "\n",
    "Answer ..\n",
    "\n",
    "Difference between iterator and generator are :\n",
    "\n",
    " * An iterator is an object which contains a countable number of values and it is used to iterate over iterable     objects like list, tuples etc\n",
    "   Using an iterator- iter() keyword is used to create an iterator containing an iterable object. next() keyword      is used to call the next element in the iterable object.\n",
    "\n",
    "* Generator is another way of creating iterators in a simple way where it uses the keyword “yield” instead of returning it in a defined function Generators are implemented using a function Here, the yield function returns the data without affecting or exiting the function. It will return a sequence of data in an iterable format where we need to iterate over the sequence to use the data as they won’t store the entire sequence in the memory By using next() function we can iterate the output of generator function\n",
    "\n",
    "    "
   ]
  },
  {
   "cell_type": "markdown",
   "id": "d0b01a46-506b-4d51-89b6-4fbe252e6c79",
   "metadata": {},
   "source": [
    "Question -3\n",
    "\n",
    "What are the signs that a function is a generator function?\n",
    "\n",
    "Answer -\n",
    "* In a generator function, a yield statement is used rather than a return statement."
   ]
  },
  {
   "cell_type": "markdown",
   "id": "621165ec-9c0d-4126-9bcb-035efa6557a3",
   "metadata": {},
   "source": [
    "Question -4 \n",
    "\n",
    "What is the purpose of a yield statement?\n",
    "\n",
    "Answer -\n",
    "* Yield is a keyword in Python that is used to return from a function without destroying the states of its local variable and when the function is called, the execution starts from the last yield statement. Any function that contains a yield keyword is termed as generator. Hence, yield is what makes a generator. yield keyword in Python is less known off but has a greater utility which one can think of."
   ]
  },
  {
   "cell_type": "markdown",
   "id": "db1c93b5-8bf8-4e69-ba89-799e4804439a",
   "metadata": {},
   "source": [
    "\n",
    "Question -5 \n",
    "\n",
    "What is the relationship between map calls and list comprehensions? Make a comparison and contrast between the two.\n",
    "\n",
    "Answer -\n",
    "* List comprehension is more concise and easier to read as compared to map.\n",
    "\n",
    "* List comprehension allows filtering. In map, we have no such facility. For example, to print all even numbers in range of 100, we can write [n for n in range(100) if n%2 == 0]. There is no alternate for it in map.\n",
    "\n",
    "* List comprehension are used when a list of results is required as map only returns a map object and does not return any list.\n",
    "\n",
    "* List comprehension is faster than map when we need to evaluate expressions that are too long or complicated to express.\n",
    "\n",
    "* Map is faster in case of calling an already defined function (as no lambda is required)"
   ]
  }
 ],
 "metadata": {
  "kernelspec": {
   "display_name": "Python 3 (ipykernel)",
   "language": "python",
   "name": "python3"
  },
  "language_info": {
   "codemirror_mode": {
    "name": "ipython",
    "version": 3
   },
   "file_extension": ".py",
   "mimetype": "text/x-python",
   "name": "python",
   "nbconvert_exporter": "python",
   "pygments_lexer": "ipython3",
   "version": "3.10.6"
  }
 },
 "nbformat": 4,
 "nbformat_minor": 5
}
