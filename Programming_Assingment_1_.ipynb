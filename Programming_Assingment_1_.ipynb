{
  "nbformat": 4,
  "nbformat_minor": 0,
  "metadata": {
    "colab": {
      "provenance": []
    },
    "kernelspec": {
      "name": "python3",
      "display_name": "Python 3"
    },
    "language_info": {
      "name": "python"
    }
  },
  "cells": [
    {
      "cell_type": "markdown",
      "source": [
        "# Q .1.\tWrite a Python program to print \"Hello Python\"?\n"
      ],
      "metadata": {
        "id": "pT0zImNjZo2T"
      }
    },
    {
      "cell_type": "code",
      "execution_count": 1,
      "metadata": {
        "colab": {
          "base_uri": "https://localhost:8080/"
        },
        "id": "yNz8hv3dZTzV",
        "outputId": "2864bcc8-5e04-4edb-9a4f-a07970c66254"
      },
      "outputs": [
        {
          "output_type": "stream",
          "name": "stdout",
          "text": [
            "Hello World\n"
          ]
        }
      ],
      "source": [
        "# Answer ...\n",
        "\n",
        "print(\"Hello World\")"
      ]
    },
    {
      "cell_type": "markdown",
      "source": [
        "# Q .2.\tWrite a Python program to do arithmetical operations addition and division.?"
      ],
      "metadata": {
        "id": "Qz7Vcz2FaKOp"
      }
    },
    {
      "cell_type": "code",
      "source": [
        "# Answer ...\n",
        "a=5\n",
        "b=6\n",
        "print(\"Addition of  a and b is : \", a+b)\n",
        "print(\"Division of a and b is : \",a/b)"
      ],
      "metadata": {
        "colab": {
          "base_uri": "https://localhost:8080/"
        },
        "id": "PHFu-IvVaNfb",
        "outputId": "1b0916bc-df6c-4347-ae0f-eb366c467d97"
      },
      "execution_count": 3,
      "outputs": [
        {
          "output_type": "stream",
          "name": "stdout",
          "text": [
            "Addition of  a and b is :  11\n",
            "Division of a and b is :  0.8333333333333334\n"
          ]
        }
      ]
    },
    {
      "cell_type": "markdown",
      "source": [
        "#Q .3.Write a Python program to find the area of a triangle?"
      ],
      "metadata": {
        "id": "u8fGC178a4i7"
      }
    },
    {
      "cell_type": "code",
      "source": [
        "# Answer ...\n",
        "\n",
        "b=int(input(\"Enter base in cm :\"))\n",
        "h=int(input(\"Enter height in cm :\"))\n",
        "Area_of_triangle =1/2*(b*h)\n",
        "print(\"Area of Triangle is : \",Area_of_triangle)"
      ],
      "metadata": {
        "colab": {
          "base_uri": "https://localhost:8080/"
        },
        "id": "XCS8WyA1bBth",
        "outputId": "fe79925a-6ce4-4c64-cb02-46811a49ffc0"
      },
      "execution_count": 5,
      "outputs": [
        {
          "output_type": "stream",
          "name": "stdout",
          "text": [
            "Enter base in cm :12\n",
            "Enter height in cm :14\n",
            "Area of Triangle is :  84.0\n"
          ]
        }
      ]
    },
    {
      "cell_type": "markdown",
      "source": [
        "# Q .4.\tWrite a Python program to swap two variables?"
      ],
      "metadata": {
        "id": "mDLw1LHudfPZ"
      }
    },
    {
      "cell_type": "code",
      "source": [
        "# Answer ....\n",
        "a=50\n",
        "b=70\n",
        "print(\"Value of A before swaping :\",a)\n",
        "print(\"Value of B before swaping :\",b)\n",
        "a,b=b,a  # Value swaping ...\n",
        "print(\" \")\n",
        "print(\"Value of A after swaping :\",a)\n",
        "print(\"Value of B after swaping :\",b)\n"
      ],
      "metadata": {
        "colab": {
          "base_uri": "https://localhost:8080/"
        },
        "id": "kd4-VwcWdl3I",
        "outputId": "4b90deb6-a3f7-4bb4-ec63-3fe1390412d4"
      },
      "execution_count": 15,
      "outputs": [
        {
          "output_type": "stream",
          "name": "stdout",
          "text": [
            "Value of A before swaping : 50\n",
            "Value of B before swaping : 70\n",
            " \n",
            "Value of A after swaping : 70\n",
            "Value of B after swaping : 50\n"
          ]
        }
      ]
    },
    {
      "cell_type": "markdown",
      "source": [
        "# Q .5.\tWrite a Python program to generate a random number?"
      ],
      "metadata": {
        "id": "DZrMCQ_6fEqh"
      }
    },
    {
      "cell_type": "code",
      "source": [
        "# Answer ...\n",
        "\n",
        "import random\n",
        "r=random.randint(0,20)\n",
        "print(r)"
      ],
      "metadata": {
        "colab": {
          "base_uri": "https://localhost:8080/"
        },
        "id": "Fq36kUq8fRYQ",
        "outputId": "f548b404-503f-4409-96da-08756d4fedac"
      },
      "execution_count": 14,
      "outputs": [
        {
          "output_type": "stream",
          "name": "stdout",
          "text": [
            "14\n"
          ]
        }
      ]
    }
  ]
}