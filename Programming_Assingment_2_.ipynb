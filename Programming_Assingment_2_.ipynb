{
  "nbformat": 4,
  "nbformat_minor": 0,
  "metadata": {
    "colab": {
      "provenance": []
    },
    "kernelspec": {
      "name": "python3",
      "display_name": "Python 3"
    },
    "language_info": {
      "name": "python"
    }
  },
  "cells": [
    {
      "cell_type": "markdown",
      "source": [
        "# Q .1.\tWrite a Python program to convert kilometers to miles?\n",
        "\n",
        "\n"
      ],
      "metadata": {
        "id": "AoBQb8_3g_Ri"
      }
    },
    {
      "cell_type": "code",
      "execution_count": 1,
      "metadata": {
        "colab": {
          "base_uri": "https://localhost:8080/"
        },
        "id": "nXgmtU8zg4hU",
        "outputId": "3e6d7aba-b4c2-42d5-c22f-df43dbb7c06c"
      },
      "outputs": [
        {
          "output_type": "stream",
          "name": "stdout",
          "text": [
            "Enter kilometer :12\n",
            "Given kilometer in miles :  7.4564520000000005  miles\n"
          ]
        }
      ],
      "source": [
        "# Answer ...\n",
        "k=int(input(\"Enter kilometer :\"))\n",
        "\n",
        "m= k*0.621371 # 1 km =0.621371\n",
        "\n",
        "print(\"Given kilometer in miles : \", m ,\" miles\")"
      ]
    },
    {
      "cell_type": "markdown",
      "source": [
        "# Q .2.\tWrite a Python program to convert Celsius to Fahrenheit?"
      ],
      "metadata": {
        "id": "RV0_evsuiixR"
      }
    },
    {
      "cell_type": "code",
      "source": [
        "# Answer ....\n",
        "\n",
        "c=int(input(\"Enter the value in celsius :\"))\n",
        "\n",
        "f=c*(9/5)+32\n",
        "\n",
        "print(\"Value in Fahrenheit : \",f)"
      ],
      "metadata": {
        "colab": {
          "base_uri": "https://localhost:8080/"
        },
        "id": "bQ6X93V6iqeI",
        "outputId": "b709da68-5375-412f-9cb6-fc2dd9c5b038"
      },
      "execution_count": 2,
      "outputs": [
        {
          "output_type": "stream",
          "name": "stdout",
          "text": [
            "Enter the value in celsius :98\n",
            "Value in Fahrenheit :  208.4\n"
          ]
        }
      ]
    },
    {
      "cell_type": "markdown",
      "source": [
        "# Q .3.\tWrite a Python program to display calendar?"
      ],
      "metadata": {
        "id": "7GWU328Wjqr6"
      }
    },
    {
      "cell_type": "code",
      "source": [
        "# Answer ...\n",
        "import calendar\n",
        "y=int(input(\"Enter year : \"))\n",
        "m=int(input(\"Enter month : \"))\n",
        "print(calendar.month(y,m))"
      ],
      "metadata": {
        "colab": {
          "base_uri": "https://localhost:8080/"
        },
        "id": "xB9uHhCZjxCd",
        "outputId": "c8f01fec-ca35-4360-99f6-ad6d752efdd2"
      },
      "execution_count": 7,
      "outputs": [
        {
          "output_type": "stream",
          "name": "stdout",
          "text": [
            "Enter year : 2022\n",
            "Enter month : 11\n",
            "   November 2022\n",
            "Mo Tu We Th Fr Sa Su\n",
            "    1  2  3  4  5  6\n",
            " 7  8  9 10 11 12 13\n",
            "14 15 16 17 18 19 20\n",
            "21 22 23 24 25 26 27\n",
            "28 29 30\n",
            "\n"
          ]
        }
      ]
    },
    {
      "cell_type": "markdown",
      "source": [
        "# Q .4.\tWrite a Python program to solve quadratic equation?"
      ],
      "metadata": {
        "id": "JjLRR8WIlDZA"
      }
    },
    {
      "cell_type": "code",
      "source": [
        "# Answer ....\n",
        "\n",
        "import cmath\n",
        "\n",
        "x = 1\n",
        "y = 5\n",
        "z = 6\n",
        "\n",
        "w = (y**2) - (4*x*z)   # calculate discriminant\n",
        "\n",
        "# find two solutions\n",
        "sol1 = (-y-cmath.sqrt(w))/(2*x)  \n",
        "\n",
        "sol2 = (-y+cmath.sqrt(w))/(2*x)\n",
        "\n",
        "print('The solution are {0} and {1}'.format(sol1,sol2))\n"
      ],
      "metadata": {
        "colab": {
          "base_uri": "https://localhost:8080/"
        },
        "id": "GXdwpe5XlJ2q",
        "outputId": "c661f339-7e73-4584-b1cb-ebe271ca3a87"
      },
      "execution_count": 8,
      "outputs": [
        {
          "output_type": "stream",
          "name": "stdout",
          "text": [
            "The solution are (-3+0j) and (-2+0j)\n"
          ]
        }
      ]
    },
    {
      "cell_type": "markdown",
      "source": [
        "# Q .5.\tWrite a Python program to swap two variables without temp variable?"
      ],
      "metadata": {
        "id": "UsWvgNqlmUv4"
      }
    },
    {
      "cell_type": "code",
      "source": [
        "# Answer ...\n",
        "a = 88\n",
        "b =76\n",
        "print(\"Value of 'a' before swaping : \",a)\n",
        "print(\"Value of 'b' before swaping : \",b)\n",
        "\n",
        "a , b = b , a\n",
        "print(\" \")\n",
        "\n",
        "print(\"Value of 'a' after swaping : \",a)\n",
        "print(\"Value of 'b' after swaping : \",b)"
      ],
      "metadata": {
        "colab": {
          "base_uri": "https://localhost:8080/"
        },
        "id": "WkPkpkhMmvor",
        "outputId": "45e6ac61-0cd1-4f55-f750-427b4168b319"
      },
      "execution_count": 10,
      "outputs": [
        {
          "output_type": "stream",
          "name": "stdout",
          "text": [
            "Value of 'a' before swaping :  88\n",
            "Value of 'b' before swaping :  76\n",
            " \n",
            "Value of 'a' after swaping :  76\n",
            "Value of 'b' after swaping :  88\n"
          ]
        }
      ]
    }
  ]
}