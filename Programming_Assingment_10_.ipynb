{
  "nbformat": 4,
  "nbformat_minor": 0,
  "metadata": {
    "colab": {
      "provenance": []
    },
    "kernelspec": {
      "name": "python3",
      "display_name": "Python 3"
    },
    "language_info": {
      "name": "python"
    }
  },
  "cells": [
    {
      "cell_type": "markdown",
      "source": [
        "# Q .1.\tWrite a Python program to find sum of elements in list?\n",
        "\n"
      ],
      "metadata": {
        "id": "Cr61u1-B732Y"
      }
    },
    {
      "cell_type": "code",
      "execution_count": null,
      "metadata": {
        "colab": {
          "base_uri": "https://localhost:8080/"
        },
        "id": "0dQrFeuB7tV8",
        "outputId": "96a2e596-367c-49ce-aaed-80b14b92570e"
      },
      "outputs": [
        {
          "output_type": "stream",
          "name": "stdout",
          "text": [
            "14\n"
          ]
        }
      ],
      "source": [
        "# Answer ..\n",
        "\n",
        "l=[1,3,2,4,5,6,-7]\n",
        "s=0\n",
        "for i in l:\n",
        "  s+=i\n",
        "print(s)"
      ]
    },
    {
      "cell_type": "markdown",
      "source": [
        "# Q .2.\tWrite a Python program to  Multiply all numbers in the list?"
      ],
      "metadata": {
        "id": "mGgn6QKn9SWd"
      }
    },
    {
      "cell_type": "code",
      "source": [
        "# Answer ..\n",
        "\n",
        "l1=[1,2,3,4,5]\n",
        "sum =1\n",
        "for i in l1:\n",
        "  sum *= i\n",
        "\n",
        "print(sum)"
      ],
      "metadata": {
        "colab": {
          "base_uri": "https://localhost:8080/"
        },
        "id": "EzHpbwiY9TBO",
        "outputId": "2c731fb9-c17f-4da9-ea8e-901d83126882"
      },
      "execution_count": null,
      "outputs": [
        {
          "output_type": "stream",
          "name": "stdout",
          "text": [
            "120\n"
          ]
        }
      ]
    },
    {
      "cell_type": "markdown",
      "source": [
        "# Q .3.\tWrite a Python program to find smallest number in a list?"
      ],
      "metadata": {
        "id": "tzPcCINuIG3V"
      }
    },
    {
      "cell_type": "code",
      "source": [
        "# Answer ..\n",
        "\n",
        "j=[22,33,44,565,23,-2,20]\n",
        "m=j[0]\n",
        "for i in j:\n",
        "  if i<m:\n",
        "    m=i\n",
        "print(m)"
      ],
      "metadata": {
        "colab": {
          "base_uri": "https://localhost:8080/"
        },
        "id": "l5BuFTEI94sm",
        "outputId": "73cbb95c-cd75-494c-f876-d3cca774c18b"
      },
      "execution_count": 3,
      "outputs": [
        {
          "output_type": "stream",
          "name": "stdout",
          "text": [
            "-2\n"
          ]
        }
      ]
    },
    {
      "cell_type": "markdown",
      "source": [
        "# Q .4.\tWrite a Python program to find largest number in a list?"
      ],
      "metadata": {
        "id": "IoRKnP_KIL6D"
      }
    },
    {
      "cell_type": "code",
      "source": [
        "# Answer ..\n",
        "\n",
        "j=[22,33,44,565,23,-2,20]\n",
        "m=j[0]\n",
        "for i in j:\n",
        "  if i>m:\n",
        "    m=i\n",
        "print(m)"
      ],
      "metadata": {
        "colab": {
          "base_uri": "https://localhost:8080/"
        },
        "id": "H4oD-eq5-yXW",
        "outputId": "22d07e16-2c54-4cc5-8643-4ad074f458ad"
      },
      "execution_count": 6,
      "outputs": [
        {
          "output_type": "stream",
          "name": "stdout",
          "text": [
            "565\n"
          ]
        }
      ]
    },
    {
      "cell_type": "markdown",
      "source": [
        "# Q .5.\tWrite a Python program to find second largest number in a list?"
      ],
      "metadata": {
        "id": "xmsrhbZtIVHr"
      }
    },
    {
      "cell_type": "code",
      "source": [
        "# Answer ..\n",
        "\n",
        "num= int(input(\"Enter the lenth of your list : \"))\n",
        "l = []\n",
        "\n",
        "for i in range(num):\n",
        "    l.append(int(input()))\n",
        "print(\"The List is \",l)\n",
        "l.sort()\n",
        "print(\"The second largest number is : \",l[-2])"
      ],
      "metadata": {
        "colab": {
          "base_uri": "https://localhost:8080/"
        },
        "id": "tvXZJJrpBW01",
        "outputId": "e6e37e3f-9edb-45fb-f9f5-ffd017399039"
      },
      "execution_count": 16,
      "outputs": [
        {
          "output_type": "stream",
          "name": "stdout",
          "text": [
            "Enter the lenth of your list : 5\n",
            "45\n",
            "66\n",
            "542\n",
            "665\n",
            "852\n",
            "The List is  [45, 66, 542, 665, 852]\n",
            "The second largest number is :  665\n"
          ]
        }
      ]
    },
    {
      "cell_type": "markdown",
      "source": [
        "# Q .6.\tWrite a Python program to find N largest elements from a list?"
      ],
      "metadata": {
        "id": "-d9d2zEiIXXC"
      }
    },
    {
      "cell_type": "code",
      "source": [
        "# Answer ..\n",
        "\n",
        "n = int(input(\"Enter the lenth of your list : \"))\n",
        "lst = []\n",
        "\n",
        "for i in range(n):\n",
        "    lst.append(int(input()))\n",
        "print(\"The List is \",lst)\n",
        "lst.sort()\n",
        "print(\"The sorted list is \",lst)\n",
        "nlar = int(input(\"Enter how many largest number you want from list:\"))\n",
        "print(nlar,\"largest elements from the list are :\",lst[(n-nlar):])"
      ],
      "metadata": {
        "colab": {
          "base_uri": "https://localhost:8080/"
        },
        "id": "3Y2XaB47B7f3",
        "outputId": "cadd595b-6c1d-4499-afd5-af3d46f2b0a1"
      },
      "execution_count": 17,
      "outputs": [
        {
          "output_type": "stream",
          "name": "stdout",
          "text": [
            "Enter the lenth of your list : 5\n",
            "56\n",
            "66\n",
            "52\n",
            "632\n",
            "541\n",
            "The List is  [56, 66, 52, 632, 541]\n",
            "The sorted list is  [52, 56, 66, 541, 632]\n",
            "Enter how many largest number you want from list:3\n",
            "3 largest elements from the list are : [66, 541, 632]\n"
          ]
        }
      ]
    },
    {
      "cell_type": "markdown",
      "source": [
        "# Q .7.\tWrite a Python program to print even numbers in a list?"
      ],
      "metadata": {
        "id": "3eObbIZEIgvD"
      }
    },
    {
      "cell_type": "code",
      "source": [
        "# Answer ..\n",
        "\n",
        "l=[2,3,45,67,32,88,76,97]\n",
        "l1=[]\n",
        "for i in l:\n",
        "  if i%2==0:\n",
        "    l1.append(i)\n",
        "print(l1)"
      ],
      "metadata": {
        "colab": {
          "base_uri": "https://localhost:8080/"
        },
        "id": "cp35y0pkIlqj",
        "outputId": "21011ee3-6e18-4947-a436-0473ba48fcdb"
      },
      "execution_count": 24,
      "outputs": [
        {
          "output_type": "stream",
          "name": "stdout",
          "text": [
            "[2, 32, 88, 76]\n"
          ]
        }
      ]
    },
    {
      "cell_type": "markdown",
      "source": [
        "# Q .8.\tWrite a Python program to print odd numbers in a List?"
      ],
      "metadata": {
        "id": "fFV1FxjUImaF"
      }
    },
    {
      "cell_type": "code",
      "source": [
        "# Answer ..\n",
        "\n",
        "l=[2,3,45,67,32,88,76,97]\n",
        "l1=[]\n",
        "for i in l:\n",
        "  if i%2!=0:\n",
        "    l1.append(i)\n",
        "print(l1)"
      ],
      "metadata": {
        "colab": {
          "base_uri": "https://localhost:8080/"
        },
        "id": "5aSIFSB8IsN7",
        "outputId": "051085ca-0a2a-446f-81cf-1b1414726cdc"
      },
      "execution_count": 29,
      "outputs": [
        {
          "output_type": "stream",
          "name": "stdout",
          "text": [
            "[3, 45, 67, 97]\n"
          ]
        }
      ]
    },
    {
      "cell_type": "markdown",
      "source": [
        "# Q .9.\tWrite a Python program to Remove empty List from List?"
      ],
      "metadata": {
        "id": "QOvT9oxfIst7"
      }
    },
    {
      "cell_type": "code",
      "source": [
        "# Answer ....\n",
        "lst =[[],[1,2,3,4,5],[1,2],[]]\n",
        "l2 =[]\n",
        "for i in lst:\n",
        "  if type(i) == list:\n",
        "    if len(i)>0:\n",
        "      l2.append(i)\n",
        "    else:\n",
        "      pass\n",
        "print(l2)\n"
      ],
      "metadata": {
        "colab": {
          "base_uri": "https://localhost:8080/"
        },
        "id": "A6UKq6QfWtBx",
        "outputId": "f265f246-9bd6-4fc8-f943-c29d2ebe3f6f"
      },
      "execution_count": 81,
      "outputs": [
        {
          "output_type": "stream",
          "name": "stdout",
          "text": [
            "[[1, 2, 3, 4, 5], [1, 2]]\n"
          ]
        }
      ]
    },
    {
      "cell_type": "code",
      "source": [
        "lst =[[],12,34,[1,2,3,4,5],13,[],76]\n",
        "print(\"Original list : \")\n",
        "print(lst)\n",
        "print(\" \")\n",
        "l1=[x for x in lst if x]\n",
        "print(\"New list after removing empty list :\")\n",
        "print(l1)"
      ],
      "metadata": {
        "colab": {
          "base_uri": "https://localhost:8080/"
        },
        "id": "Ka7R9_GSdqtN",
        "outputId": "8dcbb1ca-45f1-494e-80ff-1e2a27758c9d"
      },
      "execution_count": 88,
      "outputs": [
        {
          "output_type": "stream",
          "name": "stdout",
          "text": [
            "Original list : \n",
            "[[], 12, 34, [1, 2, 3, 4, 5], 13, [], 76]\n",
            " \n",
            "New list after removing empty list :\n",
            "[12, 34, [1, 2, 3, 4, 5], 13, 76]\n"
          ]
        }
      ]
    },
    {
      "cell_type": "markdown",
      "source": [
        "# Q .10.\tWrite a Python program to Cloning or Copying a list?"
      ],
      "metadata": {
        "id": "3TVMq1MCIyc6"
      }
    },
    {
      "cell_type": "code",
      "source": [
        "# Answer ...\n",
        "my_list = [1, 2, 3, 4, 5]\n",
        "copy_list = my_list\n",
        "print('Old List: ', my_list)\n",
        "print('New List: ', copy_list)"
      ],
      "metadata": {
        "colab": {
          "base_uri": "https://localhost:8080/"
        },
        "id": "sMdvNOGCI046",
        "outputId": "b699bed7-f421-4e12-a0cf-0675dbc4300c"
      },
      "execution_count": 83,
      "outputs": [
        {
          "output_type": "stream",
          "name": "stdout",
          "text": [
            "Old List:  [1, 2, 3, 4, 5]\n",
            "New List:  [1, 2, 3, 4, 5]\n"
          ]
        }
      ]
    },
    {
      "cell_type": "markdown",
      "source": [
        "# Q .11.\tWrite a Python program to Count occurrences of an element in a list?"
      ],
      "metadata": {
        "id": "mZzxuocbI1RK"
      }
    },
    {
      "cell_type": "code",
      "source": [
        "# Answer ...\n",
        "\n",
        "items = ['a', 'b', 'a', 'c', 'd', 'd', 'd', 'c', 'a', 'b']\n",
        "count = 0\n",
        "for item in items:\n",
        "    if item == 'a':\n",
        "        count += 1\n",
        "print(count)"
      ],
      "metadata": {
        "colab": {
          "base_uri": "https://localhost:8080/"
        },
        "id": "YWMiKzPFdLsF",
        "outputId": "574af4f1-9930-4abd-92a4-65ec1c1a9b22"
      },
      "execution_count": 89,
      "outputs": [
        {
          "output_type": "stream",
          "name": "stdout",
          "text": [
            "3\n"
          ]
        }
      ]
    }
  ]
}