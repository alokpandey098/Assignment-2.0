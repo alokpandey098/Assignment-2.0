{
  "nbformat": 4,
  "nbformat_minor": 0,
  "metadata": {
    "colab": {
      "provenance": []
    },
    "kernelspec": {
      "name": "python3",
      "display_name": "Python 3"
    },
    "language_info": {
      "name": "python"
    }
  },
  "cells": [
    {
      "cell_type": "markdown",
      "source": [
        "#Q .1. Why are functions advantageous to have in your programs?\n",
        "\n",
        "#Answer ---\n",
        "Function increase the reusability of code .Once we define a function ,we just have to call the function ,put the value and work is done . We don't need to rewriting the same logic or code again and again in a program ."
      ],
      "metadata": {
        "id": "0E3dgx41dbXc"
      }
    },
    {
      "cell_type": "markdown",
      "source": [
        "\n",
        "\n",
        "---\n",
        "\n"
      ],
      "metadata": {
        "id": "1DL9C5hVeLlp"
      }
    },
    {
      "cell_type": "markdown",
      "source": [
        "#Q .2. When does the code in a function run: when it's specified or when it's called?\n",
        "\n",
        "#Answer ----\n",
        " The code in function run ,when we call the function ."
      ],
      "metadata": {
        "id": "Ry4EgatPeOrZ"
      }
    },
    {
      "cell_type": "markdown",
      "source": [
        "\n",
        "\n",
        "---\n",
        "\n"
      ],
      "metadata": {
        "id": "XOgOLPsPedj5"
      }
    },
    {
      "cell_type": "markdown",
      "source": [
        "#Q .3. What statement creates a function?\n",
        "\n",
        "#Answer ---\n",
        "For creating a function ,we use def statement ."
      ],
      "metadata": {
        "id": "0wr0r3ptee06"
      }
    },
    {
      "cell_type": "markdown",
      "source": [
        "\n",
        "\n",
        "---\n",
        "\n"
      ],
      "metadata": {
        "id": "fhnzYmoJepSu"
      }
    },
    {
      "cell_type": "markdown",
      "source": [
        "#Q .4. What is the difference between a function and a function call?\n",
        "\n",
        "#Answer ----\n",
        "A function is a block of code which only runs when it is called. You can pass data, known as parameters, into a function. A function can return data as a result."
      ],
      "metadata": {
        "id": "IKJnrtPjeqDm"
      }
    },
    {
      "cell_type": "markdown",
      "source": [
        "\n",
        "\n",
        "---\n",
        "\n"
      ],
      "metadata": {
        "id": "zc-WJYTfex8n"
      }
    },
    {
      "cell_type": "markdown",
      "source": [
        "#Q .5. How many global scopes are there in a Python program? How many local scopes?\n",
        "\n",
        "#Answer ----\n",
        "There is one global scope and one local scope craeted ,when we called a function ."
      ],
      "metadata": {
        "id": "wnnSw9UPezP_"
      }
    },
    {
      "cell_type": "markdown",
      "source": [
        "\n",
        "\n",
        "---\n",
        "\n"
      ],
      "metadata": {
        "id": "ezATeTtae6iL"
      }
    },
    {
      "cell_type": "markdown",
      "source": [
        "#Q .6. What happens to variables in a local scope when the function call returns?\n",
        "\n",
        "#Answer ---\n",
        "When a function return or terminates ,the local variable are destroyed ."
      ],
      "metadata": {
        "id": "ERhAdp-Ie7yL"
      }
    },
    {
      "cell_type": "markdown",
      "source": [
        "\n",
        "\n",
        "\n",
        "---\n",
        "\n"
      ],
      "metadata": {
        "id": "9_kfpVRXfDdY"
      }
    },
    {
      "cell_type": "markdown",
      "source": [
        "#Q .7. What is the concept of a return value? Is it possible to have a return value in an expression?\n",
        "\n",
        "#Answer ---\n",
        "A Return value is the value that is returned by a function after it has been executed.Yes it can be possible to have a return value in an expression ."
      ],
      "metadata": {
        "id": "X1N93PSffE7h"
      }
    },
    {
      "cell_type": "markdown",
      "source": [
        "\n",
        "\n",
        "---\n",
        "\n"
      ],
      "metadata": {
        "id": "020nR7urfTCU"
      }
    },
    {
      "cell_type": "markdown",
      "source": [
        "#Q .8. If a function does not have a return statement, what is the return value of a call to that function?\n",
        "\n",
        "#Answer ---\n",
        "if a function does not have a return statement,then the function return  None ."
      ],
      "metadata": {
        "id": "Uq8z96xkfT5l"
      }
    },
    {
      "cell_type": "markdown",
      "source": [
        "\n",
        "\n",
        "---\n",
        "\n"
      ],
      "metadata": {
        "id": "a7-9l0xOfcQ0"
      }
    },
    {
      "cell_type": "markdown",
      "source": [
        "#Q .9. How do you make a function variable refer to the global variable?\n",
        "\n",
        "#Answer ---\n",
        "To make a function variable refer to the global variable, we have to use the global keyword."
      ],
      "metadata": {
        "id": "TGV9UVnJfdJt"
      }
    },
    {
      "cell_type": "markdown",
      "source": [
        "\n",
        "\n",
        "---\n",
        "\n"
      ],
      "metadata": {
        "id": "mDhjeU4CfmqR"
      }
    },
    {
      "cell_type": "markdown",
      "source": [
        "#Q .10. What is the data type of None?\n",
        "\n",
        "#Answer ----\n",
        "The data type of None is None type .\n"
      ],
      "metadata": {
        "id": "AxfmbnI_fnjB"
      }
    },
    {
      "cell_type": "markdown",
      "source": [
        "\n",
        "\n",
        "---\n",
        "\n"
      ],
      "metadata": {
        "id": "T-D2qjMsfwNu"
      }
    },
    {
      "cell_type": "markdown",
      "source": [
        "#Q .11. What does the sentence import areallyourpetsnamederic do?\n",
        "\n",
        "#Answer ---\n",
        "The santance import areallyourpetsnamederic is import a module named areallyourpetsnamederic ."
      ],
      "metadata": {
        "id": "VL-uXuNkfyZw"
      }
    },
    {
      "cell_type": "markdown",
      "source": [
        "\n",
        "\n",
        "---\n",
        "\n"
      ],
      "metadata": {
        "id": "KquOyKqngZ4-"
      }
    },
    {
      "cell_type": "markdown",
      "source": [
        "#Q .12. If you had a bacon() feature in a spam module, what would you call it after importing spam?\n",
        "\n",
        "#Answer ---\n",
        "If we had a bacon() feature in spam module ,then the function can be called with spam.bacon() ."
      ],
      "metadata": {
        "id": "YdxTFji1gcYW"
      }
    },
    {
      "cell_type": "markdown",
      "source": [
        "\n",
        "\n",
        "---\n",
        "\n"
      ],
      "metadata": {
        "id": "vFirxDfAgoku"
      }
    },
    {
      "cell_type": "markdown",
      "source": [
        "#Q .13. What can you do to save a programme from crashing if it encounters an error?\n",
        "\n",
        "#Answer ---\n",
        "To save a programme from crashing due to some error ,we will use the exception handling clause ."
      ],
      "metadata": {
        "id": "Kb2MFHRjgpmu"
      }
    },
    {
      "cell_type": "markdown",
      "source": [
        "\n",
        "\n",
        "---\n",
        "\n"
      ],
      "metadata": {
        "id": "k_Sv_5lAgyqe"
      }
    },
    {
      "cell_type": "markdown",
      "source": [
        "#Q .14. What is the purpose of the try clause? What is the purpose of the except clause?\n",
        "\n",
        "#Answer ---\n",
        "The purpose of the try clause is that ,the try clause contains the code that might throw an exception.\n",
        "The except clause is used to handle exceptions that occur in a try block."
      ],
      "metadata": {
        "id": "dYpg6Nqcgzse"
      }
    },
    {
      "cell_type": "markdown",
      "source": [
        "\n",
        "\n",
        "---\n",
        "\n"
      ],
      "metadata": {
        "id": "DX891bvDg8hd"
      }
    },
    {
      "cell_type": "code",
      "execution_count": null,
      "metadata": {
        "id": "lBmWcscccon2"
      },
      "outputs": [],
      "source": []
    }
  ]
}