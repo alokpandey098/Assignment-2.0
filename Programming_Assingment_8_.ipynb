{
  "nbformat": 4,
  "nbformat_minor": 0,
  "metadata": {
    "colab": {
      "provenance": []
    },
    "kernelspec": {
      "name": "python3",
      "display_name": "Python 3"
    },
    "language_info": {
      "name": "python"
    }
  },
  "cells": [
    {
      "cell_type": "markdown",
      "source": [
        "# Q .1.\tWrite a Python Program to Add Two Matrices?\n",
        "\n"
      ],
      "metadata": {
        "id": "dHs8HiBTdTK_"
      }
    },
    {
      "cell_type": "code",
      "execution_count": 3,
      "metadata": {
        "colab": {
          "base_uri": "https://localhost:8080/"
        },
        "id": "_zLLDrW2dN3t",
        "outputId": "d27d46b5-3a70-4c86-c9a9-e219d7c9a9f9"
      },
      "outputs": [
        {
          "output_type": "stream",
          "name": "stdout",
          "text": [
            "[14, 48, 18]\n",
            "[38, 35, 39]\n",
            "[108, 31, 34]\n"
          ]
        }
      ],
      "source": [
        "# Answer ...\n",
        "\n",
        "A =[[2,3,12],\n",
        "    [19,13,6],\n",
        "    [31,17,9]]\n",
        "\n",
        "B =[[12,45,6],\n",
        "    [19,22,33],\n",
        "    [77,14,25]]\n",
        "\n",
        "C =[[0,0,0],\n",
        "    [0,0,0],\n",
        "    [0,0,0]]\n",
        "\n",
        "\n",
        "for i in range(len(A)):\n",
        "  for j in range(len(A[0])):\n",
        "    C[i][j] =A[i][j] + B[i][j]\n",
        "for r in C:\n",
        "  print(r)"
      ]
    },
    {
      "cell_type": "markdown",
      "source": [
        "# Q .2.\tWrite a Python Program to Multiply Two Matrices?"
      ],
      "metadata": {
        "id": "y_PhAU7NgJXm"
      }
    },
    {
      "cell_type": "code",
      "source": [
        "# Answer ....\n",
        "A =[[2,3,12],\n",
        "    [19,13,6],\n",
        "    [31,17,9]]\n",
        "\n",
        "B =[[12,45,6],\n",
        "    [19,22,33],\n",
        "    [77,14,25]]\n",
        "\n",
        "C =[[0,0,0],\n",
        "    [0,0,0],\n",
        "    [0,0,0]]\n",
        "\n",
        "\n",
        "for i in range(len(A)):\n",
        "  for j in range(len(B[0])):\n",
        "    for k in range(len(B)):\n",
        "      C[i][j] += A[i][k] * B[k][j]\n",
        "for r in C:\n",
        "  print(r)\n"
      ],
      "metadata": {
        "colab": {
          "base_uri": "https://localhost:8080/"
        },
        "id": "xvM3yZjEgRbO",
        "outputId": "7df10eb7-4f6c-4251-fc2e-381ddb7d53b4"
      },
      "execution_count": 7,
      "outputs": [
        {
          "output_type": "stream",
          "name": "stdout",
          "text": [
            "[1005, 324, 411]\n",
            "[937, 1225, 693]\n",
            "[1388, 1895, 972]\n"
          ]
        }
      ]
    },
    {
      "cell_type": "markdown",
      "source": [
        "# Q .3.\tWrite a Python Program to Transpose a Matrix?"
      ],
      "metadata": {
        "id": "q2oek3C6jNBe"
      }
    },
    {
      "cell_type": "code",
      "source": [
        "# Answer ...\n",
        "\n",
        "A =[[2,3],\n",
        "    [9,8],\n",
        "    [7,6]]\n",
        "\n",
        "D =[[0,0,0],\n",
        "    [0,0,0]]\n",
        "\n",
        "for i in range(len(A)):\n",
        "  for j in range(len(A[0])):\n",
        "    D[j][i] =A[i][j]\n",
        "\n",
        "for s in D:\n",
        "  print(s)"
      ],
      "metadata": {
        "colab": {
          "base_uri": "https://localhost:8080/"
        },
        "id": "5qgCN1HdjUY8",
        "outputId": "dcad3dc4-9d78-438b-fdec-ffdd5c973be1"
      },
      "execution_count": 12,
      "outputs": [
        {
          "output_type": "stream",
          "name": "stdout",
          "text": [
            "[2, 9, 7]\n",
            "[3, 8, 6]\n"
          ]
        }
      ]
    },
    {
      "cell_type": "markdown",
      "source": [
        "# Q .4.\tWrite a Python Program to Sort Words in Alphabetic Order?"
      ],
      "metadata": {
        "id": "-7ntd8eOlMlF"
      }
    },
    {
      "cell_type": "code",
      "source": [
        "# Answer .....\n",
        "\n",
        "user_input =input(\"Enter the santances : \")\n",
        "\n",
        "w=[ws.lower() for ws in user_input.split()]\n",
        "\n",
        "w.sort()\n",
        "\n",
        "for ws in w:\n",
        "  print(ws)"
      ],
      "metadata": {
        "colab": {
          "base_uri": "https://localhost:8080/"
        },
        "id": "MkYxHDtelVwl",
        "outputId": "e3c2369f-c3bc-473d-926d-f8cae073f57c"
      },
      "execution_count": 15,
      "outputs": [
        {
          "output_type": "stream",
          "name": "stdout",
          "text": [
            "Enter the santances : Hello world This is Python Program\n",
            "hello\n",
            "is\n",
            "program\n",
            "python\n",
            "this\n",
            "world\n"
          ]
        }
      ]
    },
    {
      "cell_type": "markdown",
      "source": [
        "# Q .5.\tWrite a Python Program to Remove Punctuation From a String?"
      ],
      "metadata": {
        "id": "PUMOJxexncl7"
      }
    },
    {
      "cell_type": "code",
      "source": [
        "# Answer ...\n",
        "\n",
        "punct = '''!()-[]{};:'\"\\,<>./?@#$%^&*_~'''\n",
        "\n",
        "user_input =input(\"Enter the santances : \")\n",
        "\n",
        "filter_santences = \"\"\n",
        "for i in user_input :\n",
        "   if i not in punct :\n",
        "     filter_santences = filter_santences + i\n",
        "\n",
        "print(\"Santances After removed panctuation : \")\n",
        "print(filter_santences)"
      ],
      "metadata": {
        "colab": {
          "base_uri": "https://localhost:8080/"
        },
        "id": "lEkTXCpvnmWs",
        "outputId": "0fb43c73-7e15-41bf-8126-6aa6e4a8e306"
      },
      "execution_count": 18,
      "outputs": [
        {
          "output_type": "stream",
          "name": "stdout",
          "text": [
            "Enter the santances : #Alok @kumar $pandey !\n",
            "Santances After removed panctuation : \n",
            "Alok kumar pandey \n"
          ]
        }
      ]
    }
  ]
}