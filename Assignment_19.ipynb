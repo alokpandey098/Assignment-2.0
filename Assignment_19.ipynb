{
 "cells": [
  {
   "cell_type": "markdown",
   "id": "0f7f72b5-2005-4c6a-b1a8-c8fd0b4e1fb6",
   "metadata": {},
   "source": [
    "Q 1.Make a class called Thing with no contents and print it. Then, create an object called example from this class and also print it. Are the printed values the same or different?"
   ]
  },
  {
   "cell_type": "code",
   "execution_count": 6,
   "id": "edcd8036-ce46-460b-a5df-15ed17962a55",
   "metadata": {},
   "outputs": [
    {
     "name": "stdout",
     "output_type": "stream",
     "text": [
      "<class '__main__.Things'>\n"
     ]
    }
   ],
   "source": [
    "# Answer ...\n",
    "\n",
    "class Things:\n",
    "    pass\n",
    "print(Things)"
   ]
  },
  {
   "cell_type": "code",
   "execution_count": 7,
   "id": "740d3559-caa7-4018-8022-01c6d80b8f63",
   "metadata": {},
   "outputs": [
    {
     "name": "stdout",
     "output_type": "stream",
     "text": [
      "<__main__.Things object at 0x7fa3dbf03fd0>\n"
     ]
    }
   ],
   "source": [
    "example =Things()\n",
    "print(example)"
   ]
  },
  {
   "cell_type": "markdown",
   "id": "03d77af3-5021-4a09-aaa8-4fa5aed7abe3",
   "metadata": {},
   "source": [
    "Q 2.Create a new class called Thing2 and add the value 'abc' to the letters class attribute. Letters should be printed."
   ]
  },
  {
   "cell_type": "code",
   "execution_count": 8,
   "id": "82504a7d-1791-4690-b197-cd4967d8980c",
   "metadata": {},
   "outputs": [
    {
     "name": "stdout",
     "output_type": "stream",
     "text": [
      "abc\n"
     ]
    }
   ],
   "source": [
    "#Answer....\n",
    "\n",
    "class Thing2:\n",
    "    letter=\"abc\"\n",
    "print(Thing2.letter)"
   ]
  },
  {
   "cell_type": "markdown",
   "id": "5c51f9be-513f-4e53-84eb-3fd9fdf4bf1c",
   "metadata": {},
   "source": [
    "Q 3.Make yet another class called, of course, Thing3. This time, assign the value 'xyz' to an instance (object) attribute called letters. Print letters. Do you need to make an object from the class to do this?"
   ]
  },
  {
   "cell_type": "code",
   "execution_count": 9,
   "id": "ae2dbcd7-3a5e-4b85-a15d-cfdebf4ea724",
   "metadata": {},
   "outputs": [
    {
     "ename": "AttributeError",
     "evalue": "type object 'Thing3' has no attribute 'letter'",
     "output_type": "error",
     "traceback": [
      "\u001b[0;31m---------------------------------------------------------------------------\u001b[0m",
      "\u001b[0;31mAttributeError\u001b[0m                            Traceback (most recent call last)",
      "Cell \u001b[0;32mIn [9], line 6\u001b[0m\n\u001b[1;32m      4\u001b[0m     \u001b[38;5;28;01mdef\u001b[39;00m \u001b[38;5;21m__init__\u001b[39m(\u001b[38;5;28mself\u001b[39m):\n\u001b[1;32m      5\u001b[0m         \u001b[38;5;28mself\u001b[39m\u001b[38;5;241m.\u001b[39mletter\u001b[38;5;241m=\u001b[39m\u001b[38;5;124m'\u001b[39m\u001b[38;5;124mxyz\u001b[39m\u001b[38;5;124m'\u001b[39m\n\u001b[0;32m----> 6\u001b[0m \u001b[38;5;28mprint\u001b[39m(\u001b[43mThing3\u001b[49m\u001b[38;5;241;43m.\u001b[39;49m\u001b[43mletter\u001b[49m)\n",
      "\u001b[0;31mAttributeError\u001b[0m: type object 'Thing3' has no attribute 'letter'"
     ]
    }
   ],
   "source": [
    "#Answer...\n",
    "\n",
    "class Thing3:\n",
    "    def __init__(self):\n",
    "        self.letter='xyz'\n",
    "print(Thing3.letter)"
   ]
  },
  {
   "cell_type": "code",
   "execution_count": 10,
   "id": "19783a81-194e-4bac-a3a0-74278333e6e7",
   "metadata": {},
   "outputs": [],
   "source": [
    "obj=Thing3()"
   ]
  },
  {
   "cell_type": "code",
   "execution_count": 11,
   "id": "6c2a548e-b7c9-4293-90df-2da97cb2311f",
   "metadata": {},
   "outputs": [
    {
     "data": {
      "text/plain": [
       "'xyz'"
      ]
     },
     "execution_count": 11,
     "metadata": {},
     "output_type": "execute_result"
    }
   ],
   "source": [
    "obj.letter"
   ]
  },
  {
   "cell_type": "raw",
   "id": "32fbe934-73ca-4e26-bb48-0a1cdf210b5c",
   "metadata": {},
   "source": [
    "NOTE :Yes we need to make an object from the class to do this ."
   ]
  },
  {
   "cell_type": "markdown",
   "id": "b51e88c8-44d2-48a8-b9fa-9d8b34fbf69c",
   "metadata": {},
   "source": []
  },
  {
   "cell_type": "markdown",
   "id": "2af25ff4-5a80-42b7-b808-e680a6a7fabe",
   "metadata": {},
   "source": [
    "Q 4.Create an Element class with the instance attributes name, symbol, and number. Create a class object with the values 'Hydrogen,' 'H,' and 1."
   ]
  },
  {
   "cell_type": "code",
   "execution_count": 12,
   "id": "5ebaf44f-ea4a-4f42-8a9e-bac211ec011d",
   "metadata": {},
   "outputs": [],
   "source": [
    "#Answer ....\n",
    "\n",
    "class Element:\n",
    "    def __init__(self,name,symbol,number):\n",
    "        self.name=name\n",
    "        self.symbol=symbol\n",
    "        self.number=number\n"
   ]
  },
  {
   "cell_type": "code",
   "execution_count": 13,
   "id": "a96a82fb-ef4b-479a-8c44-b4dfb940ea79",
   "metadata": {},
   "outputs": [],
   "source": [
    "obj=Element('Hydrogen','H',1)"
   ]
  },
  {
   "cell_type": "code",
   "execution_count": 14,
   "id": "3da348ab-7de4-4d4b-a4fa-1ae0d1103124",
   "metadata": {},
   "outputs": [
    {
     "data": {
      "text/plain": [
       "'Hydrogen'"
      ]
     },
     "execution_count": 14,
     "metadata": {},
     "output_type": "execute_result"
    }
   ],
   "source": [
    "obj.name"
   ]
  },
  {
   "cell_type": "markdown",
   "id": "ba61a69b-cd28-4e3e-b4b0-0af79f3c5da0",
   "metadata": {},
   "source": [
    "Q 5.Make a dictionary with these keys and values: 'name': 'Hydrogen', 'symbol': 'H', 'number': 1. Then, create an object called hydrogen from class Element using this dictionary."
   ]
  },
  {
   "cell_type": "code",
   "execution_count": 15,
   "id": "2d87cbec-711e-45a9-9c99-744e8ee65ab3",
   "metadata": {},
   "outputs": [],
   "source": [
    "#Answer...\n",
    "\n",
    "dic={'name':'Hydrogen','symbol':'H','number':1}"
   ]
  },
  {
   "cell_type": "code",
   "execution_count": 16,
   "id": "4bd8a333-e372-4c8d-be9c-676451978653",
   "metadata": {},
   "outputs": [],
   "source": [
    "hydrogen=Element(dic['name'],dic['symbol'],dic['number'])"
   ]
  },
  {
   "cell_type": "code",
   "execution_count": 17,
   "id": "0de239c9-f838-4bb5-88e8-ed679460a025",
   "metadata": {},
   "outputs": [
    {
     "data": {
      "text/plain": [
       "'Hydrogen'"
      ]
     },
     "execution_count": 17,
     "metadata": {},
     "output_type": "execute_result"
    }
   ],
   "source": [
    "hydrogen.name"
   ]
  },
  {
   "cell_type": "markdown",
   "id": "488aec97-09ac-4886-922c-94a8ef3fc1fc",
   "metadata": {},
   "source": [
    "Q 6.For the Element class, define a method called dump() that prints the values of the object’s attributes (name, symbol, and number). Create the hydrogen object from this new definition and use dump() to print its attributes."
   ]
  },
  {
   "cell_type": "code",
   "execution_count": 21,
   "id": "16c72534-d848-4ed0-8503-0a69a172e6d8",
   "metadata": {},
   "outputs": [
    {
     "name": "stdout",
     "output_type": "stream",
     "text": [
      "Name: Hydrogen Symbol: H Nummber: 1\n"
     ]
    }
   ],
   "source": [
    "# Answer...\n",
    "\n",
    "\n",
    "class Element:\n",
    "    def __init__(self,name,symbol,number):\n",
    "        self.name=name\n",
    "        self.symbol=symbol\n",
    "        self.number=number\n",
    "    def dump(self):\n",
    "        print('Name:',self.name,'Symbol:',self.symbol,'Nummber:',self.number)\n",
    "hydrogen=Element(**dic)\n",
    "hydrogen.dump()"
   ]
  },
  {
   "cell_type": "markdown",
   "id": "264d34d9-5a34-4cb5-9c36-dd876a01a547",
   "metadata": {},
   "source": [
    "Q 7.Call print(hydrogen). In the definition of Element, change the name of method dump to str, create a new hydrogen object, and call print(hydrogen) again."
   ]
  },
  {
   "cell_type": "code",
   "execution_count": 22,
   "id": "9beb388f-3a98-4581-8c5b-8c24e9c13226",
   "metadata": {},
   "outputs": [
    {
     "name": "stdout",
     "output_type": "stream",
     "text": [
      "<__main__.Element object at 0x7fa3c17ca650>\n"
     ]
    }
   ],
   "source": [
    "# Answer ...\n",
    "print(hydrogen)"
   ]
  },
  {
   "cell_type": "code",
   "execution_count": 31,
   "id": "a5a346af-d3e9-477f-8642-28733c645ad7",
   "metadata": {},
   "outputs": [
    {
     "name": "stdout",
     "output_type": "stream",
     "text": [
      "Name=Hydrogen, Symbol=H, Number=1\n"
     ]
    }
   ],
   "source": [
    "class Element:\n",
    "    def __init__(self,name,symbol,number):\n",
    "        self.name=name\n",
    "        self.symbol=symbol\n",
    "        self.number=number\n",
    "    def __str__(self):\n",
    "        return ('Name=%s, Symbol=%s, Number=%s' %(self.name, self.symbol, self.number))\n",
    "\n",
    "hydrogen=Element(**dic)\n",
    "print(hydrogen)"
   ]
  },
  {
   "cell_type": "markdown",
   "id": "d87735a0-6eb8-419f-bdb3-0d94d079f43d",
   "metadata": {},
   "source": [
    "Q 8.Modify Element to make the attributes name, symbol, and number private. Define a getter property for each to return its value."
   ]
  },
  {
   "cell_type": "code",
   "execution_count": 33,
   "id": "3365a69e-80ef-4f26-af14-a686b2664aae",
   "metadata": {},
   "outputs": [],
   "source": [
    "# Answer ...\n",
    "\n",
    "class Element:\n",
    "    def __init__(self,name,symbol,number):\n",
    "        self.__name=name\n",
    "        self.__symbol=symbol\n",
    "        self.__number=number\n",
    "        \n",
    "    @property\n",
    "    def name(self):\n",
    "        return self.__name\n",
    "    @property\n",
    "    def symbol(self):\n",
    "        return self.__symbol\n",
    "    @property\n",
    "    def number(self):\n",
    "        return self.__number\n",
    "hyd=Element('Hydrogen','H',1)"
   ]
  },
  {
   "cell_type": "code",
   "execution_count": 34,
   "id": "90ebad92-3eb9-4820-9366-21e1c79a25cc",
   "metadata": {},
   "outputs": [
    {
     "data": {
      "text/plain": [
       "'Hydrogen'"
      ]
     },
     "execution_count": 34,
     "metadata": {},
     "output_type": "execute_result"
    }
   ],
   "source": [
    "hyd.name"
   ]
  },
  {
   "cell_type": "code",
   "execution_count": 35,
   "id": "36a8b1de-d6a9-4317-ac76-b224bd992a66",
   "metadata": {},
   "outputs": [
    {
     "data": {
      "text/plain": [
       "1"
      ]
     },
     "execution_count": 35,
     "metadata": {},
     "output_type": "execute_result"
    }
   ],
   "source": [
    "hyd.number"
   ]
  },
  {
   "cell_type": "code",
   "execution_count": 36,
   "id": "c3356de6-29dd-4c73-b30b-09ddacfcdfd6",
   "metadata": {},
   "outputs": [
    {
     "data": {
      "text/plain": [
       "'H'"
      ]
     },
     "execution_count": 36,
     "metadata": {},
     "output_type": "execute_result"
    }
   ],
   "source": [
    "hyd.symbol"
   ]
  },
  {
   "cell_type": "markdown",
   "id": "f63d4e32-f4b4-4936-8280-d9ed4de21af4",
   "metadata": {},
   "source": [
    "Q 9.Define three classes: Bear, Rabbit, and Octothorpe. For each, define only one method: eats(). This should return 'berries' (Bear), 'clover' (Rabbit), or 'campers' (Octothorpe). Create one object from each and print what it eats."
   ]
  },
  {
   "cell_type": "code",
   "execution_count": 37,
   "id": "6442022f-db38-4d9d-a80a-b42bba1bb96f",
   "metadata": {},
   "outputs": [],
   "source": [
    "# Answer ...\n",
    "\n",
    "class Bear:\n",
    "    def eats(self):\n",
    "        return 'berries'\n",
    "class Rabbit:\n",
    "    def eats(self):\n",
    "        return 'clover'\n",
    "class Octothorpe:\n",
    "    def eats(self):\n",
    "        return 'campers'\n",
    "    \n",
    "b=Bear()\n",
    "r=Rabbit()\n",
    "c=Octothorpe()"
   ]
  },
  {
   "cell_type": "code",
   "execution_count": 38,
   "id": "69d68746-47ff-4f03-8f32-c7f0a0e82b03",
   "metadata": {},
   "outputs": [
    {
     "data": {
      "text/plain": [
       "'berries'"
      ]
     },
     "execution_count": 38,
     "metadata": {},
     "output_type": "execute_result"
    }
   ],
   "source": [
    "b.eats()"
   ]
  },
  {
   "cell_type": "code",
   "execution_count": 39,
   "id": "6722d7d7-0510-43df-9cd8-644d945ee446",
   "metadata": {},
   "outputs": [
    {
     "data": {
      "text/plain": [
       "'clover'"
      ]
     },
     "execution_count": 39,
     "metadata": {},
     "output_type": "execute_result"
    }
   ],
   "source": [
    "r.eats()"
   ]
  },
  {
   "cell_type": "code",
   "execution_count": 40,
   "id": "6d65f710-9a27-4d28-90da-82909f576259",
   "metadata": {},
   "outputs": [
    {
     "data": {
      "text/plain": [
       "'campers'"
      ]
     },
     "execution_count": 40,
     "metadata": {},
     "output_type": "execute_result"
    }
   ],
   "source": [
    "c.eats()"
   ]
  },
  {
   "cell_type": "markdown",
   "id": "fb94740c-fa95-4aff-b6c1-f4956773a312",
   "metadata": {},
   "source": [
    "Q 10.Define these classes: Laser, Claw, and SmartPhone. Each has only one method: does(). This returns 'disintegrate' (Laser), 'crush' (Claw), or 'ring' (SmartPhone). Then, define the class Robot that has one instance (object) of each of these. Define a does() method for the Robot that prints what its component objects do."
   ]
  },
  {
   "cell_type": "code",
   "execution_count": 53,
   "id": "5784b808-a40e-419a-937e-be1ac8d67805",
   "metadata": {},
   "outputs": [],
   "source": [
    "# Answer ...\n",
    "class Laser:\n",
    "    def does(self):\n",
    "        return 'disintegrate'\n",
    "\n",
    "class Claw:\n",
    "    def does(self):\n",
    "        return 'crush'\n",
    "    \n",
    "class SmartPhone:\n",
    "    def does(self):\n",
    "        return 'ring'\n",
    "    \n",
    "class Robot:\n",
    "    def __init__(self):\n",
    "        self.laser = Laser()\n",
    "        self.claw = Claw()\n",
    "        self.smartphone = SmartPhone()\n",
    "        \n",
    "    def does(self):\n",
    "        print( ' These are all component :\\n',\n",
    "        'laser to ',self.laser.does(),'.\\n claw to ',self.claw.does(),'.\\n smartphone to ',self.smartphone.does() )"
   ]
  },
  {
   "cell_type": "code",
   "execution_count": 54,
   "id": "2b3163ca-a606-4852-9b50-ec3993949143",
   "metadata": {},
   "outputs": [],
   "source": [
    "obje=Robot()"
   ]
  },
  {
   "cell_type": "code",
   "execution_count": 55,
   "id": "fcdb5c78-3168-48b0-8b93-c2ec7d262587",
   "metadata": {},
   "outputs": [
    {
     "name": "stdout",
     "output_type": "stream",
     "text": [
      " These are all component :\n",
      " laser to  disintegrate .\n",
      " claw to  crush .\n",
      " smartphone to  ring\n"
     ]
    }
   ],
   "source": [
    "obje.does()"
   ]
  },
  {
   "cell_type": "code",
   "execution_count": null,
   "id": "209bbff8-d700-4f6e-83bb-5c1943cadf55",
   "metadata": {},
   "outputs": [],
   "source": []
  }
 ],
 "metadata": {
  "kernelspec": {
   "display_name": "Python 3 (ipykernel)",
   "language": "python",
   "name": "python3"
  },
  "language_info": {
   "codemirror_mode": {
    "name": "ipython",
    "version": 3
   },
   "file_extension": ".py",
   "mimetype": "text/x-python",
   "name": "python",
   "nbconvert_exporter": "python",
   "pygments_lexer": "ipython3",
   "version": "3.10.6"
  }
 },
 "nbformat": 4,
 "nbformat_minor": 5
}
