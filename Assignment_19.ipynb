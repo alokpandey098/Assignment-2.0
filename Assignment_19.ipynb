{
  "nbformat": 4,
  "nbformat_minor": 0,
  "metadata": {
    "colab": {
      "provenance": []
    },
    "kernelspec": {
      "name": "python3",
      "display_name": "Python 3"
    },
    "language_info": {
      "name": "python"
    }
  },
  "cells": [
    {
      "cell_type": "markdown",
      "source": [
        "#Question1\n",
        "Create a function that takes a string and returns a string in which each character is repeated\n",
        "once.\n",
        "\n",
        "Examples \n",
        "\n",
        "double_char(&quot;String&quot;) ➞ &quot;SSttrriinngg&quot;\n",
        "\n",
        "double_char(&quot;Hello World!&quot;) ➞ &quot;HHeelllloo WWoorrlldd!!&quot;\n",
        "\n",
        "double_char(&quot;1234!_ &quot;) ➞ &quot;11223344!!__ &quot;"
      ],
      "metadata": {
        "id": "W-aAQs0BYrz2"
      }
    },
    {
      "cell_type": "code",
      "source": [
        "def char(txt):\n",
        "    return ''.join([char*2 for char in txt])\n",
        "\n",
        "print(\"Double character ('string') --> \",char(\"String\"))\n",
        "print(\"Double character ('Hello World') --> \",char(\"Hello World!\"))\n",
        "print(\"Double character ('1234!_') --> \",char(\"1234!_ \"))\n"
      ],
      "metadata": {
        "colab": {
          "base_uri": "https://localhost:8080/"
        },
        "id": "Vx593j-fYc1v",
        "outputId": "5fc2f126-a53f-47b0-bba9-913cced2640a"
      },
      "execution_count": 2,
      "outputs": [
        {
          "output_type": "stream",
          "name": "stdout",
          "text": [
            "Double character ('string') -->  SSttrriinngg\n",
            "Double character ('Hello World') -->  HHeelllloo  WWoorrlldd!!\n",
            "Double character ('1234!_') -->  11223344!!__  \n"
          ]
        }
      ]
    },
    {
      "cell_type": "markdown",
      "source": [
        "#Question2\n",
        "Create a function that reverses a boolean value and returns the string &quot;boolean expected&quot;\n",
        "\n",
        "if another variable type is given.\n",
        "\n",
        "Examples\n",
        "\n",
        "reverse(True) ➞ False\n",
        "\n",
        "reverse(False) ➞ True\n",
        "\n",
        "reverse(0) ➞ &quot;boolean expected&quot;\n",
        "\n",
        "reverse(None) ➞ &quot;boolean expected&quot;"
      ],
      "metadata": {
        "id": "q1I62fSiY62r"
      }
    },
    {
      "cell_type": "code",
      "source": [
        "def reverse(val):\n",
        "    if type(val) != bool:\n",
        "        return \"boolean expected\"\n",
        "    return not val\n",
        "\n",
        "print(\"Reverse of TRUE -->\",reverse(True))\n",
        "print(\"Reverse of FALSE -->\",reverse(False))\n",
        "print(\"Reverse of 0 -->\",reverse(0))\n",
        "print(\"Reverse of Nonee -->\",reverse(None))\n"
      ],
      "metadata": {
        "colab": {
          "base_uri": "https://localhost:8080/"
        },
        "id": "MtAJ2lRVYc4y",
        "outputId": "fe7fdded-0942-4abd-dd28-55039c7be07d"
      },
      "execution_count": 3,
      "outputs": [
        {
          "output_type": "stream",
          "name": "stdout",
          "text": [
            "Reverse of TRUE --> False\n",
            "Reverse of FALSE --> True\n",
            "Reverse of 0 --> boolean expected\n",
            "Reverse of None --> boolean expected\n"
          ]
        }
      ]
    },
    {
      "cell_type": "markdown",
      "source": [
        "#Question3\n",
        "Create a function that returns the thickness (in meters) of a piece of paper after folding it n number of times. The paper starts off with a thickness of 0.5mm.\n",
        "\n",
        "Examples\n",
        "\n",
        "num_layers(1) ➞ &quot;0.001m&quot;\n",
        "# Paper folded once is 1mm (equal to 0.001m)\n",
        "num_layers(4) ➞ &quot;0.008m&quot;\n",
        "# Paper folded 4 times is 8mm (equal to 0.008m)\n",
        "num_layers(21) ➞ &quot;1048.576m&quot;\n",
        "# Paper folded 21 times is 1048576mm (equal to 1048.576m)"
      ],
      "metadata": {
        "id": "y2N2BLBfZGZ0"
      }
    },
    {
      "cell_type": "code",
      "source": [
        "def paper_fold(n):\n",
        "    return f\"{0.5 * (2 ** n) * 0.001}m\"\n",
        "\n",
        "print(\"Thickness of paper --> \",paper_fold(1)) \n",
        "print(\"Thickness of paper --> \",paper_fold(4))\n",
        "print(\"Thickness of paper --> \",paper_fold(21)) \n"
      ],
      "metadata": {
        "colab": {
          "base_uri": "https://localhost:8080/"
        },
        "id": "g6RTLPjCYc77",
        "outputId": "43129a18-c121-4a39-8468-d03ae55c3666"
      },
      "execution_count": 4,
      "outputs": [
        {
          "output_type": "stream",
          "name": "stdout",
          "text": [
            "Thickness of paper -->  0.001m\n",
            "Thickness of paper -->  0.008m\n",
            "Thickness of paper -->  1048.576m\n"
          ]
        }
      ]
    },
    {
      "cell_type": "markdown",
      "source": [
        "#Question4\n",
        "\n",
        "Create a function that takes a single string as argument and returns an ordered list containing\n",
        "the indices of all capital letters in the string.\n",
        "\n",
        "Examples\n",
        "\n",
        "index_of_caps(&quot;eDaBiT&quot;) ➞ [1, 3, 5]\n",
        "\n",
        "index_of_caps(&quot;eQuINoX&quot;) ➞ [1, 3, 4, 6]\n",
        "\n",
        "index_of_caps(&quot;determine&quot;) ➞ []\n",
        "\n",
        "index_of_caps(&quot;STRIKE&quot;) ➞ [0, 1, 2, 3, 4, 5]\n",
        "\n",
        "index_of_caps(&quot;sUn&quot;) ➞ [1]"
      ],
      "metadata": {
        "id": "meqd5L53Zcjs"
      }
    },
    {
      "cell_type": "code",
      "source": [
        "def caps(txt):\n",
        "    return [i for i,c in enumerate(txt) if c.isupper()]\n",
        "\n",
        "print(\"Indices of capital letter in (eDaBiT) --> \",caps(\"eDaBiT\"))\n",
        "print(\"Indices of capital letter in (eQuINoX) --> \",caps(\"eQuINoX\"))\n",
        "print(\"Indices of capital letter in (determine) --> \",caps(\"determine\"))\n",
        "print(\"Indices of capital letter in (STRIKE) --> \",caps(\"STRIKE\"))\n",
        "print(\"Indices of capital letter in (sUn) --> \",caps(\"sUn\"))\n"
      ],
      "metadata": {
        "colab": {
          "base_uri": "https://localhost:8080/"
        },
        "id": "821cXPubYc-5",
        "outputId": "db291725-785c-4635-a992-954084a38cd2"
      },
      "execution_count": 6,
      "outputs": [
        {
          "output_type": "stream",
          "name": "stdout",
          "text": [
            "Indices of capital letter in (eDaBiT) -->  [1, 3, 5]\n",
            "Indices of capital letter in (eQuINoX) -->  [1, 3, 4, 6]\n",
            "Indices of capital letter in (determine) -->  []\n",
            "Indices of capital letter in (STRIKE) -->  [0, 1, 2, 3, 4, 5]\n",
            "Indices of capital letter in (sUn) -->  [1]\n"
          ]
        }
      ]
    },
    {
      "cell_type": "markdown",
      "source": [
        "#Question5\n",
        "Using list comprehensions, create a function that finds all even numbers from 1 to the given\n",
        "number.\n",
        "\n",
        "Examples\n",
        "\n",
        "find_even_nums(8) ➞ [2, 4, 6, 8]\n",
        "\n",
        "find_even_nums(4) ➞ [2, 4]\n",
        "\n",
        "find_even_nums(2) ➞ [2]"
      ],
      "metadata": {
        "id": "CjFoIj54ZvpJ"
      }
    },
    {
      "cell_type": "code",
      "source": [
        "def find_even(n):\n",
        "    return [i for i in range(2,n+1) if i%2==0]\n",
        "\n",
        "print(\"Even number till 8 are --> \",find_even(8)) # [2, 4, 6, 8]\n",
        "print(\"Even number till 4 are --> \",find_even(4)) # [2, 4]\n",
        "print(\"Even number till 2 are --> \",find_even(2)) # [2]\n"
      ],
      "metadata": {
        "colab": {
          "base_uri": "https://localhost:8080/"
        },
        "id": "wLj-dFhdYdB4",
        "outputId": "e914cf62-9c10-4d6e-d3d3-e6f0d414e628"
      },
      "execution_count": 7,
      "outputs": [
        {
          "output_type": "stream",
          "name": "stdout",
          "text": [
            "Even number till 8 are -->  [2, 4, 6, 8]\n",
            "Even number till 4 are -->  [2, 4]\n",
            "Even number till 2 are -->  [2]\n"
          ]
        }
      ]
    }
  ]
}