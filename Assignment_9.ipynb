{
  "nbformat": 4,
  "nbformat_minor": 0,
  "metadata": {
    "colab": {
      "provenance": []
    },
    "kernelspec": {
      "name": "python3",
      "display_name": "Python 3"
    },
    "language_info": {
      "name": "python"
    }
  },
  "cells": [
    {
      "cell_type": "markdown",
      "source": [
        "#Q .1. To what does a relative path refer?\n",
        "\n",
        "#Answer ---\n",
        "A relative path in Python is a path that describes the location of a directory relative to the entry point where you run the Python script."
      ],
      "metadata": {
        "id": "yggCYQRS-r2p"
      }
    },
    {
      "cell_type": "markdown",
      "source": [
        "\n",
        "\n",
        "---\n",
        "\n"
      ],
      "metadata": {
        "id": "WOI7C5Yi-xN6"
      }
    },
    {
      "cell_type": "markdown",
      "source": [
        "#Q .2. What does an absolute path start with your operating system?\n",
        "\n",
        "#Answer ----\n",
        "An absolute path is a path that contains the entire path to the file or directory that you need to access. This path will begin at the home directory of your computer (i.e / or C:\\.) and will end with the file or directory that you wish to access. \n"
      ],
      "metadata": {
        "id": "Y4PxHTlj-yCJ"
      }
    },
    {
      "cell_type": "markdown",
      "source": [
        "\n",
        "\n",
        "---\n",
        "\n"
      ],
      "metadata": {
        "id": "nNxQ3hUS-6lp"
      }
    },
    {
      "cell_type": "markdown",
      "source": [
        "#Q .3. What do the functions os.getcwd() and os.chdir() do?\n",
        "\n",
        "#Answer ----\n",
        "The function os.getcwd() returns the current working directory of a process. while os.chdir() change the current working directory to specified path ."
      ],
      "metadata": {
        "id": "hWoQBkUJ-7-h"
      }
    },
    {
      "cell_type": "markdown",
      "source": [
        "\n",
        "\n",
        "---\n",
        "\n"
      ],
      "metadata": {
        "id": "RwTInqzM_Fii"
      }
    },
    {
      "cell_type": "markdown",
      "source": [
        "#Q .4. What are the . and .. folders?\n",
        "\n",
        "#Answer ----\n",
        "The . is the current directory, while .. signifies the parent directory. It makes things quicker at the command line as well so you don't need to type out full paths."
      ],
      "metadata": {
        "id": "StQzQcuc_GTS"
      }
    },
    {
      "cell_type": "markdown",
      "source": [
        "\n",
        "\n",
        "---\n",
        "\n"
      ],
      "metadata": {
        "id": "GclIpMt7_P8a"
      }
    },
    {
      "cell_type": "markdown",
      "source": [
        "#Q .5. In C:\\bacon\\eggs\\spam.txt, which part is the dir name, and which part is the base name?\n",
        "\n",
        "#Answer ----\n",
        "Here C:\\bacon\\eggs\\ is the directory name ,and spam.txt is the base name ."
      ],
      "metadata": {
        "id": "oqzYY3eb_RIp"
      }
    },
    {
      "cell_type": "markdown",
      "source": [
        "\n",
        "\n",
        "---\n",
        "\n"
      ],
      "metadata": {
        "id": "3M1bsbSG_bxa"
      }
    },
    {
      "cell_type": "markdown",
      "source": [
        "#Q .6. What are the three “mode” arguments that can be passed to the open() function?\n",
        "\n",
        "#Answer  ----\n",
        "There are three \"mode\" arguments that can be used to open () function :\n",
        "\n",
        "'r' is used for read mode .\n",
        "\n",
        "'w' is used for write mode .\n",
        "\n",
        "'a' is used for append mode ."
      ],
      "metadata": {
        "id": "9s089B0n_cnJ"
      }
    },
    {
      "cell_type": "markdown",
      "source": [
        "\n",
        "\n",
        "---\n",
        "\n"
      ],
      "metadata": {
        "id": "eBExpiMo_kNK"
      }
    },
    {
      "cell_type": "markdown",
      "source": [
        "#Q .7. What happens if an existing file is opened in write mode?\n",
        "\n",
        "#Answer ----\n",
        "If an existing file is opened in write mode ,than it will erased and completely overwritten ."
      ],
      "metadata": {
        "id": "U7ylcwe8_lUx"
      }
    },
    {
      "cell_type": "markdown",
      "source": [
        "\n",
        "\n",
        "---\n",
        "\n"
      ],
      "metadata": {
        "id": "u7W7d0_b_trZ"
      }
    },
    {
      "cell_type": "markdown",
      "source": [
        "#Q .8. How do you tell the difference between read() and readlines()?\n",
        "\n",
        "#Answer ----\n",
        "The difference between read() and readlines() is that ,\n",
        "\n",
        "The read() method returns entire contents of the file's as a single string value.While ,\n",
        "\n",
        "The readlines() method returns a list of strings, where each string is a line from the file's contents."
      ],
      "metadata": {
        "id": "X0bDjsdo_uWi"
      }
    },
    {
      "cell_type": "markdown",
      "source": [
        "\n",
        "\n",
        "---\n",
        "\n"
      ],
      "metadata": {
        "id": "_mPE_Mmb_2CJ"
      }
    },
    {
      "cell_type": "markdown",
      "source": [
        "#Q .9. What data structure does a shelf value resemble?\n",
        "\n",
        "#Answer ----\n",
        "A dictionary value. it contains keys and values, along with keys() and values() methods that work similarly to the dictionary methods of the same names."
      ],
      "metadata": {
        "id": "VtM4Y02k_2vB"
      }
    },
    {
      "cell_type": "markdown",
      "source": [
        "\n",
        "\n",
        "---\n",
        "\n",
        "\n",
        "\n",
        "\n"
      ],
      "metadata": {
        "id": "GWubhuyjAADR"
      }
    }
  ]
}
