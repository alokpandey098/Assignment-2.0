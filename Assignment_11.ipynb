{
  "nbformat": 4,
  "nbformat_minor": 0,
  "metadata": {
    "colab": {
      "provenance": []
    },
    "kernelspec": {
      "name": "python3",
      "display_name": "Python 3"
    },
    "language_info": {
      "name": "python"
    }
  },
  "cells": [
    {
      "cell_type": "markdown",
      "source": [
        "#Q 1. Create an assert statement that throws an AssertionError if the variable spam is a negative integer.\n"
      ],
      "metadata": {
        "id": "XM5eOaXbpsvh"
      }
    },
    {
      "cell_type": "code",
      "source": [
        "# Answer ....\n",
        "\n",
        "spam = -65\n",
        "assert spam > 0, 'Spam is a negative integer.'"
      ],
      "metadata": {
        "colab": {
          "base_uri": "https://localhost:8080/",
          "height": 201
        },
        "id": "5net0ZBeqv6F",
        "outputId": "fc3112c5-5614-4354-a7f6-cf14897b124d"
      },
      "execution_count": null,
      "outputs": [
        {
          "output_type": "error",
          "ename": "AssertionError",
          "evalue": "ignored",
          "traceback": [
            "\u001b[0;31m---------------------------------------------------------------------------\u001b[0m",
            "\u001b[0;31mAssertionError\u001b[0m                            Traceback (most recent call last)",
            "\u001b[0;32m<ipython-input-2-5d894020c81f>\u001b[0m in \u001b[0;36m<module>\u001b[0;34m\u001b[0m\n\u001b[1;32m      2\u001b[0m \u001b[0;34m\u001b[0m\u001b[0m\n\u001b[1;32m      3\u001b[0m \u001b[0mspam\u001b[0m \u001b[0;34m=\u001b[0m \u001b[0;34m-\u001b[0m\u001b[0;36m65\u001b[0m\u001b[0;34m\u001b[0m\u001b[0;34m\u001b[0m\u001b[0m\n\u001b[0;32m----> 4\u001b[0;31m \u001b[0;32massert\u001b[0m \u001b[0mspam\u001b[0m \u001b[0;34m>\u001b[0m \u001b[0;36m0\u001b[0m\u001b[0;34m,\u001b[0m \u001b[0;34m'Spam is a negative integer.'\u001b[0m\u001b[0;34m\u001b[0m\u001b[0;34m\u001b[0m\u001b[0m\n\u001b[0m",
            "\u001b[0;31mAssertionError\u001b[0m: Spam is a negative integer."
          ]
        }
      ]
    },
    {
      "cell_type": "markdown",
      "source": [
        "#Q 2.Write an assert statement that triggers an AssertionError if the variables eggs and bacon contain strings that are the same as each other, even if their cases are different (that is, 'hello' and 'hello' are considered the same, and 'goodbye' and 'GOODbye' are also considered the same)."
      ],
      "metadata": {
        "id": "AsiPo4xarQy-"
      }
    },
    {
      "cell_type": "code",
      "execution_count": null,
      "metadata": {
        "colab": {
          "base_uri": "https://localhost:8080/",
          "height": 218
        },
        "id": "zryxwFBIpnpk",
        "outputId": "8ec09d42-1e44-4e56-9b21-4d4ab1e5aabe"
      },
      "outputs": [
        {
          "output_type": "error",
          "ename": "AssertionError",
          "evalue": "ignored",
          "traceback": [
            "\u001b[0;31m---------------------------------------------------------------------------\u001b[0m",
            "\u001b[0;31mAssertionError\u001b[0m                            Traceback (most recent call last)",
            "\u001b[0;32m<ipython-input-3-f03498421591>\u001b[0m in \u001b[0;36m<module>\u001b[0;34m\u001b[0m\n\u001b[1;32m      4\u001b[0m \u001b[0mbacon\u001b[0m\u001b[0;34m=\u001b[0m\u001b[0;34m\"Hello\"\u001b[0m\u001b[0;34m\u001b[0m\u001b[0;34m\u001b[0m\u001b[0m\n\u001b[1;32m      5\u001b[0m \u001b[0;34m\u001b[0m\u001b[0m\n\u001b[0;32m----> 6\u001b[0;31m \u001b[0;32massert\u001b[0m \u001b[0meggs\u001b[0m\u001b[0;34m.\u001b[0m\u001b[0mlower\u001b[0m\u001b[0;34m(\u001b[0m\u001b[0;34m)\u001b[0m \u001b[0;34m!=\u001b[0m \u001b[0mbacon\u001b[0m\u001b[0;34m.\u001b[0m\u001b[0mlower\u001b[0m\u001b[0;34m(\u001b[0m\u001b[0;34m)\u001b[0m\u001b[0;34m,\u001b[0m\u001b[0;34m'both are same'\u001b[0m\u001b[0;34m\u001b[0m\u001b[0;34m\u001b[0m\u001b[0m\n\u001b[0m\u001b[1;32m      7\u001b[0m \u001b[0;32massert\u001b[0m \u001b[0mbacon\u001b[0m\u001b[0;34m.\u001b[0m\u001b[0mupper\u001b[0m\u001b[0;34m(\u001b[0m\u001b[0;34m)\u001b[0m \u001b[0;34m!=\u001b[0m \u001b[0meggs\u001b[0m\u001b[0;34m.\u001b[0m\u001b[0mupper\u001b[0m\u001b[0;34m(\u001b[0m\u001b[0;34m)\u001b[0m\u001b[0;34m,\u001b[0m\u001b[0;34m'both are same'\u001b[0m\u001b[0;34m\u001b[0m\u001b[0;34m\u001b[0m\u001b[0m\n",
            "\u001b[0;31mAssertionError\u001b[0m: both are same"
          ]
        }
      ],
      "source": [
        "# Answer \n",
        "\n",
        "eggs=\"hello\"\n",
        "bacon=\"Hello\"\n",
        "\n",
        "assert eggs.lower() != bacon.lower(),'both are same'\n",
        "assert bacon.upper() != eggs.upper(),'both are same'"
      ]
    },
    {
      "cell_type": "markdown",
      "source": [
        "#Q 3. Create an assert statement that throws an AssertionError every time.\n",
        "\n",
        "Ans-->assert False, 'This assertion always triggers'."
      ],
      "metadata": {
        "id": "u4n4GVSNshAN"
      }
    },
    {
      "cell_type": "code",
      "source": [
        "assert False, 'This assertion always triggers'"
      ],
      "metadata": {
        "colab": {
          "base_uri": "https://localhost:8080/",
          "height": 166
        },
        "id": "0-gwievEsVw1",
        "outputId": "f625b0b8-009f-4a02-99a7-66ce7eddcaf6"
      },
      "execution_count": null,
      "outputs": [
        {
          "output_type": "error",
          "ename": "AssertionError",
          "evalue": "ignored",
          "traceback": [
            "\u001b[0;31m---------------------------------------------------------------------------\u001b[0m",
            "\u001b[0;31mAssertionError\u001b[0m                            Traceback (most recent call last)",
            "\u001b[0;32m<ipython-input-5-005c8a4d1339>\u001b[0m in \u001b[0;36m<module>\u001b[0;34m\u001b[0m\n\u001b[0;32m----> 1\u001b[0;31m \u001b[0;32massert\u001b[0m \u001b[0;32mFalse\u001b[0m\u001b[0;34m,\u001b[0m \u001b[0;34m'This assertion always triggers'\u001b[0m\u001b[0;34m\u001b[0m\u001b[0;34m\u001b[0m\u001b[0m\n\u001b[0m",
            "\u001b[0;31mAssertionError\u001b[0m: This assertion always triggers"
          ]
        }
      ]
    },
    {
      "cell_type": "markdown",
      "source": [
        "#Q 4. What are the two lines that must be present in your software in order to call logging.debug()?"
      ],
      "metadata": {
        "id": "yQwrSjo-zKfC"
      }
    },
    {
      "cell_type": "code",
      "source": [
        "# Ans ---> These two line are must important in order to call logging.debug().\n",
        "\n",
        "import logging\n",
        "logging.basicConfig(level=logging.DEBUG)"
      ],
      "metadata": {
        "id": "SMUP7odEsq0G"
      },
      "execution_count": null,
      "outputs": []
    },
    {
      "cell_type": "markdown",
      "source": [
        "#Q5. What are the two lines that your program must have in order to have logging.debug() send a logging message to a file named programLog.txt?"
      ],
      "metadata": {
        "id": "YURpZrFvzvlC"
      }
    },
    {
      "cell_type": "code",
      "source": [
        "# Ans --->\n",
        "\n",
        "import logging\n",
        "logging.basicConfig(filename=\"programLog.txt\",level=logging.DEBUG)"
      ],
      "metadata": {
        "id": "eWfXhVQAz142"
      },
      "execution_count": null,
      "outputs": []
    },
    {
      "cell_type": "markdown",
      "source": [
        "#Q 6. What are the five levels of logging?\n",
        "\n",
        "# Ans --> These are the five level of logging .\n",
        "1--> DEBUG\n",
        "\n",
        "2--> INFO\n",
        "\n",
        "3--> WARNING\n",
        "\n",
        "4--> ERROR\n",
        "\n",
        "5--> CRITICAL"
      ],
      "metadata": {
        "id": "OR18h8Km0hED"
      }
    },
    {
      "cell_type": "markdown",
      "source": [
        "#Q 7. What line of code would you add to your software to disable all logging messages?\n",
        "\n",
        "#Ans --> To disable all logging massages we use ;\n",
        "logging.disable(logging.CRITICAL)"
      ],
      "metadata": {
        "id": "P9FPVTCU7TKJ"
      }
    },
    {
      "cell_type": "markdown",
      "source": [
        "#Q 8.Why is using logging messages better than using print() to display the same message?\n",
        "\n",
        "#Answer --->\n",
        "You can disable logging messages without removing the logging function calls. You can selectively disable lower-level logging messages. You can create logging messages. Logging messages provides a timestamp."
      ],
      "metadata": {
        "id": "Lm9BeJzI79Np"
      }
    },
    {
      "cell_type": "markdown",
      "source": [
        "#Q 9. What are the differences between the Step Over, Step In, and Step Out buttons in the debugger?\n",
        "\n",
        "#Answer --->\n",
        "This only makes a difference if a line of code calls a function.\n",
        "\n",
        "‘Step over’ moves on to the next line in your program, while calling the function implicitly.\n",
        "\n",
        "‘Step into’ will move to the first line of the called function, and proceeds until it returns control back to the calling function.\n",
        "\n",
        "When it comes to usage, remember this - If the bug in your program is in the calling function, use ‘step over’. If it is in the called function, use ‘step into’."
      ],
      "metadata": {
        "id": "Pp22m7-C87-R"
      }
    },
    {
      "cell_type": "markdown",
      "source": [
        "#Q 10.After you click Continue, when will the debugger stop ?\n",
        "\n",
        "#Answer --->\n",
        "When we click Continue, the debugger will stop when it has reached the end of the program or a line with a breakpoint."
      ],
      "metadata": {
        "id": "aVPE11Id9nrI"
      }
    },
    {
      "cell_type": "markdown",
      "source": [
        "#Q 11. What is the concept of a breakpoint?\n",
        "\n",
        "#Answer --->\n",
        "Breakpoint is a setting on a line of code that causes the debugger to pause when the program execution reaches the line ."
      ],
      "metadata": {
        "id": "AFQMoQyR95H5"
      }
    },
    {
      "cell_type": "code",
      "source": [
        "\n"
      ],
      "metadata": {
        "id": "uaDtZJrW0kgC"
      },
      "execution_count": null,
      "outputs": []
    }
  ]
}