{
 "cells": [
  {
   "cell_type": "markdown",
   "id": "a354efbd-1054-49a8-834e-d7895c9d972f",
   "metadata": {},
   "source": [
    "Q 1.What is the relationship between def statements and lambda expressions ?\n",
    "\n",
    "Answer...\n",
    "\n",
    "* Keyword def that marks the start of the function header. A function name to uniquely identify the function.\n",
    "  Function naming follows the same rules of writing identifiers in Python.\n",
    "\n",
    "* Lambdas are one-line methods without a name or we can say anonymous Func\n",
    "  They work practically the same as any other method in Python Lambdas differ from normal Python methods because   they can have only one expression, can't contain any statements and their return type is a function object"
   ]
  },
  {
   "cell_type": "markdown",
   "id": "7bbcce38-1f8f-41b8-954b-3d03f584697f",
   "metadata": {},
   "source": [
    "Question -2\n",
    "\n",
    "What is the benefit of lambda?\n",
    "\n",
    "Answer -\n",
    "\n",
    "The lambda keyword in Python provides a shortcut for declaring small anonymous functions. Lambda functions behave just like regular functions declared with the def keyword. They can be used whenever function objects are required."
   ]
  },
  {
   "cell_type": "markdown",
   "id": "7277d134-407c-4016-a75f-dd9955d5fa7d",
   "metadata": {},
   "source": [
    "Question -3\n",
    "\n",
    "Compare and contrast map, filter, and reduce.\n",
    "\n",
    "Answer -\n",
    "\n",
    "* Map operation takes a mapping function and a vector of data as arguments and returns a new vector, which is the result of applying the mapping function on each element of the vector independently. The returned value from map() (map object) then can be passed to functions like list() (to create a list), set() (to create a set) and so on.\n",
    "\n",
    "* The filter function operates on a list and returns a subset of that list after applying the filtering rule.\n",
    "\n",
    "* The reduce function will transform a given list into a single value by applying a given function continuously to all the elements. It basically keeps operating on pairs of elements until there are no more elements left."
   ]
  },
  {
   "cell_type": "code",
   "execution_count": 3,
   "id": "144dca72-66bf-46b1-a578-1dde9c23c855",
   "metadata": {},
   "outputs": [
    {
     "name": "stdout",
     "output_type": "stream",
     "text": [
      "True\n",
      "False\n",
      "False\n",
      "False\n",
      "False\n"
     ]
    }
   ],
   "source": [
    "# Map function..\n",
    "\n",
    "Animal = [\"Anteater\", \"Dog\", \"Elephant\", \"Giraffe\", \"Cat\"]\n",
    "map_object = map(lambda s: s[0] == \"A\", Animal)\n",
    "\n",
    "\n",
    "for i in map_object:\n",
    "    print(i)"
   ]
  },
  {
   "cell_type": "code",
   "execution_count": 2,
   "id": "bd6f0473-da8d-4af7-817a-bacc8e3a7eab",
   "metadata": {},
   "outputs": [
    {
     "name": "stdout",
     "output_type": "stream",
     "text": [
      "Lion\n"
     ]
    }
   ],
   "source": [
    "# filter function ...\n",
    "Animal = [\"Lion\", \"pug\", \"Monkey\", \"Dog\", \"Cat\"]\n",
    "filter_object = filter(lambda s: s[0] == \"L\", Animal)\n",
    "\n",
    "for i in filter_object:\n",
    "    print(i)"
   ]
  },
  {
   "cell_type": "code",
   "execution_count": 3,
   "id": "1af6694e-fc59-4b29-b116-35673e732426",
   "metadata": {},
   "outputs": [
    {
     "name": "stdout",
     "output_type": "stream",
     "text": [
      "18\n",
      "With an initial value: 28\n"
     ]
    }
   ],
   "source": [
    "# reduce function ...\n",
    "from functools import reduce\n",
    "\n",
    "list = [4, 3, 8, 3]\n",
    "print(reduce(lambda x, y: x + y, list))\n",
    "print(\"With an initial value: \" + str(reduce(lambda x, y: x + y, list, 10)))"
   ]
  },
  {
   "cell_type": "markdown",
   "id": "70d5b460-1a6d-4f02-b149-154f319db5ea",
   "metadata": {},
   "source": [
    "Question -4\n",
    "\n",
    "What are function annotations, and how are they used?\n",
    "\n",
    "Answer -\n",
    "\n",
    "* Function annotations are completely optional both for parameters and return value. Function annotations provide a way of associating various parts of a function with arbitrary python expressions at compile time.\n",
    "\n",
    "* Syntax of function annotations for simple parameters and for excess parameters respectively:\n",
    "\n",
    "* def foobar(a: expression, b: expression = 5):\n",
    "\n",
    "* def foobar(args: expression, kwargs: expression):"
   ]
  },
  {
   "cell_type": "markdown",
   "id": "8d0da833-3a4c-4889-a30f-a56677df2997",
   "metadata": {},
   "source": [
    "Question -5\n",
    "\n",
    "What are recursive functions, and how are they used?\n",
    "\n",
    "Answer -\n",
    "\n",
    "* A recursive function is a function defined in terms of itself via self-referential expressions. This means that the function will continue to call itself and repeat its behavior until some condition is met to return a result.\n",
    "\n",
    "* In this example, tri_recursion() is a function that we have defined to call itself (\"recurse\"). We use the k variable as the data, which decrements (-1) every time we recurse. The recursion ends when the condition is not greater than 0 (i.e. when it is 0)."
   ]
  },
  {
   "cell_type": "code",
   "execution_count": 5,
   "id": "146a51cc-7805-483f-90bd-ab23a83ee811",
   "metadata": {},
   "outputs": [
    {
     "name": "stdout",
     "output_type": "stream",
     "text": [
      "Results of recursion example ;\n",
      "1\n",
      "3\n",
      "6\n",
      "10\n",
      "15\n",
      "21\n"
     ]
    },
    {
     "data": {
      "text/plain": [
       "21"
      ]
     },
     "execution_count": 5,
     "metadata": {},
     "output_type": "execute_result"
    }
   ],
   "source": [
    "def recur(k):\n",
    "  if(k>0):\n",
    "    result = k+recur(k-1)\n",
    "    print(result)\n",
    "  else:\n",
    "    result = 0\n",
    "  return result\n",
    "\n",
    "print(\"Results of recursion example ;\")\n",
    "recur(6)"
   ]
  },
  {
   "cell_type": "markdown",
   "id": "0f9bea56-55f4-4a63-a484-10e882b4e6b2",
   "metadata": {},
   "source": [
    "Question -6\n",
    "\n",
    "What are some general design guidelines for coding functions?\n",
    "\n",
    "Answer -\n",
    "\n",
    "  * Use 4-space indentation and no tabs.\n",
    "\n",
    "  * Use docstrings\n",
    "\n",
    "  * Wrap lines so that they don’t exceed 79 characters\n",
    "\n",
    "  * Use of regular and updated comments are valuable to both the coders and users"
   ]
  },
  {
   "cell_type": "markdown",
   "id": "b0a6ac65-77c3-4d41-abd3-fa052ad3c565",
   "metadata": {},
   "source": [
    "Question -7\n",
    "\n",
    "Name three or more ways that functions can communicate results to a caller.\n",
    "\n",
    "Answer -\n",
    "\n",
    "  * To call a function, we specify the function name with the round brackets.\n",
    "\n",
    "  * Use of return keyword inside function which returns the results to the caller.\n",
    "\n",
    "  * Use of print statement inside function which prints the results to the caller."
   ]
  }
 ],
 "metadata": {
  "kernelspec": {
   "display_name": "Python 3 (ipykernel)",
   "language": "python",
   "name": "python3"
  },
  "language_info": {
   "codemirror_mode": {
    "name": "ipython",
    "version": 3
   },
   "file_extension": ".py",
   "mimetype": "text/x-python",
   "name": "python",
   "nbconvert_exporter": "python",
   "pygments_lexer": "ipython3",
   "version": "3.10.6"
  }
 },
 "nbformat": 4,
 "nbformat_minor": 5
}
