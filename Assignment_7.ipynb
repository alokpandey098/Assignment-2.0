{
  "nbformat": 4,
  "nbformat_minor": 0,
  "metadata": {
    "colab": {
      "provenance": []
    },
    "kernelspec": {
      "name": "python3",
      "display_name": "Python 3"
    },
    "language_info": {
      "name": "python"
    }
  },
  "cells": [
    {
      "cell_type": "markdown",
      "source": [
        "#Q .1. What is the name of the feature responsible for generating Regex objects?\n",
        "\n",
        "#Answer ---\n",
        "re.compile() function is used for genereting Regex object ."
      ],
      "metadata": {
        "id": "sOgNG_GuMkKF"
      }
    },
    {
      "cell_type": "markdown",
      "source": [
        "\n",
        "\n",
        "---\n",
        "\n"
      ],
      "metadata": {
        "id": "FdeJ5XtSNgX7"
      }
    },
    {
      "cell_type": "markdown",
      "source": [
        "#Q .2. Why do raw strings often appear in Regex objects?\n",
        "\n",
        "#Answer ---\n",
        "Raw strings are appear so that backslashes do not have to be escaped."
      ],
      "metadata": {
        "id": "H3aWvNlrNhI6"
      }
    },
    {
      "cell_type": "markdown",
      "source": [
        "\n",
        "\n",
        "---\n",
        "\n"
      ],
      "metadata": {
        "id": "VebabzWgODrk"
      }
    },
    {
      "cell_type": "markdown",
      "source": [
        "#Q .3. What is the return value of the search() method?\n",
        "\n",
        "\n",
        "#Answer ---\n",
        "Search() method return the matching values."
      ],
      "metadata": {
        "id": "HGH3zDnmOE-q"
      }
    },
    {
      "cell_type": "markdown",
      "source": [
        "\n",
        "\n",
        "---\n",
        "\n"
      ],
      "metadata": {
        "id": "LvxCMb78OZ3T"
      }
    },
    {
      "cell_type": "markdown",
      "source": [
        "#Q .4. From a Match item, how do you get the actual strings that match the pattern?\n",
        "\n",
        "#Answer ---\n",
        "By using group() method we get the actual string that match the pattern . "
      ],
      "metadata": {
        "id": "mNe1RW3hObBD"
      }
    },
    {
      "cell_type": "markdown",
      "source": [
        "\n",
        "\n",
        "---\n",
        "\n"
      ],
      "metadata": {
        "id": "dryAY18MPLtz"
      }
    },
    {
      "cell_type": "markdown",
      "source": [
        "#Q .5. In the regex which created from the r'(\\d\\d\\d)-(\\d\\d\\d-\\d\\d\\d\\d)', what does group zero cover? Group 2? Group 1?\n",
        "\n",
        "#Answer ---\n",
        "Here group zero is entire match, while group 1 cover the first set of paranthesis and group 2 cover the second set of the paranthesis ."
      ],
      "metadata": {
        "id": "RUbU6QoQPMfL"
      }
    },
    {
      "cell_type": "markdown",
      "source": [
        "\n",
        "\n",
        "---\n",
        "\n"
      ],
      "metadata": {
        "id": "nvty3mjMQWEU"
      }
    },
    {
      "cell_type": "markdown",
      "source": [
        "#Q .6. In standard expression syntax, parentheses and intervals have distinct meanings. How can you tell a regex that you want it to fit real parentheses and periods?\n",
        "\n",
        "#Answer ---\n",
        "As we know that paranthesis and period can be escaped by using backslash .
        "\n",
        "\n"
      ],
      "metadata": {
        "id": "80bolivjQXQT"
      }
    },
    {
      "cell_type": "markdown",
      "source": [
        "\n",
        "\n",
        "---\n",
        "\n"
      ],
      "metadata": {
        "id": "vVmLIkeqRnKk"
      }
    },
    {
      "cell_type": "markdown",
      "source": [
        "#Q .7. The findall() method returns a string list or a list of string tuples. What causes it to return one of the two options?\n",
        "\n",
        "#Answer ----\n",
        "The findall() method returns a string list while Regex has no group ,and when Regex has groups then it returns list of tuples of string ."
      ],
      "metadata": {
        "id": "VZxmWJiWRoKL"
      }
    },
    {
      "cell_type": "markdown",
      "source": [
        "\n",
        "\n",
        "---\n",
        "\n"
      ],
      "metadata": {
        "id": "FZuCDFQnSle1"
      }
    },
    {
      "cell_type": "markdown",
      "source": [
        "#Q .8. In standard expressions, what does the | character mean?\n",
        "\n",
        "#Answer ---\n",
        "In standard expressions ,the | character signifies the matching 'either ,or ' between two groups ."
      ],
      "metadata": {
        "id": "HFjkmyZsSmkb"
      }
    },
    {
      "cell_type": "markdown",
      "source": [
        "\n",
        "\n",
        "---\n",
        "\n"
      ],
      "metadata": {
        "id": "MLYhtOVIThAb"
      }
    },
    {
      "cell_type": "markdown",
      "source": [
        "#Q .9. In regular expressions, what does the character stand for?\n",
        "\n",
        "#Answer ---\n",
        "Each character in regular expression is either a metacharacter, having a special meaning, or a regular character that has a literal meaning."
      ],
      "metadata": {
        "id": "uLtsMsVqTh4L"
      }
    },
    {
      "cell_type": "markdown",
      "source": [],
      "metadata": {
        "id": "qGQ2XLjsZFec"
      }
    },
    {
      "cell_type": "markdown",
      "source": [
        "\n",
        "\n",
        "---\n",
        "\n"
      ],
      "metadata": {
        "id": "eGZC_Uk3UrCU"
      }
    },
    {
      "cell_type": "markdown",
      "source": [
        "#Q .10.In regular expressions, what is the difference between the + and * characters?\n",
        "\n",
        "#Answer ---\n",
        "In a regular expression ,the + sign matches one or more values while the * sign matches zero or more values ."
      ],
      "metadata": {
        "id": "y-VnlSAQUsHj"
      }
    },
    {
      "cell_type": "markdown",
      "source": [
        "\n",
        "\n",
        "---\n",
        "\n"
      ],
      "metadata": {
        "id": "HelWlT0_U0ub"
      }
    },
    {
      "cell_type": "markdown",
      "source": [
        "#Q .11. What is the difference between {4} and {4,5} in regular expression?\n",
        "\n",
        "#Answer ---\n",
        "The {4} matches exactly three instances of the preceding group. The {4,5} matches between three and five instances."
      ],
      "metadata": {
        "id": "FJRNJ_bYU137"
      }
    },
    {
      "cell_type": "markdown",
      "source": [
        "\n",
        "\n",
        "---\n",
        "\n"
      ],
      "metadata": {
        "id": "zyp4WkGBVIYb"
      }
    },
    {
      "cell_type": "markdown",
      "source": [
        "#Q .12. What do you mean by the \\d, \\w, and \\s shorthand character classes signify in regular expressions?\n",
        "\n",
        "#Answer ---\n",
        "The \\d shorthand character classes match a single digit ,\\w match a word and \\s for space character .\n"
      ],
      "metadata": {
        "id": "HnKGNOXiVJgr"
      }
    },
    {
      "cell_type": "markdown",
      "source": [
        "\n",
        "\n",
        "---\n",
        "\n"
      ],
      "metadata": {
        "id": "y9o37Yg0VS-6"
      }
    },
    {
      "cell_type": "markdown",
      "source": [
        "#Q .13. What do means by \\D, \\W, and \\S shorthand character classes signify in regular expressions?\n",
        "\n",
        "#Answer ----\n",
        "The \\D, \\W, and \\S shorthand character classes match a single character that is not a digit, word, or space character, respectively."
      ],
      "metadata": {
        "id": "FBjQyfnGVUMr"
      }
    },
    {
      "cell_type": "markdown",
      "source": [
        "\n",
        "\n",
        "---\n",
        "\n"
      ],
      "metadata": {
        "id": "VKODyioAVaRE"
      }
    },
    {
      "cell_type": "markdown",
      "source": [
        "#Q .14. What is the difference between .*? and .*?\n",
        "\n",
        "#Answer ----\n",
        "The difference between . and .? is that, . perform greedy match while .? perform noogreedy match .\n"
      ],
      "metadata": {
        "id": "tD8h_kiCVbSa"
      }
    },
    {
      "cell_type": "markdown",
      "source": [
        "\n",
        "\n",
        "---\n",
        "\n"
      ],
      "metadata": {
        "id": "B-HMPYpiVibr"
      }
    },
    {
      "cell_type": "markdown",
      "source": [
        "#Q .15. What is the syntax for matching both numbers and lowercase letters with a character class?\n",
        "\n",
        "#Answer ----\n",
        "Either [0-9a-z] or [a-z0-9]  is the syntax for matching both numbers and lowercase letters with a character class .\n"
      ],
      "metadata": {
        "id": "Dk7hkZX-Vjhr"
      }
    },
    {
      "cell_type": "markdown",
      "source": [
        "\n",
        "\n",
        "---\n",
        "\n"
      ],
      "metadata": {
        "id": "JqO6MVSKVprL"
      }
    },
    {
      "cell_type": "markdown",
      "source": [
        "#Q .16. What is the procedure for making a normal expression in regax case insensitive?\n",
        "\n",
        "#Answer ---\n",
        "For making a normal expression in regex case insensative, we use re.IGNORECASE. This flag allows for case-insensative matching of the regax with the given string .\n",
        "\n"
      ],
      "metadata": {
        "id": "0n7gkfCFVqaq"
      }
    },
    {
      "cell_type": "markdown",
      "source": [
        "\n",
        "\n",
        "---\n",
        "\n"
      ],
      "metadata": {
        "id": "f_ANLw3ZV1_y"
      }
    },
    {
      "cell_type": "markdown",
      "source": [
        "#Q .17. What does the . character normally match? What does it match if re.DOTALL is passed as 2nd argument in re.compile()?\n",
        "\n",
        "#Answer ----\n",
        "\n",
        "\n",
        "\n",
        "The . character normally matches any character except the newline character. If re.DOTALL is passed as the second argument to re.compile(), then the dot will also match newline characters."
      ],
      "metadata": {
        "id": "SQmkxh26V2z6"
      }
    },
    {
      "cell_type": "markdown",
      "source": [
        "\n",
        "\n",
        "---\n",
        "\n"
      ],
      "metadata": {
        "id": "nqc0VovwWBpL"
      }
    },
    {
      "cell_type": "markdown",
      "source": [
        "#Q .18. If numReg = re.compile(r'\\d+'), what will numRegex.sub('X', '11 drummers, 10 pipers, five rings, 4 hen') return?\n",
        "\n",
        "#Answer ---\n",
        "It returns ,'X drummers, X pipers, five rings, X hens'\n"
      ],
      "metadata": {
        "id": "gcsRX2eKWCxD"
      }
    },
    {
      "cell_type": "markdown",
      "source": [
        "\n",
        "\n",
        "---\n",
        "\n"
      ],
      "metadata": {
        "id": "M7zzpPY0WMQT"
      }
    },
    {
      "cell_type": "markdown",
      "source": [
        "#Q .19. What does passing re.VERBOSE as the 2nd argument to re.compile() allow to do?\n",
        "\n",
        "#Answer ----\n",
        "When we passing re.VERBOSE as the 2nd argument to re.compile() ,then it allow we to add whitespace and comments to the string passed to re.compile()."
      ],
      "metadata": {
        "id": "Fv1r6oURWNKb"
      }
    },
    {
      "cell_type": "markdown",
      "source": [
        "\n",
        "\n",
        "---\n",
        "\n"
      ],
      "metadata": {
        "id": "Q3ur_YQOWWm6"
      }
    },
    {
      "cell_type": "markdown",
      "source": [
        "#Q .20. How would you write a regex that match a number with comma for every three digits? It must match the given following:\n",
        "'42'\n",
        "\n",
        "'1,234'\n",
        "\n",
        "'6,368,745'\n",
        "\n",
        "#Answer ----\n",
        "For writing a regex we use re.compile(r'^\\d{1,3}(,\\d{3})*$') which create this regex,but other regex string can produce a similar regular expression.\n",
        "\n"
      ],
      "metadata": {
        "id": "AzmuCQ8tWXjL"
      }
    },
    {
      "cell_type": "markdown",
      "source": [
        "\n",
        "\n",
        "---\n",
        "\n"
      ],
      "metadata": {
        "id": "9Usd2FzHWi_i"
      }
    },
    {
      "cell_type": "code",
      "execution_count": null,
      "metadata": {
        "id": "x2K2BI2dMXjw"
      },
      "outputs": [],
      "source": []
    }
  ]
}
