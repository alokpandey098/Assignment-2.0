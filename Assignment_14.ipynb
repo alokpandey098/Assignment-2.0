{
  "nbformat": 4,
  "nbformat_minor": 0,
  "metadata": {
    "colab": {
      "provenance": []
    },
    "kernelspec": {
      "name": "python3",
      "display_name": "Python 3"
    },
    "language_info": {
      "name": "python"
    }
  },
  "cells": [
    {
      "cell_type": "markdown",
      "source": [
        "# Question 1:\n",
        "Define a class with a generator which can iterate the numbers, which are divisible by 7, between a given range 0 and n."
      ],
      "metadata": {
        "id": "Ndbg4Pt4duCz"
      }
    },
    {
      "cell_type": "code",
      "source": [
        "class check_division:\n",
        "    def __init__(self,n):\n",
        "        self.n = n\n",
        "\n",
        "    def generator(self):\n",
        "        for i in range(self.n):\n",
        "            if i%7==0:\n",
        "                yield i\n",
        "\n",
        "d = check_division(100)\n",
        "print(\"These are the number divisival by 7 :\")\n",
        "for i in d.generator():\n",
        "    print(i)\n"
      ],
      "metadata": {
        "colab": {
          "base_uri": "https://localhost:8080/"
        },
        "id": "1B6zPP-zdyKW",
        "outputId": "6fd8ca07-0c31-4753-c1da-79b7a0b39b7d"
      },
      "execution_count": 4,
      "outputs": [
        {
          "output_type": "stream",
          "name": "stdout",
          "text": [
            "These are the number divisival by 7 :\n",
            "0\n",
            "7\n",
            "14\n",
            "21\n",
            "28\n",
            "35\n",
            "42\n",
            "49\n",
            "56\n",
            "63\n",
            "70\n",
            "77\n",
            "84\n",
            "91\n",
            "98\n"
          ]
        }
      ]
    },
    {
      "cell_type": "markdown",
      "source": [
        "# Question 2:\n",
        "Write a program to compute the frequency of the words from the input. The output should output after sorting the key alphanumerically.\n",
        "\n",
        "Suppose the following input is supplied to the program:\n",
        "\n",
        "New to Python or choosing between Python 2 and Python 3? Read Python 2 or\n",
        "Python 3.\n",
        "\n",
        "Then, the output should be:\n",
        "\n",
        "2:2\n",
        "\n",
        "3.:1\n",
        "\n",
        "3?:1\n",
        "\n",
        "New:1\n",
        "\n",
        "Python:5\n",
        "\n",
        "Read:1\n",
        "\n",
        "and:1\n",
        "\n",
        "between:1\n",
        "\n",
        "choosing:1\n",
        "\n",
        "or:2\n",
        "\n",
        "to:1"
      ],
      "metadata": {
        "id": "DMVq7OGod2l7"
      }
    },
    {
      "cell_type": "code",
      "source": [
        "def freq(sentence):\n",
        "    words = sentence.split()\n",
        "    freq1 = {}\n",
        "    for word in words:\n",
        "        if word in freq1:\n",
        "            freq1[word] += 1\n",
        "        else:\n",
        "            freq1[word] = 1\n",
        "\n",
        "    sorted_keys = sorted(freq1.keys())\n",
        "\n",
        "    for key in sorted_keys:\n",
        "        print(f\"{key}:{freq1[key]}\")\n",
        "print(\"Frequency of the words from the input are : \")\n",
        "freq(\"New to Python or choosing between Python 2 and Python 3? Read Python 2 or Python 3.\")"
      ],
      "metadata": {
        "colab": {
          "base_uri": "https://localhost:8080/"
        },
        "id": "p_SCiHX4eK-N",
        "outputId": "f8500110-57ad-467c-f66d-e047f2bf712d"
      },
      "execution_count": 7,
      "outputs": [
        {
          "output_type": "stream",
          "name": "stdout",
          "text": [
            "Frequency of the words from the input are : \n",
            "2:2\n",
            "3.:1\n",
            "3?:1\n",
            "New:1\n",
            "Python:5\n",
            "Read:1\n",
            "and:1\n",
            "between:1\n",
            "choosing:1\n",
            "or:2\n",
            "to:1\n"
          ]
        }
      ]
    },
    {
      "cell_type": "markdown",
      "source": [
        "# Question 3:\n",
        "\n",
        "Define a class Person and its two child classes:\n",
        "\n",
        "Male and Female.\n",
        "\n",
        "All classes have a\n",
        "method &quot;getGender&quot; which can print &quot;Male&quot; for Male class and &quot;Female&quot; for Female\n",
        "class.\n"
      ],
      "metadata": {
        "id": "l8m-eC-TeOwT"
      }
    },
    {
      "cell_type": "code",
      "source": [
        "class Person:\n",
        "    def getGender(self):\n",
        "        pass\n",
        "\n",
        "class Male(Person):\n",
        "    def getGender(self):\n",
        "        print(\"Male\")\n",
        "\n",
        "class Female(Person):\n",
        "    def getGender(self):\n",
        "        print(\"Female\")\n"
      ],
      "metadata": {
        "id": "ATBACrGzeccf"
      },
      "execution_count": 8,
      "outputs": []
    },
    {
      "cell_type": "markdown",
      "source": [
        "# Question 4:\n",
        "Please write a program to generate all sentences where subject is in [&quot;I&quot;, &quot;You&quot;] and\n",
        "verb is in [&quot;Play&quot;, &quot;Love&quot;] and the object is in [&quot;Hockey&quot;,&quot;Football&quot;].\n"
      ],
      "metadata": {
        "id": "NXYAneJPeje8"
      }
    },
    {
      "cell_type": "code",
      "source": [
        "subjects=[\"I\", \"You\"]\n",
        "verbs=[\"Play\", \"Love\"]\n",
        "objects=[\"Hockey\",\"Football\"]\n",
        "\n",
        "for sub in subjects:\n",
        "    for verb in verbs:\n",
        "        for obj in objects:\n",
        "            print(f\"{sub} {verb} {obj}.\")\n"
      ],
      "metadata": {
        "colab": {
          "base_uri": "https://localhost:8080/"
        },
        "id": "IqW3bBjseoYO",
        "outputId": "6fe737de-5b0d-4594-acc7-1022d45e63be"
      },
      "execution_count": 11,
      "outputs": [
        {
          "output_type": "stream",
          "name": "stdout",
          "text": [
            "I Play Hockey.\n",
            "I Play Football.\n",
            "I Love Hockey.\n",
            "I Love Football.\n",
            "You Play Hockey.\n",
            "You Play Football.\n",
            "You Love Hockey.\n",
            "You Love Football.\n"
          ]
        }
      ]
    },
    {
      "cell_type": "markdown",
      "source": [
        "# Question 5:\n",
        "Please write a program to compress and decompress the string &quot;hello world!hello\n",
        "world!hello world!hello world!&quot;."
      ],
      "metadata": {
        "id": "-UJ3EMR8euyB"
      }
    },
    {
      "cell_type": "code",
      "source": [
        "import zlib\n",
        "\n",
        "def compress_str(string):\n",
        "    cmprssd = zlib.compress(string.encode())\n",
        "    return cmprssd\n",
        "\n",
        "def decompress_str(compressed):\n",
        "    decmprssd = zlib.decompress(compressed).decode()\n",
        "    return decmprssd\n",
        "\n",
        "original_string = \"hello world!hello world!hello world!hello world!\"\n",
        "compressed = compress_str(original_string)\n",
        "decmprssd = decompress_str(compressed)\n",
        "\n",
        "print(\"Original string :\", original_string)\n",
        "print(\"\\nCompressed string :\", compressed)\n",
        "print(\"\\nDecompressed string :\", decmprssd)\n"
      ],
      "metadata": {
        "colab": {
          "base_uri": "https://localhost:8080/"
        },
        "id": "zm2hRKUSexPB",
        "outputId": "f236d9a2-4eca-42b6-bb9c-0945902155d2"
      },
      "execution_count": 15,
      "outputs": [
        {
          "output_type": "stream",
          "name": "stdout",
          "text": [
            "Original string : hello world!hello world!hello world!hello world!\n",
            "\n",
            "Compressed string : b'x\\x9c\\xcbH\\xcd\\xc9\\xc9W(\\xcf/\\xcaIQ\\xcc \\x82\\r\\x00\\xbd[\\x11\\xf5'\n",
            "\n",
            "Decompressed string : hello world!hello world!hello world!hello world!\n"
          ]
        }
      ]
    },
    {
      "cell_type": "markdown",
      "source": [
        "#Question 6:\n",
        "Please write a binary search function which searches an item in a sorted list. The\n",
        "function should return the index of element to be searched in the list."
      ],
      "metadata": {
        "id": "u4R1Bdzve2Zw"
      }
    },
    {
      "cell_type": "code",
      "source": [
        "def bin_search(arr, x):\n",
        "    low = 0\n",
        "    high = len(arr) - 1\n",
        "    mid = 0\n",
        "\n",
        "    while low <= high:\n",
        "        mid = (high + low) // 2\n",
        "        if arr[mid] < x:\n",
        "            low = mid + 1\n",
        "        elif arr[mid] > x:\n",
        "            high = mid - 1\n",
        "        else:\n",
        "            return mid\n",
        "\n",
        "    return -1\n",
        "\n",
        "arr = [1, 2, 3, 4, 5, 6, 7, 8, 9]\n",
        "x = 6\n",
        "result = bin_search(arr, x)\n",
        "if result != -1:\n",
        "    print(f\"Element is present at index {result}\")\n",
        "else:\n",
        "    print(\"Element is not present in array\")\n"
      ],
      "metadata": {
        "colab": {
          "base_uri": "https://localhost:8080/"
        },
        "id": "ECs_DNQCfDG-",
        "outputId": "3b7947cd-f725-4f4b-812c-019213a96df5"
      },
      "execution_count": 16,
      "outputs": [
        {
          "output_type": "stream",
          "name": "stdout",
          "text": [
            "Element is present at index 5\n"
          ]
        }
      ]
    }
  ]
}