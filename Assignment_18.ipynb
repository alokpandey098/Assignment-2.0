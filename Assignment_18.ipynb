{
  "nbformat": 4,
  "nbformat_minor": 0,
  "metadata": {
    "colab": {
      "provenance": []
    },
    "kernelspec": {
      "name": "python3",
      "display_name": "Python 3"
    },
    "language_info": {
      "name": "python"
    }
  },
  "cells": [
    {
      "cell_type": "markdown",
      "source": [
        "#Question 1\n",
        "Create a function that takes a list of non-negative integers and strings and return a new list without the strings.\n",
        "\n",
        "Examples :\n",
        "\n",
        "filter_list([1, 2, &quot;a&quot;, &quot;b&quot;]) ➞ [1, 2]\n",
        "\n",
        "filter_list([1, &quot;a&quot;, &quot;b&quot;, 0, 15]) ➞ [1, 0, 15]\n",
        "\n",
        "filter_list([1, 2, &quot;aasf&quot;, &quot;1&quot;, &quot;123&quot;, 123]) ➞ [1, 2, 123]\n"
      ],
      "metadata": {
        "id": "xbmT6ks6wqJR"
      }
    },
    {
      "cell_type": "code",
      "source": [
        "def fltr_lst(lst):\n",
        "    return [x for x in lst if type(x) == int]\n",
        "\n",
        "print(\"Filter list -->\",fltr_lst([1, 2, \"a\", \"b\"]))\n",
        "print(\"Filter list -->\",fltr_lst([1, \"a\", \"b\", 0, 15]))\n",
        "print(\"Filter list -->\",fltr_lst([1, 2, \"aasf\", \"1\", \"123\", 123]))"
      ],
      "metadata": {
        "colab": {
          "base_uri": "https://localhost:8080/"
        },
        "id": "ZKDoTMbtwM0k",
        "outputId": "cac21199-6a94-48f0-e33d-51bd8039e246"
      },
      "execution_count": null,
      "outputs": [
        {
          "output_type": "stream",
          "name": "stdout",
          "text": [
            "Filter list --> [1, 2]\n",
            "Filter list --> [1, 0, 15]\n",
            "Filter list --> [1, 2, 123]\n"
          ]
        }
      ]
    },
    {
      "cell_type": "markdown",
      "source": [
        "#Question 2\n",
        "The &quot;Reverser&quot; takes a string as input and returns that string in reverse order, with the opposite case.\n",
        "\n",
        "Examples :\n",
        "\n",
        "reverse(&quot;Hello World&quot;) ➞ &quot;DLROw OLLEh&quot;\n",
        "\n",
        "reverse(&quot;ReVeRsE&quot;) ➞ &quot;eSrEvEr&quot;\n",
        "\n",
        "reverse(&quot;Radar&quot;) ➞ &quot;RADAr&quot;"
      ],
      "metadata": {
        "id": "0MXMYg-tw-jw"
      }
    },
    {
      "cell_type": "code",
      "source": [
        "def rev(string):\n",
        "    return string[::-1].swapcase()\n",
        "\n",
        "print(\"Reversed string --> \",rev(\"Hello World\"))\n",
        "print(\"Reversed string --> \",rev(\"ReVeRsE\"))\n",
        "print(\"Reversed string --> \",rev(\"Radar\"))\n"
      ],
      "metadata": {
        "colab": {
          "base_uri": "https://localhost:8080/"
        },
        "id": "MVmmZ1iNwM3y",
        "outputId": "56a292ca-c514-4fce-e430-652fd63da59b"
      },
      "execution_count": null,
      "outputs": [
        {
          "output_type": "stream",
          "name": "stdout",
          "text": [
            "Reversed string -->  DLROw OLLEh\n",
            "Reversed string -->  eSrEvEr\n",
            "Reversed string -->  RADAr\n"
          ]
        }
      ]
    },
    {
      "cell_type": "markdown",
      "source": [
        "#Question 3\n",
        "You can assign variables from lists like this:\n",
        "\n",
        "lst = [1, 2, 3, 4, 5, 6]\n",
        "\n",
        "first = lst[0]\n",
        "\n",
        "middle = lst[1:-1]\n",
        "\n",
        "last = lst[-1]\n",
        "\n",
        "print(first) ➞ outputs 1\n",
        "\n",
        "print(middle) ➞ outputs [2, 3, 4, 5]\n",
        "\n",
        "print(last) ➞ outputs 6\n",
        "\n",
        "With Python 3, you can assign variables from lists in a much more succinct way. Create variables first, middle and last from the given list using destructuring assignment (check the Resources tab for some examples) .\n",
        "\n",
        "where:\n",
        "\n",
        "first ➞ 1\n",
        "\n",
        "middle ➞ [2, 3, 4, 5]\n",
        "\n",
        "last ➞ 6\n",
        "\n",
        "Your task is to unpack the list writeyourcodehere into three variables, being first,\n",
        "middle, and last, with middle being everything in between the first and last element. Then\n",
        "print all three variables."
      ],
      "metadata": {
        "id": "Ql94b73fxUcJ"
      }
    },
    {
      "cell_type": "code",
      "source": [
        "lst = [1, 2, 3, 4, 5, 6]\n",
        "first, *middle, last = lst\n",
        "print(\"First --> \",first)\n",
        "print(\"Middle --> \",middle)\n",
        "print(\"Last --> \",last)"
      ],
      "metadata": {
        "colab": {
          "base_uri": "https://localhost:8080/"
        },
        "id": "L3Pg4Sa9wM6t",
        "outputId": "a1d7c500-8dcc-4141-f38e-9f2b68b89897"
      },
      "execution_count": null,
      "outputs": [
        {
          "output_type": "stream",
          "name": "stdout",
          "text": [
            "First -->  1\n",
            "Middle -->  [2, 3, 4, 5]\n",
            "Last -->  6\n"
          ]
        }
      ]
    },
    {
      "cell_type": "markdown",
      "source": [
        "#Question 4\n",
        "Write a function that calculates the factorial of a number recursively.\n",
        "\n",
        "Examples :\n",
        "\n",
        "factorial(5) ➞ 120\n",
        "\n",
        "factorial(3) ➞ 6\n",
        "\n",
        "factorial(1) ➞ 1\n",
        "\n",
        "factorial(0) ➞ 1"
      ],
      "metadata": {
        "id": "wr9i6904x8fz"
      }
    },
    {
      "cell_type": "code",
      "source": [
        "def factorial(n):\n",
        "    if n == 0:\n",
        "        return 1\n",
        "    else:\n",
        "        return n * factorial(n-1)\n",
        "\n",
        "print(\"Factorial of 5 --> \",factorial(5))\n",
        "print(\"Factorial of 3 --> \",factorial(3))\n",
        "print(\"Factorial of 1 --> \",factorial(1))\n",
        "print(\"Factorial of 0 --> \",factorial(0))\n"
      ],
      "metadata": {
        "id": "k5zo_Kw-wM9I",
        "colab": {
          "base_uri": "https://localhost:8080/"
        },
        "outputId": "99ac5892-109d-40fa-8755-b64e63d1d0cd"
      },
      "execution_count": 6,
      "outputs": [
        {
          "output_type": "stream",
          "name": "stdout",
          "text": [
            "Factorial of 5 -->  120\n",
            "Factorial of 3 -->  6\n",
            "Factorial of 1 -->  1\n",
            "Factorial of 0 -->  1\n"
          ]
        }
      ]
    },
    {
      "cell_type": "markdown",
      "source": [
        "#Question 5\n",
        "Write a function that moves all elements of one type to the end of the list.\n",
        "\n",
        "Examples :\n",
        "\n",
        "move_to_end([1, 3, 2, 4, 4, 1], 1) ➞ [3, 2, 4, 4, 1, 1]\n",
        "# Move all the 1s to the end of the array.\n",
        "move_to_end([7, 8, 9, 1, 2, 3, 4], 9) ➞ [7, 8, 1, 2, 3, 4, 9]\n",
        "\n",
        "move_to_end([&quot;a&quot;, &quot;a&quot;, &quot;a&quot;, &quot;b&quot;], &quot;a&quot;) ➞ [&quot;b&quot;, &quot;a&quot;, &quot;a&quot;, &quot;a&quot;]"
      ],
      "metadata": {
        "id": "zQ37N-ohyR47"
      }
    },
    {
      "cell_type": "code",
      "source": [
        "def mov_to_end(lst, el):\n",
        "    return [x for x in lst if x != el] + [x for x in lst if x == el]\n",
        "\n",
        "print(\"Output =\",mov_to_end([1, 3, 2, 4, 4, 1], 1))\n",
        "print(\"Output =\",mov_to_end([7, 8, 9, 1, 2, 3, 4], 9))\n",
        "print(\"Output =\",mov_to_end([\"a\", \"a\", \"a\", \"b\"], \"a\"))\n"
      ],
      "metadata": {
        "id": "z8kkl7nJwNBa",
        "colab": {
          "base_uri": "https://localhost:8080/"
        },
        "outputId": "aa173f5d-24a4-405e-decf-c468d61e186a"
      },
      "execution_count": 7,
      "outputs": [
        {
          "output_type": "stream",
          "name": "stdout",
          "text": [
            "Output = [3, 2, 4, 4, 1, 1]\n",
            "Output = [7, 8, 1, 2, 3, 4, 9]\n",
            "Output = ['b', 'a', 'a', 'a']\n"
          ]
        }
      ]
    },
    {
      "cell_type": "code",
      "source": [],
      "metadata": {
        "id": "fGbq60FjwNEX"
      },
      "execution_count": null,
      "outputs": []
    }
  ]
}