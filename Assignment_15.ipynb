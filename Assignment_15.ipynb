{
  "nbformat": 4,
  "nbformat_minor": 0,
  "metadata": {
    "colab": {
      "provenance": []
    },
    "kernelspec": {
      "name": "python3",
      "display_name": "Python 3"
    },
    "language_info": {
      "name": "python"
    }
  },
  "cells": [
    {
      "cell_type": "markdown",
      "source": [
        "#Q 1.How many seconds are in an hour? Use the interactive interpreter as a calculator and multiply the number of seconds in a minute (60) by the number of minutes in an hour (also 60).\n",
        "sol. 60"
      ],
      "metadata": {
        "id": "f2ZgqT0AMek_"
      }
    },
    {
      "cell_type": "code",
      "source": [
        "60*60\n"
      ],
      "metadata": {
        "colab": {
          "base_uri": "https://localhost:8080/"
        },
        "id": "IyWbFm-aN6wX",
        "outputId": "2e2344b1-ffd7-4d4f-dfaa-2c568220c68c"
      },
      "execution_count": 1,
      "outputs": [
        {
          "output_type": "execute_result",
          "data": {
            "text/plain": [
              "3600"
            ]
          },
          "metadata": {},
          "execution_count": 1
        }
      ]
    },
    {
      "cell_type": "markdown",
      "source": [
        "\n",
        "\n",
        "---\n",
        "\n"
      ],
      "metadata": {
        "id": "meV5sfmhMjJ4"
      }
    },
    {
      "cell_type": "markdown",
      "source": [
        "#Q 2. Assign the result from the previous task (seconds in an hour) to a variable called seconds_per_hour."
      ],
      "metadata": {
        "id": "fItzTa3LMoGc"
      }
    },
    {
      "cell_type": "code",
      "source": [
        "seconds_per_hour =3600"
      ],
      "metadata": {
        "id": "SgyENhtKOLvW"
      },
      "execution_count": 2,
      "outputs": []
    },
    {
      "cell_type": "markdown",
      "source": [
        "\n",
        "\n",
        "---\n",
        "\n"
      ],
      "metadata": {
        "id": "d8cqx9DjMrgs"
      }
    },
    {
      "cell_type": "markdown",
      "source": [
        "#Q 3. How many seconds do you think there are in a day? Make use of the variables seconds per hour and minutes per hour."
      ],
      "metadata": {
        "id": "CDess4_RMvxE"
      }
    },
    {
      "cell_type": "code",
      "source": [
        "seconds_per_hour*24"
      ],
      "metadata": {
        "colab": {
          "base_uri": "https://localhost:8080/"
        },
        "id": "ncNldOQTOUDN",
        "outputId": "3af68f80-f818-4110-84f8-34c4b039b39b"
      },
      "execution_count": 3,
      "outputs": [
        {
          "output_type": "execute_result",
          "data": {
            "text/plain": [
              "86400"
            ]
          },
          "metadata": {},
          "execution_count": 3
        }
      ]
    },
    {
      "cell_type": "markdown",
      "source": [
        "\n",
        "\n",
        "---\n",
        "\n"
      ],
      "metadata": {
        "id": "NU0hre4zMyyU"
      }
    },
    {
      "cell_type": "markdown",
      "source": [
        "#Q 4. Calculate seconds per day again, but this time save the result in a variable called seconds_per_day."
      ],
      "metadata": {
        "id": "IrINoWH-M2Zc"
      }
    },
    {
      "cell_type": "code",
      "source": [
        "seconds_per_day = seconds_per_hour*24\n",
        "seconds_per_day"
      ],
      "metadata": {
        "colab": {
          "base_uri": "https://localhost:8080/"
        },
        "id": "B6CgarUJOuH9",
        "outputId": "37151522-6b36-4cf0-df52-714421844057"
      },
      "execution_count": 5,
      "outputs": [
        {
          "output_type": "execute_result",
          "data": {
            "text/plain": [
              "86400"
            ]
          },
          "metadata": {},
          "execution_count": 5
        }
      ]
    },
    {
      "cell_type": "markdown",
      "source": [
        "\n",
        "\n",
        "---\n",
        "\n"
      ],
      "metadata": {
        "id": "TNKWC2JZM5Us"
      }
    },
    {
      "cell_type": "markdown",
      "source": [
        "#Q 5. Divide seconds_per_day by seconds_per_hour. Use floating-point (/) division."
      ],
      "metadata": {
        "id": "Vuzc7xQLM9v0"
      }
    },
    {
      "cell_type": "code",
      "source": [
        "seconds_per_day/seconds_per_hour"
      ],
      "metadata": {
        "colab": {
          "base_uri": "https://localhost:8080/"
        },
        "id": "hluE9VcFPBEO",
        "outputId": "7bdd3ea0-9a02-4c68-8347-12775a1b67cc"
      },
      "execution_count": 8,
      "outputs": [
        {
          "output_type": "execute_result",
          "data": {
            "text/plain": [
              "24.0"
            ]
          },
          "metadata": {},
          "execution_count": 8
        }
      ]
    },
    {
      "cell_type": "markdown",
      "source": [
        "\n",
        "\n",
        "---\n",
        "\n"
      ],
      "metadata": {
        "id": "tVxxr78QM_dU"
      }
    },
    {
      "cell_type": "markdown",
      "source": [
        "#Q 6. Divide seconds_per_day by seconds_per_hour, using integer (//) division. Did this number agree with the floating-point value from the previous question, aside from the final .0?"
      ],
      "metadata": {
        "id": "y9S71tbJNDrs"
      }
    },
    {
      "cell_type": "code",
      "source": [
        "print(seconds_per_day//seconds_per_hour)\n",
        "print(\"Yes,this value agree with the floating-point value from the previous question .\")"
      ],
      "metadata": {
        "colab": {
          "base_uri": "https://localhost:8080/"
        },
        "id": "22rIBzIjPVcW",
        "outputId": "f1d82c92-6325-4113-8151-e1e3d087c6c7"
      },
      "execution_count": 17,
      "outputs": [
        {
          "output_type": "stream",
          "name": "stdout",
          "text": [
            "24\n",
            "Yes,this value agree with the floating-point value from the previous question .\n"
          ]
        }
      ]
    },
    {
      "cell_type": "markdown",
      "source": [
        "\n",
        "\n",
        "---\n",
        "\n"
      ],
      "metadata": {
        "id": "JvRqJD4eNIB1"
      }
    },
    {
      "cell_type": "markdown",
      "source": [
        "#Q 7. Write a generator, genPrimes, that returns the sequence of prime numbers on successive calls to its next() method: 2, 3, 5, 7, 11, ..."
      ],
      "metadata": {
        "id": "k6_vqOxNNJcU"
      }
    },
    {
      "cell_type": "code",
      "source": [
        "def genPrimes():\n",
        "    n = 0\n",
        "    while True:\n",
        "        if n == 2 or n == 3 :\n",
        "            yield n\n",
        "        elif ((n-1)%6 == 0 or (n+1)%6 == 0) and n !=1:\n",
        "            yield n\n",
        "        n = n+1\n",
        "        \n",
        "output = genPrimes()\n",
        "for ele in range(5):\n",
        "    print(next(output))"
      ],
      "metadata": {
        "colab": {
          "base_uri": "https://localhost:8080/"
        },
        "id": "O7UYhYyJRAbU",
        "outputId": "c0589c18-ca58-46f1-c282-ffaa9fcafa30"
      },
      "execution_count": 15,
      "outputs": [
        {
          "output_type": "stream",
          "name": "stdout",
          "text": [
            "2\n",
            "3\n",
            "5\n",
            "7\n",
            "11\n"
          ]
        }
      ]
    },
    {
      "cell_type": "markdown",
      "source": [
        "\n",
        "\n",
        "---\n",
        "\n"
      ],
      "metadata": {
        "id": "JdTGq6e9NSb9"
      }
    }
  ]
}