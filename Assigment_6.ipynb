{
  "nbformat": 4,
  "nbformat_minor": 0,
  "metadata": {
    "colab": {
      "provenance": []
    },
    "kernelspec": {
      "name": "python3",
      "display_name": "Python 3"
    },
    "language_info": {
      "name": "python"
    }
  },
  "cells": [
    {
      "cell_type": "markdown",
      "source": [
        "#Q .1. What are escape characters, and how do you use them?\n",
        "\n",
        "#Answer ---\n",
        "\n",
        "\n",
        "\n",
        "When we want to insert characters that are illegal in a string, then we use an escape character . Escape characters or sequences are illegal characters for Python and never get printed as part of the output.\n",
        "\n",
        "For using an escape character ,simply add a backslash ( \\ ) before the character you want to escape."
      ],
      "metadata": {
        "id": "v-vyvRVxVQx_"
      }
    },
    {
      "cell_type": "markdown",
      "source": [
        "\n",
        "\n",
        "---\n",
        "\n"
      ],
      "metadata": {
        "id": "bXqIu71JCr8A"
      }
    },
    {
      "cell_type": "markdown",
      "source": [
        "#Q .2. What do the escape characters n and t stand for?\n",
        "\n",
        "#Answer ---\n",
        "Escape character n(\\n) stand for adding new line in string .\n",
        "\n",
        "Escape character t(\\t) stand for addinng tab in string ."
      ],
      "metadata": {
        "id": "6iAdP6NZCtSv"
      }
    },
    {
      "cell_type": "markdown",
      "source": [
        "\n",
        "\n",
        "---\n",
        "\n"
      ],
      "metadata": {
        "id": "OarpQVpjC0uv"
      }
    },
    {
      "cell_type": "markdown",
      "source": [
        "#Q .3. What is the way to include backslash characters in a string?\n",
        "\n",
        "#Answer ---\n",
        "For including backslash character in string ,we use \\\\\\ escape character ."
      ],
      "metadata": {
        "id": "BbuVHZEzC2T_"
      }
    },
    {
      "cell_type": "markdown",
      "source": [
        "\n",
        "\n",
        "---\n",
        "\n"
      ],
      "metadata": {
        "id": "kQ973DmVDQGA"
      }
    },
    {
      "cell_type": "markdown",
      "source": [
        "#Q .4. The string \"Howl's Moving Castle\" is a correct value. Why isn't the single quote character in the word Howl's not escaped a problem?\n",
        "\n",
        "#Answer ---\n",
        "The single quote character in (Howl's) will not create any error because of double quote at the start and at end of string ."
      ],
      "metadata": {
        "id": "cjNm5USaDRK_"
      }
    },
    {
      "cell_type": "markdown",
      "source": [
        "\n",
        "\n",
        "---\n",
        "\n"
      ],
      "metadata": {
        "id": "Fd3HHT0PDYtX"
      }
    },
    {
      "cell_type": "markdown",
      "source": [
        "#Q .5. How do you write a string of newlines if you don't want to use the n character?\n",
        "\n",
        "#Answer ---\n",
        "We can use multiline string instead of using \\n for the new line .\n"
      ],
      "metadata": {
        "id": "Mz0B_CygDavQ"
      }
    },
    {
      "cell_type": "code",
      "source": [
        "# Exammple ...\n",
        "\n",
        "print(\"hello's \\nworld!\") # Using \\n .\n",
        "\n",
        "print(\"\"\"Hello \n",
        "World\"\"\") # Using multiline string ."
      ],
      "metadata": {
        "colab": {
          "base_uri": "https://localhost:8080/"
        },
        "id": "J5vTzJC_QbZT",
        "outputId": "cc5913ad-741a-4872-d757-0809c868c913"
      },
      "execution_count": 13,
      "outputs": [
        {
          "output_type": "stream",
          "name": "stdout",
          "text": [
            "hello \n",
            "world!\n",
            "Hello \n",
            "World\n"
          ]
        }
      ]
    },
    {
      "cell_type": "markdown",
      "source": [
        "\n",
        "\n",
        "---\n",
        "\n"
      ],
      "metadata": {
        "id": "fWBHsksmDmmm"
      }
    },
    {
      "cell_type": "markdown",
      "source": [
        "#Q .6. What are the values of the given expressions?\n",
        "\n",
        "'Hello, world!'[1]\n",
        "\n",
        "'Hello, world!'[0:5]\n",
        "\n",
        "'Hello, world!'[:5]\n",
        "\n",
        "'Hello, world!'[3:]\n",
        "\n",
        "#Answer ---\n",
        "'Hello, world!'[1] = 'e'\n",
        "\n",
        "'Hello, world!'[0:5] = 'Hello'\n",
        "\n",
        "'Hello, world!'[:5] = 'Hello'\n",
        "\n",
        "'Hello, world!'[3:] = 'lo, world!'"
      ],
      "metadata": {
        "id": "e9ISq06ODoP8"
      }
    },
    {
      "cell_type": "markdown",
      "source": [
        "\n",
        "\n",
        "---\n",
        "\n"
      ],
      "metadata": {
        "id": "IL9TvKuYD42_"
      }
    },
    {
      "cell_type": "markdown",
      "source": [
        "#Q .7. What are the values of the following expressions?\n",
        "'Hello'.upper()\n",
        "\n",
        "'Hello'.upper().isupper()\n",
        "\n",
        "'Hello'.upper().lower()\n",
        "\n",
        "#Answer ---\n",
        "'Hello'.upper() = 'HELLO'\n",
        "\n",
        "'Hello'.upper().isupper() = True\n",
        "\n",
        "'Hello'.upper().lower() = 'hello'\n"
      ],
      "metadata": {
        "id": "h_e1rxrtD6dO"
      }
    },
    {
      "cell_type": "markdown",
      "source": [
        "\n",
        "\n",
        "---\n",
        "\n"
      ],
      "metadata": {
        "id": "AKNS4aXBEH2W"
      }
    },
    {
      "cell_type": "markdown",
      "source": [
        "#Q .8. What are the values of the following expressions?\n",
        "'Remember, remember, the fifth of July.'.split()\n",
        "\n",
        "'-'.join('There can only one.'.split())\n",
        "\n",
        "#Answer ---\n",
        " ['Remember,', 'remember,', 'the', 'fifth', 'of', 'July.']\n",
        "\n",
        " There-can-only-one."
      ],
      "metadata": {
        "id": "TXeU21p-EI0_"
      }
    },
    {
      "cell_type": "markdown",
      "source": [
        "\n",
        "\n",
        "---\n",
        "\n"
      ],
      "metadata": {
        "id": "4CSX8CwjETtn"
      }
    },
    {
      "cell_type": "markdown",
      "source": [
        "#Q .9. What are the methods for right-justifying, left-justifying, and centering a string?\n",
        "\n",
        "#Answer ---\n",
        "The methods for right-justifying, left-justifying, and centering a string are following :\n",
        "\n",
        "rjust() =  for right-justifying ,\n",
        "\n",
        "ljust() = for left-justifying ,\n",
        "\n",
        "and centre() = for centering ."
      ],
      "metadata": {
        "id": "ti9pA9XdEV12"
      }
    },
    {
      "cell_type": "markdown",
      "source": [
        "#Q .10. What is the best way to remove whitespace characters from the start or end?\n",
        "\n",
        "#Answer ---\n",
        "Method to remove whitespace character from the start or end :\n",
        "\n",
        ".rstrip() = It removes whitespace from end of string .\n",
        "\n",
        ".lstrip() = It removes whitespace from begining of string .\n",
        "\n",
        ".strip() = It removes whitespace from both sides ."
      ],
      "metadata": {
        "id": "8IbXOhBkEjG_"
      }
    },
    {
      "cell_type": "markdown",
      "source": [
        "\n",
        "\n",
        "---\n",
        "\n"
      ],
      "metadata": {
        "id": "FJzvOL0FErou"
      }
    }
  ]
}
